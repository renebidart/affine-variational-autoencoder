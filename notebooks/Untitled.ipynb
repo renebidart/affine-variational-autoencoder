{
 "cells": [
  {
   "cell_type": "code",
   "execution_count": 8,
   "metadata": {},
   "outputs": [],
   "source": [
    "import math\n",
    "import torch\n",
    "import torch.nn.functional as F"
   ]
  },
  {
   "cell_type": "code",
   "execution_count": 16,
   "metadata": {},
   "outputs": [
    {
     "data": {
      "text/plain": [
       "torch.Size([4, 3])"
      ]
     },
     "execution_count": 16,
     "metadata": {},
     "output_type": "execute_result"
    }
   ],
   "source": [
    "bs = 4\n",
    "num_times = 3\n",
    "\n",
    "theta = torch.cuda.FloatTensor(bs, num_times).uniform_(-2*math.pi, 2*math.pi)\n",
    "theta.size()"
   ]
  },
  {
   "cell_type": "code",
   "execution_count": 17,
   "metadata": {},
   "outputs": [
    {
     "data": {
      "text/plain": [
       "tensor([[ 0.9125, -0.1891,  2.9738],\n",
       "        [-2.4983,  2.6992, -3.6095],\n",
       "        [ 4.1634, -0.7567,  5.3889],\n",
       "        [-5.0231,  3.9957,  0.6091]], device='cuda:0')"
      ]
     },
     "execution_count": 17,
     "metadata": {},
     "output_type": "execute_result"
    }
   ],
   "source": [
    "theta= torch.cuda.FloatTensor(bs, num_times)\n",
    "theta"
   ]
  },
  {
   "cell_type": "code",
   "execution_count": 15,
   "metadata": {},
   "outputs": [
    {
     "data": {
      "text/plain": [
       "tensor([[[ 0.6117, -0.8002, -0.5218],\n",
       "         [ 0.3057,  0.7911, -0.5998]],\n",
       "\n",
       "        [[-0.8531,  0.9521,  0.0000],\n",
       "         [ 0.0000,  0.0000,  0.0000]],\n",
       "\n",
       "        [[-0.7911,  0.5998,  0.8531],\n",
       "         [-0.9521,  0.6117, -0.8002]],\n",
       "\n",
       "        [[-0.5218,  0.3057,  0.0000],\n",
       "         [ 0.0000,  0.0000,  0.0000]]], device='cuda:0',\n",
       "       grad_fn=<ViewBackward>)"
      ]
     },
     "execution_count": 15,
     "metadata": {},
     "output_type": "execute_result"
    }
   ],
   "source": [
    "\n",
    "affine_params = torch.cat([torch.cos(theta[:, 0]), torch.sin(theta[:, 0]), \n",
    "                           torch.tensor([0.0 for i in range(bs)], requires_grad=True, device=\"cuda\"), \n",
    "                           -1*torch.sin(theta[:, 0]), torch.cos(theta[:, 0]),\n",
    "                           torch.tensor([0.0 for i in range(bs)], requires_grad=True, device=\"cuda\")]).view(-1, 2, 3)\n",
    "\n",
    "affine_params"
   ]
  },
  {
   "cell_type": "code",
   "execution_count": null,
   "metadata": {},
   "outputs": [],
   "source": [
    "def vae_loss(output, target, KLD_weight=KLD_weight):\n",
    "    \"\"\"loss is BCE + KLD. target is original x\"\"\"\n",
    "    recon_x, mu_logvar  = output\n",
    "    mu = mu_logvar[:, 0:int(mu_logvar.size()[1]/2)]\n",
    "    logvar = mu_logvar[:, int(mu_logvar.size()[1]/2):]\n",
    "    KLD = -0.5 * torch.sum(1 + 2 * logvar - mu.pow(2) - (2 * logvar).exp())\n",
    "    BCE = F.mse_loss(recon_x, target, reduction='sum')\n",
    "    loss = BCE + KLD_weight*KLD\n",
    "    return loss\n"
   ]
  }
 ],
 "metadata": {
  "kernelspec": {
   "display_name": "HVAE",
   "language": "python",
   "name": "hvae"
  },
  "language_info": {
   "codemirror_mode": {
    "name": "ipython",
    "version": 3
   },
   "file_extension": ".py",
   "mimetype": "text/x-python",
   "name": "python",
   "nbconvert_exporter": "python",
   "pygments_lexer": "ipython3",
   "version": "3.6.7"
  }
 },
 "nbformat": 4,
 "nbformat_minor": 2
}
