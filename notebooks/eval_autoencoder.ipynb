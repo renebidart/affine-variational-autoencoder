{
 "cells": [
  {
   "cell_type": "markdown",
   "metadata": {},
   "source": [
    "# Test out VAEs\n",
    "\n",
    "## Outline\n",
    "Is equivariance to affine transfroms really useful?\n",
    "In this work we investigate the usefulness of directly encoding an affine transfrom layer into a generative model. We show that training using data sugmentation requires much more model parameters?????? and show a way to trade off approximately using a transfrom, and computing the optimal transfrom, based on the observation that the optimal transfrom should be the one that reduces the reconstruction error of the VAE.\n",
    "\n",
    "#### VAEs perfrom poorly on affine transforms\n",
    "VAEs perfrom poorly for reconstructing data that has been transformed by a simple, but out of training set affine transfrom. ??? From this, can we assume that the generative model is not able to create these? Saying it gets low reconstruction error on a sample isn't statistical enough. Possibly: The fact that the reconstruction loss is higher here, as shown also by these examples, indicates that the model is unable to properly conpute p(z|x) using the encoder. EXAMPLE: graph of worse performance on rotated images.\n",
    "\n",
    "#### Augmentation takes more latent vectors than it should to do this / intrinsic dimension\n",
    "This is to be expected of course, normally this is the reason data augmentation is used. Unfortunately, for this a more complex model is needed (EXAMPLE REALLY NEEDED HERE). As shown by the reconstruction error performance, the model trained on rotated data needs a larger latent space than the model only using one orientation. INTRINSIC DIMENSION???\n",
    "\n",
    "In the ideal case, the rotation could be parametrized by only one parameter, theta, yet here we see that it takes the model xxxx extra parameters to overcom this issue. It would be nicer to have a model that would automatically handle these simple affine transforms. We know how to represent a transfrom that explicitly does, this, so we can directly encode it into the model.\n",
    "\n",
    "#### STN et al?? is only approximate. We can compute it (mostly) exactly\n",
    "The Spatial Transformer network was designed to overcome these issues for the problem of classification. Here an affine transfrom is applied to the input image, where the parameters of this transform are computed based off of another neural network. This means that the spatial transfromer has no way to evaluate if the transfrom it applied was optimal. In the case of the VAE, we could say that the spatial transfromer approximates the optimal transform (EXAMPLES of stn performing well, as well as poorly.) We see that the transfromation learned by the STN differs by the optimal transfrom by xxx degrees, and it is associated with a \"\"Loss\"\" of xxxx more.\n",
    "\n",
    "We see that the optimal transform learned by the random/explicit optimization is on average xxx far from the true rotation, and achieves a loss of XXX from the optimal loss. Can we prove that this converges under some conditions? Maybe based on the paper the Neuroscience person presented??? Or just assume with enough random restarts we will get sufficiently close to the true optium that it will be locally convex? Is this how NNs work? Either way probably not practically relevant.\n",
    "\n",
    "We also investigate using more general affine transfroms:\n",
    "\n",
    "#### The tradeoff between exact invariance and approximate and data augmentation based ???non-equivariance.\n",
    "\n",
    "\n",
    "# TODO\n",
    "1. Plot rotated and non rotated performance for vae\n",
    "2. FIgure out if we should evaluate this stuff deterministically - Figure out exactly how to phrase the loss\n",
    "3. proabably should switch up format of the evaluation function\n",
    "4. padding within the model must be changeable from zero to whatever 0 is after the thing is normalized, because that's how it is trained.\n",
    "\n"
   ]
  },
  {
   "cell_type": "code",
   "execution_count": 28,
   "metadata": {},
   "outputs": [],
   "source": [
    "import os\n",
    "import sys\n",
    "import json\n",
    "import math\n",
    "import random\n",
    "import pickle\n",
    "import numpy as np\n",
    "import pandas as pd\n",
    "from tqdm import tqdm\n",
    "from pathlib import Path\n",
    "import matplotlib.pyplot as plt\n",
    "from matplotlib.pyplot import imshow\n",
    "from IPython.display import display, HTML\n",
    "\n",
    "%reload_ext autoreload\n",
    "%autoreload 2\n",
    "%matplotlib inline\n",
    "\n",
    "import torch\n",
    "import torch.nn.functional as F\n",
    "from torchvision import transforms\n",
    "import torchvision.transforms.functional as TF\n",
    "from PIL import Image, ImageOps\n",
    "\n",
    "# Nicer way to import the module?\n",
    "sys.path.append(str(Path.cwd().parent))\n",
    "\n",
    "from utils.display import read_img_to_np, torch_to_np\n",
    "from utils.norms import MNIST_norm\n",
    "import model.model as module_arch\n",
    "import data_loader.data_loaders as module_data\n",
    "import model.loss as module_loss\n",
    "import model.metric as module_metric\n",
    "device = torch.device(\"cuda:1\")\n",
    "\n",
    "from data_loader.data_loaders import make_generators_MNIST, make_generators_MNIST_CTRNFS"
   ]
  },
  {
   "cell_type": "code",
   "execution_count": 11,
   "metadata": {},
   "outputs": [],
   "source": [
    "def get_model_loaders_config(PATH, old_gpu='cuda:0', new_gpu='cuda:1'):\n",
    "    \"\"\"PATH: path to dir where training results of a run are saved\"\"\"\n",
    "    PATH = Path(PATH)\n",
    "    config_loc = PATH / 'config.json'\n",
    "    weight_path = PATH / 'model_best.pth'\n",
    "    config = json.load(open(config_loc))\n",
    "    \n",
    "    \n",
    "    def get_instance(module, name, config, *args):\n",
    "        return getattr(module, config[name]['type'])(*args, **config[name]['args'])\n",
    "\n",
    "    data_loader = get_instance(module_data, 'data_loader', config)['train']\n",
    "    valid_data_loader = get_instance(module_data, 'data_loader', config)['val']\n",
    "    model = get_instance(module_arch, 'arch', config)\n",
    "    model = model.to(torch.device(new_gpu))\n",
    "    checkpoint = torch.load(weight_path, map_location={'cuda:0': 'cuda:1'})\n",
    "    state_dict = checkpoint['state_dict']\n",
    "    \n",
    "    if config['n_gpu'] > 1:\n",
    "        model = torch.nn.DataParallel(model)\n",
    "\n",
    "    model.load_state_dict(state_dict)\n",
    "    model = model.to(device).eval()\n",
    "    \n",
    "    loss_fn = get_instance(module_loss, 'loss', config)\n",
    "    metric_fns = [getattr(module_metric, met) for met in config['metrics']]\n",
    "    \n",
    "    return model, data_loader, valid_data_loader, loss_fn, metric_fns, config\n",
    "\n",
    "\n",
    "def display_batch(x, recon_x):\n",
    "    \"\"\"Display tensor images\"\"\"\n",
    "    fig, ax = plt.subplots(x.size()[0], 2, sharex='col', sharey='row',figsize=(10,10))\n",
    "    for i in range(x.size()[0]):\n",
    "        ax[i, 0].imshow(torch_to_np(x[i]), cmap='Greys',  interpolation='nearest')\n",
    "        ax[i, 1].imshow(torch_to_np(recon_x[i]), cmap='Greys',  interpolation='nearest')\n",
    "        ax[i, 0].axis('off')\n",
    "        ax[i, 1].axis('off')\n",
    "\n",
    "        \n",
    "def visualize_dataloader(data_loader, device, num_samples=6, bw=True):\n",
    "    \"\"\"Randomly sample from dataloader and display\"\"\"\n",
    "    with torch.cuda.device(device.index):\n",
    "        fig, ax = plt.subplots(int(num_samples/2), 2, sharex='col', sharey='row',figsize=(10,10))\n",
    "        for i in range(0, int(num_samples/2)):\n",
    "            # sample randomly from the nth batch for the nth row of imgs\n",
    "            data, label = next(iter(data_loader))\n",
    "            tensor_img = data[random.randint(0, data.size()[0]),:, :, :]\n",
    "            ax[i, 0].imshow(torch_to_np(tensor_img), cmap='Greys',  interpolation='nearest')\n",
    "            tensor_img = data[random.randint(0, data.size()[0]), :, :, :]\n",
    "            ax[i, 1].imshow(torch_to_np(tensor_img), cmap='Greys',  interpolation='nearest')\n",
    "            print(f'tensor_img size: {tensor_img.size()}')\n",
    "            print(f'Max: {torch.max(tensor_img)}, Min: {torch.min(tensor_img)}')\n",
    "            ax[i, 0].axis('off')\n",
    "            ax[i, 1].axis('off')\n",
    "    \n",
    "\n",
    "def display_results_auto(vae_model, config, device, rotate=0, pad = 6,\n",
    "                         norm=None, num_samples=3, data='bw', size = 28, label_col_name='label', save_loc=None):\n",
    "    \"\"\" QUESTIONABLE, REDO IT\"\"\"\n",
    "    with torch.cuda.device(device.index): # ??? Why the fuck???        \n",
    "        files_dict_loc = config['data_loader']['args']['files_dict_loc']\n",
    "        with open(files_dict_loc, 'rb') as f:\n",
    "            files_df = pickle.load(f)['train']\n",
    "            \n",
    "        if label_col_name:\n",
    "            all_labels = files_df[label_col_name].unique()\n",
    "        else:\n",
    "            all_labels = list(range(num_samples))\n",
    "        row_names = []\n",
    "        col_names = ['Original', \"Reconstructed\"]\n",
    "\n",
    "        fig, ax = plt.subplots(num_samples, 2, sharex='col', sharey='row',figsize=(10,10))\n",
    "\n",
    "        for i, label in enumerate(all_labels[0:num_samples]):\n",
    "            if label_col_name:\n",
    "                sample_df = files_df.loc[files_df[label_col_name] == label].sample(n=1)\n",
    "                label = sample_df[label_col_name].iloc[0]\n",
    "                row_names.append(label)\n",
    "            else:\n",
    "                sample_df = files_df.sample(n=1)\n",
    "            img_path = sample_df['path'].iloc[0]\n",
    "\n",
    "            if data == 'bw': # Assume MNIST\n",
    "                img = read_img_to_np(img_path, bw=True)\n",
    "                transform = transforms.Compose([\n",
    "                                                transforms.RandomRotation((rotate, rotate), expand=True),\n",
    "                                                transforms.Resize(size),\n",
    "                                                transforms.Pad((pad, pad)),\n",
    "                                                transforms.ToTensor(),\n",
    "                                                transforms.Normalize(*MNIST_norm)])\n",
    "            else:\n",
    "                img = read_img_to_np(img_path, bw=False, size=size)\n",
    "                transform = transforms.Compose([\n",
    "                                                transforms.RandomRotation((rotate, rotate), expand=True),\n",
    "                                                transforms.Resize(size),\n",
    "                                                transforms.ToTensor(),\n",
    "                                                transforms.Normalize(*norm)])\n",
    "\n",
    "            tensor_img = transform(Image.open(img_path)).unsqueeze(0).to(device)\n",
    "            tensor_label = torch.from_numpy(np.array(label)).unsqueeze(0).type(torch.LongTensor).to(device)\n",
    "            print(tensor_img.size())\n",
    "\n",
    "            output = vae_model(tensor_img,  deterministic=False)\n",
    "            recon_x = output[0]\n",
    "            \n",
    "            ax[i, 0].imshow(torch_to_np(tensor_img), cmap='Greys',  interpolation='nearest')\n",
    "            ax[i, 1].imshow(torch_to_np(recon_x), cmap='Greys',  interpolation='nearest')\n",
    "            ax[i, 0].axis('off')\n",
    "            ax[i, 1].axis('off')\n",
    "\n",
    "        for curr_ax, col in zip(ax[0], col_names):\n",
    "            curr_ax.set_title(col)\n",
    "        if label_col_name:\n",
    "            for curr_ax, row in zip(ax[:,0], row_names):\n",
    "                curr_ax.set_ylabel(row, rotation=0, size='large')\n",
    "        if save_loc:\n",
    "            plt.savefig(save_loc, bbox_inches='tight')"
   ]
  },
  {
   "cell_type": "code",
   "execution_count": 12,
   "metadata": {},
   "outputs": [],
   "source": [
    "def get_vae_MNIST_perf(model, data_loader, loss_fn, metric_fns, device, fixed_rotation, return_size):\n",
    "    \"\"\"Evaluate performance on MNIST Dataset using a given rotation\n",
    "    \n",
    "    Dataloader should be MNISTCustomTRNFS with size=28x28, unnormalized, not rotated\"\"\"\n",
    "    \n",
    "    def pad_to_size(img, new_size):\n",
    "        delta_width = new_size - img.size()[1]\n",
    "        delta_height = new_size - img.size()[2]\n",
    "        pad_width = delta_width //2\n",
    "        pad_height = delta_height //2\n",
    "        img = F.pad(img, (pad_height, pad_height, pad_width, pad_width), 'constant', 0)\n",
    "        return img\n",
    "\n",
    "    with torch.cuda.device(device.index):\n",
    "        model = model.to(device)\n",
    "        model.eval()\n",
    "\n",
    "        total_loss = 0.0\n",
    "        total_metrics = torch.zeros(len(metric_fns))\n",
    "\n",
    "        with torch.no_grad():\n",
    "            for i, (data, target) in enumerate(tqdm(data_loader)):\n",
    "                batch_size = data.shape[0]\n",
    "                new_data = torch.zeros((batch_size, 1, return_size, return_size))\n",
    "                for i in range(batch_size):\n",
    "                    img = TF.to_pil_image(data[i, :, :])\n",
    "                    if fixed_rotation:\n",
    "                        img = TF.rotate(img, fixed_rotation)\n",
    "\n",
    "                    img = transforms.ToTensor()(img)\n",
    "                    if return_size:\n",
    "                        img = pad_to_size(img, return_size)\n",
    "                    img = transforms.Normalize((0.1307,), (0.3081,))(img)# this is wrong norm because imgs are padded\n",
    "                    new_data[i, :, :, :] = img\n",
    "                \n",
    "                new_data, target = new_data.to(device), target.to(device)                \n",
    "                output = model(new_data, deterministic=True)\n",
    "\n",
    "                # computing loss, metrics on test set\n",
    "                loss = loss_fn(output, new_data)\n",
    "                total_loss += loss.item() * batch_size\n",
    "                for i, metric in enumerate(metric_fns):\n",
    "                    total_metrics[i] += metric(output, new_data) * batch_size\n",
    "\n",
    "        n_samples = len(data_loader.sampler)\n",
    "        log = {'loss': total_loss / n_samples}\n",
    "        log.update({met.__name__ : total_metrics[i].item() / n_samples for i, met in enumerate(metric_fns)})\n",
    "        return log"
   ]
  },
  {
   "cell_type": "markdown",
   "metadata": {},
   "source": [
    "## Visualize Dataloader"
   ]
  },
  {
   "cell_type": "code",
   "execution_count": 13,
   "metadata": {},
   "outputs": [
    {
     "name": "stdout",
     "output_type": "stream",
     "text": [
      "tensor_img size: torch.Size([1, 28, 28])\n",
      "Max: 0.9960784316062927, Min: 0.0\n",
      "tensor_img size: torch.Size([1, 28, 28])\n",
      "Max: 1.0, Min: 0.0\n",
      "tensor_img size: torch.Size([1, 28, 28])\n",
      "Max: 1.0, Min: 0.0\n"
     ]
    },
    {
     "data": {
      "image/png": "[encoded data removed]",
      "text/plain": [
       "<Figure size 720x720 with 6 Axes>"
      ]
     },
     "metadata": {},
     "output_type": "display_data"
    }
   ],
   "source": [
    "PATH = '/media/rene/data/equivariance/mnist_tmp/0125_234629'\n",
    "model, data_loader, valid_data_loader, loss_fn, metric_fns, config = get_model_loaders_config(PATH, old_gpu='cuda:1', new_gpu='cuda:1')\n",
    "visualize_dataloader(data_loader, device, num_samples=6, bw=True)"
   ]
  },
  {
   "cell_type": "markdown",
   "metadata": {},
   "source": [
    "## Check normalization\n",
    "* Without normalization padding =0, must be equivalent"
   ]
  },
  {
   "cell_type": "code",
   "execution_count": 21,
   "metadata": {},
   "outputs": [
    {
     "name": "stdout",
     "output_type": "stream",
     "text": [
      "Loader from config: Max: 2.821486711502075, Min: -0.4242129623889923\n",
      "MNIST Loader no Norm: Max: 1.0, Min: 0.0\n",
      "MNIST Loader w/ Norm: Max: 2.821486711502075, Min: -0.4242129623889923\n",
      "Expected MNIST norm: Max: 2.82148653034729, Min: -0.424212917883804\n"
     ]
    }
   ],
   "source": [
    "config_loc = '/media/rene/data/equivariance/mnist_tmp/0125_234629'\n",
    "VAE, data_loader, valid_data_loader, loss_fn, metric_fns, config = get_model_loaders_config(config_loc, old_gpu='cuda:1', new_gpu='cuda:1')\n",
    "x, y = next(iter(valid_data_loader))\n",
    "print(f'Loader from config: Max: {torch.max(x)}, Min: {torch.min(x)}')\n",
    "\n",
    "files_dict_loc = '/media/rene/data/MNIST/files_dict.pkl'\n",
    "with open(files_dict_loc, 'rb') as f:\n",
    "    files_df = pickle.load(f)['val']\n",
    "data_loaders = make_generators_MNIST_CTRNFS(files_dict_loc, batch_size=128, num_workers=4, \n",
    "                                            return_size=28, rotation_range=None, normalize=False)\n",
    "x, y = next(iter(data_loaders['val']))\n",
    "print(f'MNIST Loader no Norm: Max: {torch.max(x)}, Min: {torch.min(x)}')\n",
    "\n",
    "data_loaders = make_generators_MNIST_CTRNFS(files_dict_loc, batch_size=128, num_workers=4, \n",
    "                                            return_size=28, rotation_range=None, normalize=True)\n",
    "x, y = next(iter(data_loaders['val']))\n",
    "print(f'MNIST Loader w/ Norm: Max: {torch.max(x)}, Min: {torch.min(x)}')\n",
    "\n",
    "print(f'Expected MNIST norm: Max: {(1-0.1307)/0.3081}, Min: {-0.1307/0.3081}')"
   ]
  },
  {
   "cell_type": "markdown",
   "metadata": {},
   "source": [
    "## ???? REDO? MNIST - Check Autoencoder"
   ]
  },
  {
   "cell_type": "code",
   "execution_count": 24,
   "metadata": {},
   "outputs": [
    {
     "name": "stdout",
     "output_type": "stream",
     "text": [
      "torch.Size([1, 1, 40, 40])\n",
      "torch.Size([1, 1, 40, 40])\n",
      "torch.Size([1, 1, 40, 40])\n"
     ]
    },
    {
     "data": {
      "image/png": "[encoded data removed]",
      "text/plain": [
       "<Figure size 720x720 with 6 Axes>"
      ]
     },
     "metadata": {},
     "output_type": "display_data"
    }
   ],
   "source": [
    "config_loc = '/media/rene/data/equivariance/mnist_tmp/0125_234629'\n",
    "model, data_loader, valid_data_loader, loss_fn, metric_fns, config = get_model_loaders_config(config_loc, old_gpu='cuda:1', new_gpu='cuda:1')\n",
    "display_results_auto(model, config, device, rotate=0, num_samples=3, label_col_name='class', save_loc=None)"
   ]
  },
  {
   "cell_type": "markdown",
   "metadata": {},
   "source": [
    "## Performance on rotated images\n",
    "* Test the performance on rotated samples \n",
    "* Model was not trained with rotation"
   ]
  },
  {
   "cell_type": "code",
   "execution_count": 27,
   "metadata": {},
   "outputs": [
    {
     "name": "stderr",
     "output_type": "stream",
     "text": [
      "100%|██████████| 79/79 [00:08<00:00,  9.84it/s]\n",
      "100%|██████████| 79/79 [00:07<00:00, 11.11it/s]\n",
      "100%|██████████| 79/79 [00:10<00:00,  7.90it/s]\n",
      "100%|██████████| 79/79 [00:08<00:00,  9.24it/s]\n",
      "100%|██████████| 79/79 [00:08<00:00,  8.80it/s]\n",
      "100%|██████████| 79/79 [00:08<00:00,  8.86it/s]\n",
      "100%|██████████| 79/79 [00:07<00:00, 10.14it/s]\n",
      "100%|██████████| 79/79 [00:08<00:00,  9.34it/s]\n",
      "100%|██████████| 79/79 [00:07<00:00, 11.03it/s]\n",
      "100%|██████████| 79/79 [00:07<00:00,  9.90it/s]\n",
      "100%|██████████| 79/79 [00:09<00:00,  8.42it/s]\n",
      "100%|██████████| 79/79 [00:08<00:00,  9.03it/s]\n"
     ]
    },
    {
     "data": {
      "image/png": "[encoded data removed]",
      "text/plain": [
       "<Figure size 432x288 with 1 Axes>"
      ]
     },
     "metadata": {},
     "output_type": "display_data"
    }
   ],
   "source": [
    "config_loc = '/media/rene/data/equivariance/mnist_tmp/0125_234629'\n",
    "model, data_loader, valid_data_loader, loss_fn, metric_fns, config = get_model_loaders_config(config_loc, old_gpu='cuda:1', new_gpu='cuda:1')\n",
    "\n",
    "\n",
    "files_dict_loc = '/media/rene/data/MNIST/files_dict.pkl'\n",
    "with open(files_dict_loc, 'rb') as f:\n",
    "    files_df = pickle.load(f)['val']\n",
    "data_loaders = make_generators_MNIST_CTRNFS(files_dict_loc, batch_size=128, num_workers=4, \n",
    "                                            return_size=28, rotation_range=None, normalize=False)\n",
    "\n",
    "results = pd.DataFrame()\n",
    "for rotation in range(0, 180, 15):\n",
    "    log = get_vae_MNIST_perf(model, data_loaders['val'], loss_fn, metric_fns, device, \n",
    "                             fixed_rotation=rotation, return_size=40)\n",
    "    log['rotation'] = rotation\n",
    "    results = results.append(log, ignore_index=True)\n",
    "    \n",
    "fig, ax = plt.subplots()\n",
    "ax.plot(results['rotation'], results['loss'])\n",
    "\n",
    "ax.set(xlabel='Rotation (degrees)', ylabel='Loss (KLD + BCE , is this likelihood)',\n",
    "       title='Autoencoding Performance vs. Rotation')\n",
    "plt.show()"
   ]
  },
  {
   "cell_type": "markdown",
   "metadata": {},
   "source": [
    "## How big should the latent size be for rotated and unrotated?\n",
    "* Look at the average performace over 5 runs for each latent size, for both the rotated and unrotated models\n",
    "* Both VAEs evaluated on same unrotated set, idea is that the limited model capicity will hurt reconstruction error for all rotations equally, and by fixing it at one rotation we are able to better compare the two models.\n",
    "\n",
    "## ??? Should we be evaluating deterministically or not?"
   ]
  },
  {
   "cell_type": "code",
   "execution_count": 25,
   "metadata": {},
   "outputs": [
    {
     "name": "stderr",
     "output_type": "stream",
     "text": [
      "100%|██████████| 79/79 [00:06<00:00, 12.96it/s]\n",
      "100%|██████████| 79/79 [00:07<00:00, 10.76it/s]\n",
      "100%|██████████| 79/79 [00:06<00:00, 11.82it/s]\n",
      "100%|██████████| 79/79 [00:07<00:00, 10.82it/s]\n",
      "100%|██████████| 79/79 [00:07<00:00, 11.08it/s]\n",
      "100%|██████████| 79/79 [00:06<00:00, 11.31it/s]\n",
      "100%|██████████| 79/79 [00:05<00:00, 13.85it/s]\n",
      "100%|██████████| 79/79 [00:05<00:00, 14.30it/s]\n",
      "100%|██████████| 79/79 [00:07<00:00, 10.55it/s]\n",
      "100%|██████████| 79/79 [00:06<00:00, 11.52it/s]\n",
      "100%|██████████| 79/79 [00:07<00:00, 10.76it/s]\n",
      "100%|██████████| 79/79 [00:07<00:00, 10.97it/s]\n",
      "100%|██████████| 79/79 [00:06<00:00, 11.88it/s]\n",
      "100%|██████████| 79/79 [00:05<00:00, 14.26it/s]\n"
     ]
    },
    {
     "data": {
      "image/png": "[encoded data removed]",
      "text/plain": [
       "<Figure size 432x288 with 1 Axes>"
      ]
     },
     "metadata": {},
     "output_type": "display_data"
    }
   ],
   "source": [
    "files_dict_loc = '/media/rene/data/MNIST/files_dict.pkl'\n",
    "with open(files_dict_loc, 'rb') as f:\n",
    "    files_df = pickle.load(f)['val']\n",
    "# this is the standard dataloader returning unaugmented unnormalized mnist 28x28\n",
    "data_loaders = make_generators_MNIST_CTRNFS(files_dict_loc, batch_size=128, num_workers=4, \n",
    "                                            return_size=28, fixed_rotation=None, normalize=False)\n",
    "\n",
    "latent_list = [32, 28, 24, 20, 16, 14, 12, 10, 8, 6]\n",
    "results = pd.DataFrame()\n",
    "\n",
    "for i, latent_size in enumerate(latent_list):\n",
    "    loc = '/media/rene/data/equivariance/mnist/vae_mnist_L' + str(latent_size)\n",
    "    tmp_loss_list = []\n",
    "    for file_path in list(Path(loc).glob('**/*config.json')):\n",
    "        # get the model (ignore this dataloader, always use same one)\n",
    "        config_loc = file_path.parent\n",
    "        model, __data_loader, __valid_data_loader, loss_fn, metric_fns, config = get_model_loaders_config(config_loc, old_gpu='cuda:1', new_gpu='cuda:1')\n",
    "        tmp_log = get_vae_MNIST_perf(model, data_loaders['val'], loss_fn, metric_fns, device, \n",
    "                                     fixed_rotation=None, return_size=40)\n",
    "        tmp_loss_list.append(tmp_log['loss'])\n",
    "    \n",
    "    log['latent_size'] = latent_size \n",
    "    log['loss'] = np.mean(tmp_loss_list)\n",
    "    results = results.append(log, ignore_index=True)\n",
    "    \n",
    "\n",
    "### !!! ??? ADD IN EXACT SAME THING FOR THE ROTATED DATASET AND PUT IN THE PLOT AS ANOTHER LINESS\n",
    "    \n",
    "\n",
    "fig, ax = plt.subplots()\n",
    "ax.plot(results['latent_size'], results['loss'])\n",
    "\n",
    "ax.set(xlabel='latent_size', ylabel='Loss (KLD + BCE , is this likelihood)',\n",
    "       title='Autoencoding Performance vs. latent_size')\n",
    "plt.show()"
   ]
  },
  {
   "cell_type": "markdown",
   "metadata": {},
   "source": [
    "### No data augmentation"
   ]
  },
  {
   "cell_type": "code",
   "execution_count": 18,
   "metadata": {},
   "outputs": [
    {
     "name": "stderr",
     "output_type": "stream",
     "text": [
      "100%|██████████| 79/79 [00:07<00:00, 10.85it/s]\n",
      "100%|██████████| 79/79 [00:06<00:00, 11.42it/s]\n",
      "100%|██████████| 79/79 [00:05<00:00, 14.16it/s]\n",
      "100%|██████████| 79/79 [00:05<00:00, 14.30it/s]\n",
      "100%|██████████| 79/79 [00:07<00:00, 10.37it/s]\n",
      "100%|██████████| 79/79 [00:07<00:00, 10.84it/s]\n",
      "100%|██████████| 79/79 [00:06<00:00, 11.88it/s]\n",
      "100%|██████████| 79/79 [00:06<00:00, 11.42it/s]\n",
      "100%|██████████| 79/79 [00:07<00:00, 11.25it/s]\n",
      "100%|██████████| 79/79 [00:05<00:00, 13.97it/s]\n"
     ]
    },
    {
     "data": {
      "image/png": "[encoded data removed]",
      "text/plain": [
       "<Figure size 432x288 with 1 Axes>"
      ]
     },
     "metadata": {},
     "output_type": "display_data"
    }
   ],
   "source": [
    "# ???！！！ Delete \n",
    "\n",
    "PATH = '/media/rene/data/equivariance/mnist/vae_mnist_L32/0125_234629'\n",
    "\n",
    "# this is the standard dataloader returning unaugmented unnormalized mnist\n",
    "data_loaders = make_generators_MNIST_CTRNFS(files_dict_loc, batch_size=128, num_workers=4, \n",
    "                                            return_size=28, fixed_rotation=None, normalize=False)\n",
    "config_loc_list = [\n",
    "                   '/media/rene/data/equivariance/mnist/vae_mnist_L32/0125_234629',\n",
    "                   '/media/rene/data/equivariance/mnist/vae_mnist_L28/0125_230835',\n",
    "                   '/media/rene/data/equivariance/mnist/vae_mnist_L24/0125_224234',\n",
    "                   '/media/rene/data/equivariance/mnist/vae_mnist_L20/0125_221652',\n",
    "                   '/media/rene/data/equivariance/mnist/vae_mnist_L16/0125_214506',\n",
    "                   '/media/rene/data/equivariance/mnist/vae_mnist_L14/0125_211747',\n",
    "                   '/media/rene/data/equivariance/mnist/vae_mnist_L12/0125_204921',\n",
    "                   '/media/rene/data/equivariance/mnist/vae_mnist_L10/0125_202049',\n",
    "                   '/media/rene/data/equivariance/mnist/vae_mnist_L8/0125_194004',\n",
    "                   '/media/rene/data/equivariance/mnist/vae_mnist_L6/0125_191150'\n",
    "                   ]\n",
    "latent_size = [32, 28, 24, 20, 16, 14, 12, 10, 8, 6]\n",
    "results = pd.DataFrame()\n",
    "\n",
    "for i, config_loc in enumerate(config_loc_list):\n",
    "    model, __data_loader, __valid_data_loader, loss_fn, metric_fns, config = get_model_loaders_config(PATH, old_gpu='cuda:1', new_gpu='cuda:1')\n",
    "    log = get_vae_MNIST_perf(model, data_loaders['val'], loss_fn, metric_fns, device, \n",
    "                             fixed_rotation=None, return_size=40)\n",
    "    log['latent_size'] = latent_size[i]\n",
    "    results = results.append(log, ignore_index=True)\n",
    "\n",
    "    \n",
    "fig, ax = plt.subplots()\n",
    "ax.plot(results['latent_size'], results['loss'])\n",
    "\n",
    "ax.set(xlabel='latent_size', ylabel='Loss (KLD + BCE , is this likelihood)',\n",
    "       title='Autoencoding Performance vs. latent_size (averaged over 5 training runs)')\n",
    "plt.show()"
   ]
  },
  {
   "cell_type": "markdown",
   "metadata": {},
   "source": [
    "## Optimizing rotation to reduce loss"
   ]
  },
  {
   "cell_type": "code",
   "execution_count": 108,
   "metadata": {},
   "outputs": [
    {
     "name": "stdout",
     "output_type": "stream",
     "text": [
      "tensor(8.7335, device='cuda:1')\n",
      "tensor(8.7335, device='cuda:1')\n",
      "tensor(8.7335, device='cuda:1')\n",
      "tensor(-1.8011, device='cuda:1')\n",
      "8.46445959104187\n",
      "-0.424212917883804\n"
     ]
    }
   ],
   "source": [
    "# from model.model import AffineVAE\n",
    "\n",
    "config_loc = '/media/rene/data/equivariance/mnist/vae_mnist_L32/0125_234629'\n",
    "VAE, data_loader, valid_data_loader, loss_fn, metric_fns, config = get_model_loaders_config(config_loc, old_gpu='cuda:1', new_gpu='cuda:1')\n",
    "VAE = VAE.to(device)\n",
    "\n",
    "AffineVAE = getattr(module_arch, 'AffineVAE')\n",
    "affine_model = AffineVAE(device, VAE, img_size=28, input_dim=1, output_dim=1, latent_size=8, use_STN=False)\n",
    "affine_model = affine_model.to(device)\n",
    "x, y = next(iter(valid_data_loader))\n",
    "x = x.to(device)\n",
    "\n",
    "affine_params =  torch.tensor([2, 0, 0, 0, 2, 0], dtype=torch.float).view(2, 3).to(device)\n",
    "affine_params = affine_params.expand(x.size()[0], affine_params.size()[0], affine_params.size()[1]).clone()\n",
    "\n",
    "# x_affine = affine_model.affine(x, affine_params)\n",
    "# x_recon, mu_logvar = affine_model.VAE(x_affine)\n",
    "# x_affine_recon = affine_model.affine_inv(x_recon, affine_params)\n",
    "\n",
    "print(torch.max(x[21, :, :]))\n",
    "print(torch.max(x[0, :, :]))\n",
    "print(torch.max(x))\n",
    "print(torch.min(x))\n",
    "print((1-0.1307)/0.3081)\n",
    "print((-0.1307)/0.3081)\n",
    "\n",
    "data_loaders = make_generators_MNIST_CTRNFS(files_dict_loc, batch_size=128, num_workers=4, \n",
    "                                            return_size=28, fixed_rotation=None, normalize=False)\n",
    "\n",
    "x, y = next(iter(valid_data_loader))\n",
    "\n",
    "# recon_x, mu_logvar, affine_params = affine_model(x, affine_params=None, deterministic=False)\n",
    "# display_results_auto(affine_model, config, device, rotate=0, num_samples=3, size = 40, label_col_name='class', save_loc=None)"
   ]
  },
  {
   "cell_type": "code",
   "execution_count": 83,
   "metadata": {},
   "outputs": [],
   "source": []
  },
  {
   "cell_type": "code",
   "execution_count": 84,
   "metadata": {},
   "outputs": [
    {
     "data": {
      "image/png": "[encoded data removed]",
      "text/plain": [
       "<Figure size 720x720 with 4 Axes>"
      ]
     },
     "metadata": {},
     "output_type": "display_data"
    },
    {
     "data": {
      "image/png": "[encoded data removed]",
      "text/plain": [
       "<Figure size 720x720 with 4 Axes>"
      ]
     },
     "metadata": {},
     "output_type": "display_data"
    }
   ],
   "source": [
    "display_batch(x[5:7, :, :], x_affine[5:7, :, :])\n",
    "display_batch(x_recon[5:7, :, :], x_affine_recon[5:7, :, :])"
   ]
  },
  {
   "cell_type": "code",
   "execution_count": 96,
   "metadata": {},
   "outputs": [
    {
     "name": "stdout",
     "output_type": "stream",
     "text": [
      "tensor([[[-1.8011, -1.8011, -1.8011,  ..., -1.8011, -1.8011, -1.8011],\n",
      "         [-1.8011, -1.8011, -1.8011,  ..., -1.8011, -1.8011, -1.8011],\n",
      "         [-1.8011, -1.8011, -1.8011,  ..., -1.8011, -1.8011, -1.8011],\n",
      "         ...,\n",
      "         [-1.8011, -1.8011, -1.8011,  ..., -1.8011, -1.8011, -1.8011],\n",
      "         [-1.8011, -1.8011, -1.8011,  ..., -1.8011, -1.8011, -1.8011],\n",
      "         [-1.8011, -1.8011, -1.8011,  ..., -1.8011, -1.8011, -1.8011]]],\n",
      "       device='cuda:1')\n",
      "tensor([[[-1.8011, -1.8011, -1.8011,  ..., -1.8011, -1.8011, -1.8011],\n",
      "         [-1.8011, -1.8011, -1.8011,  ..., -1.8011, -1.8011, -1.8011],\n",
      "         [-1.8011, -1.8011, -1.8011,  ..., -1.8011, -1.8011, -1.8011],\n",
      "         ...,\n",
      "         [-1.8011, -1.8011, -1.8011,  ..., -1.8011, -1.8011, -1.8011],\n",
      "         [-1.8011, -1.8011, -1.8011,  ..., -1.8011, -1.8011, -1.8011],\n",
      "         [-1.8011, -1.8011, -1.8011,  ..., -1.8011, -1.8011, -1.8011]]],\n",
      "       device='cuda:1')\n",
      "tensor([[[-1.8011, -1.8011, -1.8011,  ..., -1.8011, -1.8011, -1.8011],\n",
      "         [-1.8011, -1.8011, -1.8011,  ..., -1.8011, -1.8011, -1.8011],\n",
      "         [-1.8011, -1.8011, -1.8011,  ..., -1.8011, -1.8011, -1.8011],\n",
      "         ...,\n",
      "         [-1.8011, -1.8011, -1.8011,  ..., -1.8011, -1.8011, -1.8011],\n",
      "         [-1.8011, -1.8011, -1.8011,  ..., -1.8011, -1.8011, -1.8011],\n",
      "         [-1.8011, -1.8011, -1.8011,  ..., -1.8011, -1.8011, -1.8011]]],\n",
      "       device='cuda:1')\n"
     ]
    },
    {
     "data": {
      "image/png": "[encoded data removed]",
      "text/plain": [
       "<Figure size 720x720 with 4 Axes>"
      ]
     },
     "metadata": {},
     "output_type": "display_data"
    },
    {
     "data": {
      "image/png": "[encoded data removed]",
      "text/plain": [
       "<Figure size 720x720 with 4 Axes>"
      ]
     },
     "metadata": {},
     "output_type": "display_data"
    }
   ],
   "source": [
    "theta = -2*math.pi * torch.rand(x.size()[0]) + 2*math.pi\n",
    "\n",
    "affine_params = torch.zeros(x.size()[0], 2, 3).to(device)\n",
    "affine_params[:, 0, 0] = torch.cos(theta)\n",
    "affine_params[:, 0, 1] = torch.sin(theta)\n",
    "affine_params[:, 1, 0] = -1*torch.sin(theta)\n",
    "affine_params[:, 1, 1] = torch.cos(theta)\n",
    "\n",
    "x_affine = affine_model.affine(x, affine_params)\n",
    "x_recon, mu_logvar = affine_model.VAE(x_affine)\n",
    "x_affine_recon = affine_model.affine_inv(x_recon, affine_params)\n",
    "\n",
    "display_batch(x[:2, :, :], x_affine[:2, :, :])\n",
    "display_batch(x_recon[:2, :, :], x_affine_recon[:2, :, :])"
   ]
  },
  {
   "cell_type": "code",
   "execution_count": 95,
   "metadata": {},
   "outputs": [
    {
     "data": {
      "text/plain": [
       "-0.424212917883804"
      ]
     },
     "execution_count": 95,
     "metadata": {},
     "output_type": "execute_result"
    }
   ],
   "source": []
  },
  {
   "cell_type": "code",
   "execution_count": 60,
   "metadata": {},
   "outputs": [
    {
     "name": "stdout",
     "output_type": "stream",
     "text": [
      "tensor([[[1., 0., 3.],\n",
      "         [0., 2., 3.]]])\n",
      "torch.Size([2, 2])\n",
      "torch.Size([2])\n",
      "tensor([[[ 1.0000, -0.0000, -3.0000],\n",
      "         [ 0.0000,  0.5000, -1.5000]]])\n"
     ]
    },
    {
     "data": {
      "text/plain": [
       "tensor([0.9589])"
      ]
     },
     "execution_count": 60,
     "metadata": {},
     "output_type": "execute_result"
    }
   ],
   "source": [
    "x = torch.zeros(1, 6)\n",
    "x = x.view(-1, 2, 3)\n",
    "x[:, 0, 0] = 1\n",
    "x[:, 1, 1] = 2\n",
    "\n",
    "x[:, 0, 2] = 3\n",
    "x[:, 1, 2] = 3\n",
    "\n",
    "print(x)\n",
    "A_inv =  torch.inverse(x[:, :, :2].squeeze())\n",
    "b = x[:, :, 2].squeeze()\n",
    "print(A_inv.size())\n",
    "print(b.size())\n",
    "x[:, :2, :2] = A_inv\n",
    "x[:, :, 2] = -1*torch.mv(A_inv,b)\n",
    "print(x)\n",
    "\n",
    "x = torch.zeros(1)\n",
    "x[0] = 360\n",
    "torch.sin(x)"
   ]
  },
  {
   "cell_type": "code",
   "execution_count": null,
   "metadata": {},
   "outputs": [],
   "source": []
  }
 ],
 "metadata": {
  "kernelspec": {
   "display_name": "ADV",
   "language": "python",
   "name": "adv"
  },
  "language_info": {
   "codemirror_mode": {
    "name": "ipython",
    "version": 3
   },
   "file_extension": ".py",
   "mimetype": "text/x-python",
   "name": "python",
   "nbconvert_exporter": "python",
   "pygments_lexer": "ipython3",
   "version": "3.6.8"
  }
 },
 "nbformat": 4,
 "nbformat_minor": 2
}
