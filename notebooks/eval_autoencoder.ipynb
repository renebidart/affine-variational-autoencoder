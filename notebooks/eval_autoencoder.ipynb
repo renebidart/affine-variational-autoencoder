{
 "cells": [
  {
   "cell_type": "markdown",
   "metadata": {},
   "source": [
    "# Test out VAEs\n",
    "\n",
    "## Outline\n",
    "Is equivariance to affine transfroms really useful?\n",
    "In this work we investigate the usefulness of directly encoding an affine transfrom layer into a generative model. We show that training using data sugmentation requires much more model parameters?????? and show a way to trade off approximately using a transfrom, and computing the optimal transfrom, based on the observation that the optimal transfrom should be the one that reduces the reconstruction error of the VAE.\n",
    "\n",
    "#### VAEs perfrom poorly on affine transforms\n",
    "VAEs perfrom poorly for reconstructing data that has been transformed by a simple, but out of training set affine transfrom. ??? From this, can we assume that the generative model is not able to create these? Saying it gets low reconstruction error on a sample isn't statistical enough. Possibly: The fact that the reconstruction loss is higher here, as shown also by these examples, indicates that the model is unable to properly conpute p(z|x) using the encoder. EXAMPLE: graph of worse performance on rotated images.\n",
    "\n",
    "#### Augmentation takes more latent vectors than it should to do this / intrinsic dimension\n",
    "This is to be expected of course, normally this is the reason data augmentation is used. Unfortunately, for this a more complex model is needed (EXAMPLE REALLY NEEDED HERE). As shown by the reconstruction error performance, the model trained on rotated data needs a larger latent space than the model only using one orientation. INTRINSIC DIMENSION???\n",
    "\n",
    "In the ideal case, the rotation could be parametrized by only one parameter, theta, yet here we see that it takes the model xxxx extra parameters to overcom this issue. It would be nicer to have a model that would automatically handle these simple affine transforms. We know how to represent a transfrom that explicitly does, this, so we can directly encode it into the model.\n",
    "\n",
    "#### STN et al?? is only approximate. We can compute it (mostly) exactly\n",
    "The Spatial Transformer network was designed to overcome these issues for the problem of classification. Here an affine transfrom is applied to the input image, where the parameters of this transform are computed based off of another neural network. This means that the spatial transfromer has no way to evaluate if the transfrom it applied was optimal. In the case of the VAE, we could say that the spatial transfromer approximates the optimal transform (EXAMPLES of stn performing well, as well as poorly.) We see that the transfromation learned by the STN differs by the optimal transfrom by xxx degrees, and it is associated with a \"\"Loss\"\" of xxxx more.\n",
    "\n",
    "We see that the optimal transform learned by the random/explicit optimization is on average xxx far from the true rotation, and achieves a loss of XXX from the optimal loss. Can we prove that this converges under some conditions? Maybe based on the paper the Neuroscience person presented??? Or just assume with enough random restarts we will get sufficiently close to the true optium that it will be locally convex? Is this how NNs work? Either way probably not practically relevant.\n",
    "\n",
    "We also investigate using more general affine transfroms:\n",
    "\n",
    "#### The tradeoff between exact invariance and approximate and data augmentation based ???non-equivariance.\n",
    "\n",
    "\n",
    "# TODO\n",
    "1. Plot rotated and non rotated performance for vae\n",
    "2. FIgure out if we should evaluate this stuff deterministically - Figure out exactly how to phrase the loss\n",
    "3. proabably should switch up format of the evaluation function\n",
    "4. padding within the model must be changeable from zero to whatever 0 is after the thing is normalized, because that's how it is trained.\n",
    "\n"
   ]
  },
  {
   "cell_type": "code",
   "execution_count": 1,
   "metadata": {},
   "outputs": [],
   "source": [
    "import os\n",
    "import sys\n",
    "import json\n",
    "import math\n",
    "import random\n",
    "import pickle\n",
    "import numpy as np\n",
    "import pandas as pd\n",
    "from tqdm import tqdm\n",
    "from pathlib import Path\n",
    "import matplotlib.pyplot as plt\n",
    "from matplotlib.pyplot import imshow\n",
    "from IPython.display import display, HTML\n",
    "\n",
    "%reload_ext autoreload\n",
    "%autoreload 2\n",
    "%matplotlib inline\n",
    "\n",
    "import torch\n",
    "import torch.nn.functional as F\n",
    "from torchvision import transforms\n",
    "import torchvision.transforms.functional as TF\n",
    "from PIL import Image, ImageOps\n",
    "\n",
    "# Nicer way to import the module?\n",
    "sys.path.append(str(Path.cwd().parent))\n",
    "\n",
    "from utils.display import read_img_to_np, torch_to_np\n",
    "from utils.norms import MNIST_norm\n",
    "import model.model as module_arch\n",
    "import data_loader.data_loaders as module_data\n",
    "import model.loss as module_loss\n",
    "import model.metric as module_metric\n",
    "from model.model import AffineVAE\n",
    "\n",
    "device = torch.device(\"cuda:0\")\n",
    "\n",
    "from data_loader.data_loaders import make_generators_MNIST, make_generators_MNIST_CTRNFS"
   ]
  },
  {
   "cell_type": "code",
   "execution_count": 2,
   "metadata": {},
   "outputs": [],
   "source": [
    "def get_model_loaders_config(PATH, old_gpu='cuda:0', new_gpu='cuda:1'):\n",
    "    \"\"\"PATH: path to dir where training results of a run are saved\"\"\"\n",
    "    PATH = Path(PATH)\n",
    "    config_loc = PATH / 'config.json'\n",
    "    weight_path = PATH / 'model_best.pth'\n",
    "    config = json.load(open(config_loc))\n",
    "    \n",
    "    \n",
    "    def get_instance(module, name, config, *args):\n",
    "        return getattr(module, config[name]['type'])(*args, **config[name]['args'])\n",
    "\n",
    "    data_loader = get_instance(module_data, 'data_loader', config)['train']\n",
    "    valid_data_loader = get_instance(module_data, 'data_loader', config)['val']\n",
    "    model = get_instance(module_arch, 'arch', config)\n",
    "    model = model.to(torch.device(new_gpu))\n",
    "    checkpoint = torch.load(weight_path, map_location={'cuda:0': 'cuda:1'})\n",
    "    state_dict = checkpoint['state_dict']\n",
    "    \n",
    "    if config['n_gpu'] > 1:\n",
    "        model = torch.nn.DataParallel(model)\n",
    "\n",
    "    model.load_state_dict(state_dict)\n",
    "    model = model.to(device).eval()\n",
    "    \n",
    "    loss_fn = get_instance(module_loss, 'loss', config)\n",
    "    metric_fns = [getattr(module_metric, met) for met in config['metrics']]\n",
    "    \n",
    "    return model, data_loader, valid_data_loader, loss_fn, metric_fns, config\n",
    "\n",
    "\n",
    "def display_batch(x, recon_x):\n",
    "    \"\"\"Display tensor images\"\"\"\n",
    "    fig, ax = plt.subplots(x.size()[0], 2, sharex='col', sharey='row',figsize=(10,10))\n",
    "    for i in range(x.size()[0]):\n",
    "        ax[i, 0].imshow(torch_to_np(x[i]), cmap='Greys',  interpolation='nearest')\n",
    "        ax[i, 1].imshow(torch_to_np(recon_x[i]), cmap='Greys',  interpolation='nearest')\n",
    "        ax[i, 0].axis('off')\n",
    "        ax[i, 1].axis('off')\n",
    "\n",
    "        \n",
    "def visualize_dataloader(data_loader, device, num_samples=6, bw=True):\n",
    "    \"\"\"Randomly sample from dataloader and display\"\"\"\n",
    "    with torch.cuda.device(device.index):\n",
    "        fig, ax = plt.subplots(int(num_samples/2), 2, sharex='col', sharey='row',figsize=(10,10))\n",
    "        for i in range(0, int(num_samples/2)):\n",
    "            # sample randomly from the nth batch for the nth row of imgs\n",
    "            data, label = next(iter(data_loader))\n",
    "            tensor_img = data[random.randint(0, data.size()[0]),:, :, :]\n",
    "            ax[i, 0].imshow(torch_to_np(tensor_img), cmap='Greys',  interpolation='nearest')\n",
    "            tensor_img = data[random.randint(0, data.size()[0]), :, :, :]\n",
    "            ax[i, 1].imshow(torch_to_np(tensor_img), cmap='Greys',  interpolation='nearest')\n",
    "            print(f'tensor_img size: {tensor_img.size()}')\n",
    "            print(f'Max: {torch.max(tensor_img)}, Min: {torch.min(tensor_img)}')\n",
    "            ax[i, 0].axis('off')\n",
    "            ax[i, 1].axis('off')\n",
    "    \n",
    "\n",
    "def display_results_auto(vae_model, config, device, rotate=0, pad = 6,\n",
    "                         norm=None, num_samples=3, data='bw', size = 28, label_col_name='label', save_loc=None):\n",
    "    \"\"\" QUESTIONABLE, REDO IT\"\"\"\n",
    "    with torch.cuda.device(device.index): # ??? Why the fuck???        \n",
    "        files_dict_loc = config['data_loader']['args']['files_dict_loc']\n",
    "        with open(files_dict_loc, 'rb') as f:\n",
    "            files_df = pickle.load(f)['train']\n",
    "            \n",
    "        if label_col_name:\n",
    "            all_labels = files_df[label_col_name].unique()\n",
    "        else:\n",
    "            all_labels = list(range(num_samples))\n",
    "        row_names = []\n",
    "        col_names = ['Original', \"Reconstructed\"]\n",
    "\n",
    "        fig, ax = plt.subplots(num_samples, 2, sharex='col', sharey='row',figsize=(10,10))\n",
    "\n",
    "        for i, label in enumerate(all_labels[0:num_samples]):\n",
    "            if label_col_name:\n",
    "                sample_df = files_df.loc[files_df[label_col_name] == label].sample(n=1)\n",
    "                label = sample_df[label_col_name].iloc[0]\n",
    "                row_names.append(label)\n",
    "            else:\n",
    "                sample_df = files_df.sample(n=1)\n",
    "            img_path = sample_df['path'].iloc[0]\n",
    "\n",
    "            if data == 'bw': # Assume MNIST\n",
    "                img = read_img_to_np(img_path, bw=True)\n",
    "                transform = transforms.Compose([\n",
    "                                                transforms.RandomRotation((rotate, rotate), expand=True),\n",
    "                                                transforms.Resize(size),\n",
    "                                                transforms.Pad((pad, pad)),\n",
    "                                                transforms.ToTensor(),\n",
    "                                                transforms.Normalize(*MNIST_norm)])\n",
    "            else:\n",
    "                img = read_img_to_np(img_path, bw=False, size=size)\n",
    "                transform = transforms.Compose([\n",
    "                                                transforms.RandomRotation((rotate, rotate), expand=True),\n",
    "                                                transforms.Resize(size),\n",
    "                                                transforms.ToTensor(),\n",
    "                                                transforms.Normalize(*norm)])\n",
    "\n",
    "            tensor_img = transform(Image.open(img_path)).unsqueeze(0).to(device)\n",
    "            tensor_label = torch.from_numpy(np.array(label)).unsqueeze(0).type(torch.LongTensor).to(device)\n",
    "            output = vae_model(tensor_img,  deterministic=False)\n",
    "            recon_x = output[0]\n",
    "            \n",
    "            ax[i, 0].imshow(torch_to_np(tensor_img), cmap='Greys',  interpolation='nearest')\n",
    "            ax[i, 1].imshow(torch_to_np(recon_x), cmap='Greys',  interpolation='nearest')\n",
    "            ax[i, 0].axis('off')\n",
    "            ax[i, 1].axis('off')\n",
    "\n",
    "        for curr_ax, col in zip(ax[0], col_names):\n",
    "            curr_ax.set_title(col)\n",
    "        if label_col_name:\n",
    "            for curr_ax, row in zip(ax[:,0], row_names):\n",
    "                curr_ax.set_ylabel(row, rotation=0, size='large')\n",
    "        if save_loc:\n",
    "            plt.savefig(save_loc, bbox_inches='tight')"
   ]
  },
  {
   "cell_type": "code",
   "execution_count": 3,
   "metadata": {},
   "outputs": [],
   "source": [
    "def pad_to_size(img, new_size):\n",
    "    delta_width = new_size - img.size()[1]\n",
    "    delta_height = new_size - img.size()[2]\n",
    "    pad_width = delta_width //2\n",
    "    pad_height = delta_height //2\n",
    "    img = F.pad(img, (pad_height, pad_height, pad_width, pad_width), 'constant', 0)\n",
    "    return img\n",
    "\n",
    "def rotate_mnist_batch(x, return_size=40, fixed_rotation=None):\n",
    "    \"\"\"Rotate batch without squishing the img. Pad all imgs to same size\"\"\"\n",
    "    batch_size = x.shape[0]\n",
    "    rot_x = torch.zeros((batch_size, 1, return_size, return_size))\n",
    "    for i in range(batch_size):\n",
    "        img = TF.to_pil_image(x[i, :, :])\n",
    "        if fixed_rotation:\n",
    "            img = TF.rotate(img, fixed_rotation)\n",
    "\n",
    "        img = transforms.ToTensor()(img)\n",
    "        if return_size:\n",
    "            img = pad_to_size(img, return_size)\n",
    "        # MNIST norm, wrong because imgs are padded\n",
    "        img = transforms.Normalize((0.1307,), (0.3081,))(img)\n",
    "        rot_x[i, :, :, :] = img\n",
    "    return rot_x\n",
    "    \n",
    "\n",
    "def get_vae_MNIST_perf(model, data_loader, loss_fn, metric_fns, device, fixed_rotation, return_size):\n",
    "    \"\"\"Evaluate performance on MNIST Dataset using a given rotation\n",
    "    \n",
    "    Dataloader should be MNISTCustomTRNFS with size=28x28, unnormalized, not rotated\"\"\"\n",
    "\n",
    "    with torch.cuda.device(device.index):\n",
    "        model = model.to(device)\n",
    "        model.eval()\n",
    "\n",
    "        total_loss = 0.0\n",
    "        total_metrics = torch.zeros(len(metric_fns))\n",
    "\n",
    "        with torch.no_grad():\n",
    "            for i, (data, target) in enumerate(tqdm(data_loader)):\n",
    "                batch_size = data.shape[0]\n",
    "                new_data = rotate_mnist_batch(data, return_size=40, fixed_rotation=fixed_rotation)\n",
    "                new_data, target = new_data.to(device), target.to(device)\n",
    "                output = model(new_data, deterministic=True)\n",
    "\n",
    "                # computing loss, metrics on test set\n",
    "                loss = loss_fn(output, new_data)\n",
    "                total_loss += loss.item() * batch_size\n",
    "                for i, metric in enumerate(metric_fns):\n",
    "                    total_metrics[i] += metric(output, new_data) * batch_size\n",
    "\n",
    "        n_samples = len(data_loader.sampler)\n",
    "        log = {'loss': total_loss / n_samples}\n",
    "        log.update({met.__name__ : total_metrics[i].item() / n_samples for i, met in enumerate(metric_fns)})\n",
    "        return log"
   ]
  },
  {
   "cell_type": "markdown",
   "metadata": {},
   "source": [
    "## Visualize Dataloader"
   ]
  },
  {
   "cell_type": "code",
   "execution_count": 4,
   "metadata": {},
   "outputs": [
    {
     "name": "stdout",
     "output_type": "stream",
     "text": [
      "tensor_img size: torch.Size([1, 28, 28])\n",
      "Max: 1.0, Min: 0.0\n",
      "tensor_img size: torch.Size([1, 28, 28])\n",
      "Max: 1.0, Min: 0.0\n",
      "tensor_img size: torch.Size([1, 28, 28])\n",
      "Max: 1.0, Min: 0.0\n"
     ]
    },
    {
     "data": {
      "image/png": "[encoded data removed]",
      "text/plain": [
       "<Figure size 720x720 with 6 Axes>"
      ]
     },
     "metadata": {
      "needs_background": "light"
     },
     "output_type": "display_data"
    }
   ],
   "source": [
    "PATH = '/media/rene/data/equivariance/mnist_tmp/0125_234629'\n",
    "model, data_loader, valid_data_loader, loss_fn, metric_fns, config = get_model_loaders_config(PATH, old_gpu='cuda:1', new_gpu='cuda:1')\n",
    "visualize_dataloader(data_loader, device, num_samples=6, bw=True)"
   ]
  },
  {
   "cell_type": "markdown",
   "metadata": {},
   "source": [
    "## Check normalization\n",
    "* Without normalization padding =0, must be equivalent"
   ]
  },
  {
   "cell_type": "code",
   "execution_count": 21,
   "metadata": {},
   "outputs": [
    {
     "name": "stdout",
     "output_type": "stream",
     "text": [
      "Loader from config: Max: 2.821486711502075, Min: -0.4242129623889923\n",
      "MNIST Loader no Norm: Max: 1.0, Min: 0.0\n",
      "MNIST Loader w/ Norm: Max: 2.821486711502075, Min: -0.4242129623889923\n",
      "Expected MNIST norm: Max: 2.82148653034729, Min: -0.424212917883804\n"
     ]
    }
   ],
   "source": [
    "config_loc = '/media/rene/data/equivariance/mnist_tmp/0125_234629'\n",
    "VAE, data_loader, valid_data_loader, loss_fn, metric_fns, config = get_model_loaders_config(config_loc, old_gpu='cuda:1', new_gpu='cuda:1')\n",
    "x, y = next(iter(valid_data_loader))\n",
    "print(f'Loader from config: Max: {torch.max(x)}, Min: {torch.min(x)}')\n",
    "\n",
    "files_dict_loc = '/media/rene/data/MNIST/files_dict.pkl'\n",
    "with open(files_dict_loc, 'rb') as f:\n",
    "    files_df = pickle.load(f)['val']\n",
    "data_loaders = make_generators_MNIST_CTRNFS(files_dict_loc, batch_size=128, num_workers=4, \n",
    "                                            return_size=28, rotation_range=None, normalize=False)\n",
    "x, y = next(iter(data_loaders['val']))\n",
    "print(f'MNIST Loader no Norm: Max: {torch.max(x)}, Min: {torch.min(x)}')\n",
    "\n",
    "data_loaders = make_generators_MNIST_CTRNFS(files_dict_loc, batch_size=128, num_workers=4, \n",
    "                                            return_size=28, rotation_range=None, normalize=True)\n",
    "x, y = next(iter(data_loaders['val']))\n",
    "print(f'MNIST Loader w/ Norm: Max: {torch.max(x)}, Min: {torch.min(x)}')\n",
    "\n",
    "print(f'Expected MNIST norm: Max: {(1-0.1307)/0.3081}, Min: {-0.1307/0.3081}')"
   ]
  },
  {
   "cell_type": "markdown",
   "metadata": {},
   "source": [
    "## ???? REDO? MNIST - Check Autoencoder"
   ]
  },
  {
   "cell_type": "code",
   "execution_count": 22,
   "metadata": {},
   "outputs": [
    {
     "data": {
      "image/png": "[encoded data removed]",
      "text/plain": [
       "<Figure size 720x720 with 6 Axes>"
      ]
     },
     "metadata": {
      "needs_background": "light"
     },
     "output_type": "display_data"
    }
   ],
   "source": [
    "config_loc = '/media/rene/data/equivariance/mnist_tmp/0125_234629'\n",
    "model, data_loader, valid_data_loader, loss_fn, metric_fns, config = get_model_loaders_config(config_loc, old_gpu='cuda:1', new_gpu='cuda:1')\n",
    "display_results_auto(model, config, device, rotate=0, num_samples=3, label_col_name='class', save_loc=None)"
   ]
  },
  {
   "cell_type": "markdown",
   "metadata": {},
   "source": [
    "## Performance on rotated images\n",
    "* Test the performance on rotated samples \n",
    "* Model was not trained with rotation"
   ]
  },
  {
   "cell_type": "code",
   "execution_count": 5,
   "metadata": {},
   "outputs": [
    {
     "name": "stderr",
     "output_type": "stream",
     "text": [
      " 18%|█▊        | 14/79 [00:09<00:49,  1.32it/s]\n"
     ]
    },
    {
     "ename": "KeyboardInterrupt",
     "evalue": "",
     "output_type": "error",
     "traceback": [
      "\u001b[0;31m---------------------------------------------------------------------------\u001b[0m",
      "\u001b[0;31mKeyboardInterrupt\u001b[0m                         Traceback (most recent call last)",
      "\u001b[0;32m<ipython-input-5-0f72e000df0f>\u001b[0m in \u001b[0;36m<module>\u001b[0;34m()\u001b[0m\n\u001b[1;32m     14\u001b[0m \u001b[0;32mfor\u001b[0m \u001b[0mrotation\u001b[0m \u001b[0;32min\u001b[0m \u001b[0mrange\u001b[0m\u001b[0;34m(\u001b[0m\u001b[0;36m0\u001b[0m\u001b[0;34m,\u001b[0m \u001b[0;36m180\u001b[0m\u001b[0;34m,\u001b[0m \u001b[0;36m15\u001b[0m\u001b[0;34m)\u001b[0m\u001b[0;34m:\u001b[0m\u001b[0;34m\u001b[0m\u001b[0;34m\u001b[0m\u001b[0m\n\u001b[1;32m     15\u001b[0m     log = get_vae_MNIST_perf(model, data_loaders['val'], loss_fn, metric_fns, device, \n\u001b[0;32m---> 16\u001b[0;31m                              fixed_rotation=rotation, return_size=40)\n\u001b[0m\u001b[1;32m     17\u001b[0m     \u001b[0mlog\u001b[0m\u001b[0;34m[\u001b[0m\u001b[0;34m'rotation'\u001b[0m\u001b[0;34m]\u001b[0m \u001b[0;34m=\u001b[0m \u001b[0mrotation\u001b[0m\u001b[0;34m\u001b[0m\u001b[0;34m\u001b[0m\u001b[0m\n\u001b[1;32m     18\u001b[0m     \u001b[0mresults\u001b[0m \u001b[0;34m=\u001b[0m \u001b[0mresults\u001b[0m\u001b[0;34m.\u001b[0m\u001b[0mappend\u001b[0m\u001b[0;34m(\u001b[0m\u001b[0mlog\u001b[0m\u001b[0;34m,\u001b[0m \u001b[0mignore_index\u001b[0m\u001b[0;34m=\u001b[0m\u001b[0;32mTrue\u001b[0m\u001b[0;34m)\u001b[0m\u001b[0;34m\u001b[0m\u001b[0;34m\u001b[0m\u001b[0m\n",
      "\u001b[0;32m<ipython-input-4-962525921f55>\u001b[0m in \u001b[0;36mget_vae_MNIST_perf\u001b[0;34m(model, data_loader, loss_fn, metric_fns, device, fixed_rotation, return_size)\u001b[0m\n\u001b[1;32m     40\u001b[0m             \u001b[0;32mfor\u001b[0m \u001b[0mi\u001b[0m\u001b[0;34m,\u001b[0m \u001b[0;34m(\u001b[0m\u001b[0mdata\u001b[0m\u001b[0;34m,\u001b[0m \u001b[0mtarget\u001b[0m\u001b[0;34m)\u001b[0m \u001b[0;32min\u001b[0m \u001b[0menumerate\u001b[0m\u001b[0;34m(\u001b[0m\u001b[0mtqdm\u001b[0m\u001b[0;34m(\u001b[0m\u001b[0mdata_loader\u001b[0m\u001b[0;34m)\u001b[0m\u001b[0;34m)\u001b[0m\u001b[0;34m:\u001b[0m\u001b[0;34m\u001b[0m\u001b[0;34m\u001b[0m\u001b[0m\n\u001b[1;32m     41\u001b[0m                 \u001b[0mbatch_size\u001b[0m \u001b[0;34m=\u001b[0m \u001b[0mdata\u001b[0m\u001b[0;34m.\u001b[0m\u001b[0mshape\u001b[0m\u001b[0;34m[\u001b[0m\u001b[0;36m0\u001b[0m\u001b[0;34m]\u001b[0m\u001b[0;34m\u001b[0m\u001b[0;34m\u001b[0m\u001b[0m\n\u001b[0;32m---> 42\u001b[0;31m                 \u001b[0mnew_data\u001b[0m \u001b[0;34m=\u001b[0m \u001b[0mrotate_mnist_batch\u001b[0m\u001b[0;34m(\u001b[0m\u001b[0mdata\u001b[0m\u001b[0;34m,\u001b[0m \u001b[0mreturn_size\u001b[0m\u001b[0;34m=\u001b[0m\u001b[0;36m40\u001b[0m\u001b[0;34m,\u001b[0m \u001b[0mfixed_rotation\u001b[0m\u001b[0;34m=\u001b[0m\u001b[0mfixed_rotation\u001b[0m\u001b[0;34m)\u001b[0m\u001b[0;34m\u001b[0m\u001b[0;34m\u001b[0m\u001b[0m\n\u001b[0m\u001b[1;32m     43\u001b[0m                 \u001b[0mnew_data\u001b[0m\u001b[0;34m,\u001b[0m \u001b[0mtarget\u001b[0m \u001b[0;34m=\u001b[0m \u001b[0mnew_data\u001b[0m\u001b[0;34m.\u001b[0m\u001b[0mto\u001b[0m\u001b[0;34m(\u001b[0m\u001b[0mdevice\u001b[0m\u001b[0;34m)\u001b[0m\u001b[0;34m,\u001b[0m \u001b[0mtarget\u001b[0m\u001b[0;34m.\u001b[0m\u001b[0mto\u001b[0m\u001b[0;34m(\u001b[0m\u001b[0mdevice\u001b[0m\u001b[0;34m)\u001b[0m\u001b[0;34m\u001b[0m\u001b[0;34m\u001b[0m\u001b[0m\n\u001b[1;32m     44\u001b[0m                 \u001b[0moutput\u001b[0m \u001b[0;34m=\u001b[0m \u001b[0mmodel\u001b[0m\u001b[0;34m(\u001b[0m\u001b[0mnew_data\u001b[0m\u001b[0;34m,\u001b[0m \u001b[0mdeterministic\u001b[0m\u001b[0;34m=\u001b[0m\u001b[0;32mTrue\u001b[0m\u001b[0;34m)\u001b[0m\u001b[0;34m\u001b[0m\u001b[0;34m\u001b[0m\u001b[0m\n",
      "\u001b[0;32m<ipython-input-4-962525921f55>\u001b[0m in \u001b[0;36mrotate_mnist_batch\u001b[0;34m(x, return_size, fixed_rotation)\u001b[0m\n\u001b[1;32m     12\u001b[0m     \u001b[0mrot_x\u001b[0m \u001b[0;34m=\u001b[0m \u001b[0mtorch\u001b[0m\u001b[0;34m.\u001b[0m\u001b[0mzeros\u001b[0m\u001b[0;34m(\u001b[0m\u001b[0;34m(\u001b[0m\u001b[0mbatch_size\u001b[0m\u001b[0;34m,\u001b[0m \u001b[0;36m1\u001b[0m\u001b[0;34m,\u001b[0m \u001b[0mreturn_size\u001b[0m\u001b[0;34m,\u001b[0m \u001b[0mreturn_size\u001b[0m\u001b[0;34m)\u001b[0m\u001b[0;34m)\u001b[0m\u001b[0;34m\u001b[0m\u001b[0;34m\u001b[0m\u001b[0m\n\u001b[1;32m     13\u001b[0m     \u001b[0;32mfor\u001b[0m \u001b[0mi\u001b[0m \u001b[0;32min\u001b[0m \u001b[0mrange\u001b[0m\u001b[0;34m(\u001b[0m\u001b[0mbatch_size\u001b[0m\u001b[0;34m)\u001b[0m\u001b[0;34m:\u001b[0m\u001b[0;34m\u001b[0m\u001b[0;34m\u001b[0m\u001b[0m\n\u001b[0;32m---> 14\u001b[0;31m         \u001b[0mimg\u001b[0m \u001b[0;34m=\u001b[0m \u001b[0mTF\u001b[0m\u001b[0;34m.\u001b[0m\u001b[0mto_pil_image\u001b[0m\u001b[0;34m(\u001b[0m\u001b[0mx\u001b[0m\u001b[0;34m[\u001b[0m\u001b[0mi\u001b[0m\u001b[0;34m,\u001b[0m \u001b[0;34m:\u001b[0m\u001b[0;34m,\u001b[0m \u001b[0;34m:\u001b[0m\u001b[0;34m]\u001b[0m\u001b[0;34m)\u001b[0m\u001b[0;34m\u001b[0m\u001b[0;34m\u001b[0m\u001b[0m\n\u001b[0m\u001b[1;32m     15\u001b[0m         \u001b[0;32mif\u001b[0m \u001b[0mfixed_rotation\u001b[0m\u001b[0;34m:\u001b[0m\u001b[0;34m\u001b[0m\u001b[0;34m\u001b[0m\u001b[0m\n\u001b[1;32m     16\u001b[0m             \u001b[0mimg\u001b[0m \u001b[0;34m=\u001b[0m \u001b[0mTF\u001b[0m\u001b[0;34m.\u001b[0m\u001b[0mrotate\u001b[0m\u001b[0;34m(\u001b[0m\u001b[0mimg\u001b[0m\u001b[0;34m,\u001b[0m \u001b[0mfixed_rotation\u001b[0m\u001b[0;34m)\u001b[0m\u001b[0;34m\u001b[0m\u001b[0;34m\u001b[0m\u001b[0m\n",
      "\u001b[0;32m~/miniconda3/envs/HVAE/lib/python3.6/site-packages/torchvision/transforms/functional.py\u001b[0m in \u001b[0;36mto_pil_image\u001b[0;34m(pic, mode)\u001b[0m\n\u001b[1;32m    146\u001b[0m         \u001b[0;32mraise\u001b[0m \u001b[0mTypeError\u001b[0m\u001b[0;34m(\u001b[0m\u001b[0;34m'Input type {} is not supported'\u001b[0m\u001b[0;34m.\u001b[0m\u001b[0mformat\u001b[0m\u001b[0;34m(\u001b[0m\u001b[0mnpimg\u001b[0m\u001b[0;34m.\u001b[0m\u001b[0mdtype\u001b[0m\u001b[0;34m)\u001b[0m\u001b[0;34m)\u001b[0m\u001b[0;34m\u001b[0m\u001b[0;34m\u001b[0m\u001b[0m\n\u001b[1;32m    147\u001b[0m \u001b[0;34m\u001b[0m\u001b[0m\n\u001b[0;32m--> 148\u001b[0;31m     \u001b[0;32mreturn\u001b[0m \u001b[0mImage\u001b[0m\u001b[0;34m.\u001b[0m\u001b[0mfromarray\u001b[0m\u001b[0;34m(\u001b[0m\u001b[0mnpimg\u001b[0m\u001b[0;34m,\u001b[0m \u001b[0mmode\u001b[0m\u001b[0;34m=\u001b[0m\u001b[0mmode\u001b[0m\u001b[0;34m)\u001b[0m\u001b[0;34m\u001b[0m\u001b[0;34m\u001b[0m\u001b[0m\n\u001b[0m\u001b[1;32m    149\u001b[0m \u001b[0;34m\u001b[0m\u001b[0m\n\u001b[1;32m    150\u001b[0m \u001b[0;34m\u001b[0m\u001b[0m\n",
      "\u001b[0;32m~/miniconda3/envs/HVAE/lib/python3.6/site-packages/PIL/Image.py\u001b[0m in \u001b[0;36mfromarray\u001b[0;34m(obj, mode)\u001b[0m\n\u001b[1;32m   2451\u001b[0m     \u001b[0;34m.\u001b[0m\u001b[0;34m.\u001b[0m \u001b[0mversionadded\u001b[0m\u001b[0;34m:\u001b[0m\u001b[0;34m:\u001b[0m \u001b[0;36m1.1\u001b[0m\u001b[0;36m.6\u001b[0m\u001b[0;34m\u001b[0m\u001b[0;34m\u001b[0m\u001b[0m\n\u001b[1;32m   2452\u001b[0m     \"\"\"\n\u001b[0;32m-> 2453\u001b[0;31m     \u001b[0marr\u001b[0m \u001b[0;34m=\u001b[0m \u001b[0mobj\u001b[0m\u001b[0;34m.\u001b[0m\u001b[0m__array_interface__\u001b[0m\u001b[0;34m\u001b[0m\u001b[0;34m\u001b[0m\u001b[0m\n\u001b[0m\u001b[1;32m   2454\u001b[0m     \u001b[0mshape\u001b[0m \u001b[0;34m=\u001b[0m \u001b[0marr\u001b[0m\u001b[0;34m[\u001b[0m\u001b[0;34m'shape'\u001b[0m\u001b[0;34m]\u001b[0m\u001b[0;34m\u001b[0m\u001b[0;34m\u001b[0m\u001b[0m\n\u001b[1;32m   2455\u001b[0m     \u001b[0mndim\u001b[0m \u001b[0;34m=\u001b[0m \u001b[0mlen\u001b[0m\u001b[0;34m(\u001b[0m\u001b[0mshape\u001b[0m\u001b[0;34m)\u001b[0m\u001b[0;34m\u001b[0m\u001b[0;34m\u001b[0m\u001b[0m\n",
      "\u001b[0;31mKeyboardInterrupt\u001b[0m: "
     ]
    }
   ],
   "source": [
    "# config_loc = '/media/rene/data/equivariance/mnist_tmp/0125_234629'\n",
    "config_loc = '/media/rene/data/equivariance/mnist/vae_mnist_L16/0129_230250'\n",
    "\n",
    "model, data_loader, valid_data_loader, loss_fn, metric_fns, config = get_model_loaders_config(config_loc, old_gpu='cuda:1', new_gpu='cuda:1')\n",
    "\n",
    "\n",
    "files_dict_loc = '/media/rene/data/MNIST/files_dict.pkl'\n",
    "with open(files_dict_loc, 'rb') as f:\n",
    "    files_df = pickle.load(f)['val']\n",
    "data_loaders = make_generators_MNIST_CTRNFS(files_dict_loc, batch_size=128, num_workers=4, \n",
    "                                            return_size=28, rotation_range=None, normalize=False)\n",
    "\n",
    "results = pd.DataFrame()\n",
    "for rotation in range(0, 180, 15):\n",
    "    log = get_vae_MNIST_perf(model, data_loaders['val'], loss_fn, metric_fns, device, \n",
    "                             fixed_rotation=rotation, return_size=40)\n",
    "    log['rotation'] = rotation\n",
    "    results = results.append(log, ignore_index=True)\n",
    "    \n",
    "fig, ax = plt.subplots(figsize=(8,8))\n",
    "ax.plot(results['rotation'], results['loss'])\n",
    "\n",
    "ax.set(xlabel='Rotation (degrees)', ylabel='VAE Loss')\n",
    "#        title='VAE Loss vs. Rotation')\n",
    "\n",
    "plt.savefig('/media/rene/code/equivariance/imgs/vae_loss_rotation.png', bbox_inches='tight')\n",
    "plt.show()"
   ]
  },
  {
   "cell_type": "markdown",
   "metadata": {},
   "source": [
    "## Look at examples of rotated images"
   ]
  },
  {
   "cell_type": "code",
   "execution_count": 40,
   "metadata": {},
   "outputs": [
    {
     "data": {
      "image/png": "[encoded data removed]",
      "text/plain": [
       "<Figure size 648x648 with 9 Axes>"
      ]
     },
     "metadata": {
      "needs_background": "light"
     },
     "output_type": "display_data"
    }
   ],
   "source": [
    "def display_vae_rot(model, files_dict_loc, num_samples=3, save_loc=None):\n",
    "    \n",
    "    data_loaders = make_generators_MNIST_CTRNFS(files_dict_loc, batch_size=128, num_workers=4, \n",
    "                                            return_size=28, rotation_range=None, normalize=False)\n",
    "    \n",
    "    x, y = next(iter(data_loaders['val']))\n",
    "    rot_0 = rotate_mnist_batch(x, return_size=40, fixed_rotation=0)\n",
    "    rot_45 = rotate_mnist_batch(x, return_size=40, fixed_rotation=45)\n",
    "    rot_90 = rotate_mnist_batch(x, return_size=40, fixed_rotation=90)\n",
    "\n",
    "    fig, ax = plt.subplots(num_samples, 3, sharex='col', sharey='row'c)\n",
    "    col_names = ['No Rotation', '45 deg. Rotation', '90 deg. Rotation']\n",
    "    \n",
    "    for i in range(num_samples):\n",
    "        idx = random.randint(0, x.size()[0])\n",
    "        img = x[idx, :, :, :].unsqueeze(0)\n",
    "        img = img.to(device)\n",
    "        rot_0_img = rot_0[idx, :, :, :].unsqueeze(0)\n",
    "        rot_0_img = rot_0_img.to(device)\n",
    "        rot_45_img = rot_45[idx, :, :, :].unsqueeze(0)\n",
    "        rot_45_img = rot_45_img.to(device)\n",
    "        rot_90_img = rot_90[idx, :, :, :].unsqueeze(0)\n",
    "        rot_90_img = rot_90_img.to(device)\n",
    "\n",
    "        rot_0_output = model(rot_0_img,  deterministic=True)\n",
    "        rot_45_output = model(rot_45_img,  deterministic=True)\n",
    "        rot_90_output = model(rot_90_img,  deterministic=True)\n",
    "\n",
    "        ax[i, 0].imshow(torch_to_np(rot_0_output[0]), cmap='Greys',  interpolation='nearest')\n",
    "        ax[i, 1].imshow(torch_to_np(rot_45_output[0]), cmap='Greys',  interpolation='nearest')\n",
    "        ax[i, 2].imshow(torch_to_np(rot_90_output[0]), cmap='Greys',  interpolation='nearest')\n",
    "        \n",
    "        ax[i, 0].axis('off')\n",
    "        ax[i, 1].axis('off')\n",
    "        ax[i, 2].axis('off')\n",
    "    \n",
    "#     fig.suptitle('VAE Reconstruction Performance vs. Rotation', size='xx-large')\n",
    "    for curr_ax, col in zip(ax[0], col_names):\n",
    "        curr_ax.set_title(col)\n",
    "\n",
    "    if save_loc:\n",
    "        plt.savefig(save_loc, bbox_inches='tight')\n",
    "        \n",
    "    \n",
    "    plt.show()\n",
    "        \n",
    "display_vae_rot(model, files_dict_loc, num_samples=3, \n",
    "                save_loc='/media/rene/code/equivariance/imgs/vae_loss_rotation_ex.png')"
   ]
  },
  {
   "cell_type": "markdown",
   "metadata": {},
   "source": [
    "## How big should the latent size be for rotated and unrotated?\n",
    "* Look at the average performace over 5 runs for each latent size, for both the rotated and unrotated models\n",
    "* Both VAEs evaluated on same unrotated set, idea is that the limited model capicity will hurt reconstruction error for all rotations equally, and by fixing it at one rotation we are able to better compare the two models.\n",
    "\n",
    "## ??? Should we be evaluating deterministically or not?"
   ]
  },
  {
   "cell_type": "code",
   "execution_count": 5,
   "metadata": {},
   "outputs": [
    {
     "name": "stderr",
     "output_type": "stream",
     "text": [
      "100%|██████████| 5/5 [00:03<00:00,  1.37it/s]\n",
      "100%|██████████| 5/5 [00:03<00:00,  1.23it/s]\n",
      "100%|██████████| 5/5 [00:03<00:00,  1.29it/s]\n",
      "100%|██████████| 5/5 [00:03<00:00,  1.29it/s]\n",
      "100%|██████████| 5/5 [00:03<00:00,  1.24it/s]\n",
      "100%|██████████| 5/5 [00:03<00:00,  1.27it/s]\n",
      "100%|██████████| 5/5 [00:03<00:00,  1.30it/s]\n",
      "100%|██████████| 5/5 [00:03<00:00,  1.24it/s]\n",
      "100%|██████████| 5/5 [00:03<00:00,  1.30it/s]\n",
      "100%|██████████| 5/5 [00:03<00:00,  1.25it/s]\n",
      "100%|██████████| 5/5 [00:04<00:00,  1.20it/s]\n",
      "100%|██████████| 5/5 [00:03<00:00,  1.26it/s]\n",
      "100%|██████████| 5/5 [00:03<00:00,  1.35it/s]\n",
      "100%|██████████| 5/5 [00:03<00:00,  1.29it/s]\n",
      "100%|██████████| 5/5 [00:03<00:00,  1.36it/s]\n",
      "100%|██████████| 5/5 [00:03<00:00,  1.23it/s]\n",
      "100%|██████████| 5/5 [00:04<00:00,  1.06it/s]\n",
      "100%|██████████| 5/5 [00:03<00:00,  1.30it/s]\n",
      "100%|██████████| 5/5 [00:03<00:00,  1.32it/s]\n",
      "100%|██████████| 5/5 [00:03<00:00,  1.27it/s]\n",
      "100%|██████████| 5/5 [00:03<00:00,  1.28it/s]\n",
      "100%|██████████| 5/5 [00:03<00:00,  1.23it/s]\n",
      "100%|██████████| 5/5 [00:03<00:00,  1.30it/s]\n",
      "100%|██████████| 5/5 [00:03<00:00,  1.34it/s]\n",
      "100%|██████████| 5/5 [00:03<00:00,  1.31it/s]\n",
      "100%|██████████| 5/5 [00:03<00:00,  1.25it/s]\n",
      "100%|██████████| 5/5 [00:03<00:00,  1.28it/s]\n",
      "100%|██████████| 5/5 [00:03<00:00,  1.31it/s]\n",
      "100%|██████████| 5/5 [00:03<00:00,  1.33it/s]\n",
      "100%|██████████| 5/5 [00:03<00:00,  1.36it/s]\n",
      "100%|██████████| 5/5 [00:03<00:00,  1.37it/s]\n",
      "100%|██████████| 5/5 [00:03<00:00,  1.29it/s]\n",
      "100%|██████████| 5/5 [00:03<00:00,  1.19it/s]\n",
      "100%|██████████| 5/5 [00:03<00:00,  1.28it/s]\n",
      "100%|██████████| 5/5 [00:03<00:00,  1.27it/s]\n",
      "100%|██████████| 5/5 [00:03<00:00,  1.34it/s]\n",
      "100%|██████████| 5/5 [00:03<00:00,  1.26it/s]\n",
      "100%|██████████| 5/5 [00:03<00:00,  1.34it/s]\n",
      "100%|██████████| 5/5 [00:03<00:00,  1.33it/s]\n",
      "100%|██████████| 5/5 [00:03<00:00,  1.36it/s]\n",
      "100%|██████████| 5/5 [00:03<00:00,  1.21it/s]\n",
      "100%|██████████| 5/5 [00:03<00:00,  1.24it/s]\n",
      "100%|██████████| 5/5 [00:03<00:00,  1.35it/s]\n",
      "100%|██████████| 5/5 [00:03<00:00,  1.27it/s]\n",
      "100%|██████████| 5/5 [00:03<00:00,  1.30it/s]\n",
      "100%|██████████| 5/5 [00:03<00:00,  1.35it/s]\n",
      "100%|██████████| 5/5 [00:03<00:00,  1.29it/s]\n",
      "100%|██████████| 5/5 [00:03<00:00,  1.30it/s]\n",
      "100%|██████████| 5/5 [00:03<00:00,  1.20it/s]\n",
      "100%|██████████| 5/5 [00:04<00:00,  1.22it/s]\n",
      "100%|██████████| 5/5 [00:03<00:00,  1.29it/s]\n",
      "100%|██████████| 5/5 [00:03<00:00,  1.34it/s]\n",
      "100%|██████████| 5/5 [00:03<00:00,  1.31it/s]\n",
      "100%|██████████| 5/5 [00:03<00:00,  1.35it/s]\n",
      "100%|██████████| 5/5 [00:03<00:00,  1.27it/s]\n",
      "100%|██████████| 5/5 [00:03<00:00,  1.31it/s]\n",
      "100%|██████████| 5/5 [00:03<00:00,  1.28it/s]\n",
      "100%|██████████| 5/5 [00:03<00:00,  1.25it/s]\n",
      "100%|██████████| 5/5 [00:03<00:00,  1.26it/s]\n",
      "100%|██████████| 5/5 [00:03<00:00,  1.26it/s]\n",
      "100%|██████████| 5/5 [00:03<00:00,  1.28it/s]\n",
      "100%|██████████| 5/5 [00:03<00:00,  1.32it/s]\n",
      "100%|██████████| 5/5 [00:03<00:00,  1.32it/s]\n",
      "100%|██████████| 5/5 [00:03<00:00,  1.35it/s]\n",
      "100%|██████████| 5/5 [00:03<00:00,  1.35it/s]\n",
      "100%|██████████| 5/5 [00:03<00:00,  1.27it/s]\n",
      "100%|██████████| 5/5 [00:04<00:00,  1.06it/s]\n",
      "100%|██████████| 5/5 [00:03<00:00,  1.33it/s]\n",
      "100%|██████████| 5/5 [00:03<00:00,  1.26it/s]\n",
      "100%|██████████| 5/5 [00:03<00:00,  1.31it/s]\n",
      "100%|██████████| 5/5 [00:03<00:00,  1.31it/s]\n",
      "100%|██████████| 5/5 [00:03<00:00,  1.32it/s]\n",
      "100%|██████████| 5/5 [00:03<00:00,  1.35it/s]\n",
      "100%|██████████| 5/5 [00:03<00:00,  1.27it/s]\n",
      "100%|██████████| 5/5 [00:03<00:00,  1.30it/s]\n",
      "100%|██████████| 5/5 [00:03<00:00,  1.31it/s]\n",
      "100%|██████████| 5/5 [00:03<00:00,  1.33it/s]\n",
      "100%|██████████| 5/5 [00:03<00:00,  1.29it/s]\n",
      "100%|██████████| 5/5 [00:03<00:00,  1.33it/s]\n",
      "100%|██████████| 5/5 [00:03<00:00,  1.29it/s]\n",
      "100%|██████████| 5/5 [00:03<00:00,  1.34it/s]\n",
      "100%|██████████| 5/5 [00:03<00:00,  1.20it/s]\n",
      "100%|██████████| 5/5 [00:03<00:00,  1.22it/s]\n",
      "100%|██████████| 5/5 [00:03<00:00,  1.31it/s]\n",
      "100%|██████████| 5/5 [00:03<00:00,  1.28it/s]\n",
      "100%|██████████| 5/5 [00:03<00:00,  1.34it/s]\n",
      "100%|██████████| 5/5 [00:03<00:00,  1.27it/s]\n",
      "100%|██████████| 5/5 [00:03<00:00,  1.28it/s]\n",
      "100%|██████████| 5/5 [00:03<00:00,  1.28it/s]\n",
      "100%|██████████| 5/5 [00:03<00:00,  1.27it/s]\n",
      "100%|██████████| 5/5 [00:03<00:00,  1.32it/s]\n",
      "100%|██████████| 5/5 [00:03<00:00,  1.28it/s]\n",
      "100%|██████████| 5/5 [00:03<00:00,  1.36it/s]\n",
      "100%|██████████| 5/5 [00:03<00:00,  1.34it/s]\n",
      "100%|██████████| 5/5 [00:03<00:00,  1.31it/s]\n",
      "100%|██████████| 5/5 [00:03<00:00,  1.32it/s]\n",
      "100%|██████████| 5/5 [00:03<00:00,  1.33it/s]\n",
      "100%|██████████| 5/5 [00:03<00:00,  1.29it/s]\n",
      "100%|██████████| 5/5 [00:03<00:00,  1.28it/s]\n"
     ]
    },
    {
     "data": {
      "image/png": "[encoded data removed]",
      "text/plain": [
       "<Figure size 576x576 with 1 Axes>"
      ]
     },
     "metadata": {
      "needs_background": "light"
     },
     "output_type": "display_data"
    }
   ],
   "source": [
    "files_dict_loc = '/media/rene/data/MNIST/files_dict.pkl'\n",
    "with open(files_dict_loc, 'rb') as f:\n",
    "    files_df = pickle.load(f)['val']\n",
    "# this is the standard dataloader returning unaugmented unnormalized mnist 28x28\n",
    "data_loaders = make_generators_MNIST_CTRNFS(files_dict_loc, batch_size=2048, num_workers=4, \n",
    "                                            return_size=28, rotation_range=None, normalize=False)\n",
    "\n",
    "latent_list = [32, 28, 24, 20, 16, 14, 12, 10, 8, 6]\n",
    "results = pd.DataFrame()\n",
    "\n",
    "log = {}\n",
    "for i, latent_size in enumerate(latent_list):\n",
    "    loc = '/media/rene/data/equivariance/mnist/vae_mnist_L' + str(latent_size)\n",
    "    tmp_loss_list = []\n",
    "    for file_path in list(Path(loc).glob('**/*config.json')):\n",
    "        # get the model (ignore this dataloader, always use same one)\n",
    "        config_loc = file_path.parent\n",
    "        model, __data_loader, __valid_data_loader, loss_fn, metric_fns, config = get_model_loaders_config(config_loc, old_gpu='cuda:1', new_gpu='cuda:1')\n",
    "        tmp_log = get_vae_MNIST_perf(model, data_loaders['val'], loss_fn, metric_fns, device, \n",
    "                                     fixed_rotation=None, return_size=40)\n",
    "        tmp_loss_list.append(tmp_log['loss'])\n",
    "    \n",
    "    log['latent_size'] = latent_size \n",
    "    log['loss'] = np.mean(tmp_loss_list)\n",
    "    results = results.append(log, ignore_index=True)\n",
    "    \n",
    "# Rotation augmneted\n",
    "results_rot = pd.DataFrame()\n",
    "log = {}\n",
    "for i, latent_size in enumerate(latent_list):\n",
    "    loc = '/media/rene/data/equivariance/mnist/vae_mnist_L' + str(latent_size) +'_rotate'\n",
    "    tmp_loss_list = []\n",
    "    for file_path in list(Path(loc).glob('**/*config.json')):\n",
    "        # get the model (ignore this dataloader, always use same one)\n",
    "        config_loc = file_path.parent\n",
    "        model, __data_loader, __valid_data_loader, loss_fn, metric_fns, config = get_model_loaders_config(config_loc, old_gpu='cuda:1', new_gpu='cuda:1')\n",
    "        tmp_log = get_vae_MNIST_perf(model, data_loaders['val'], loss_fn, metric_fns, device, \n",
    "                                     fixed_rotation=None, return_size=40)\n",
    "        tmp_loss_list.append(tmp_log['loss'])\n",
    "    \n",
    "    log['latent_size'] = latent_size \n",
    "    log['loss'] = np.mean(tmp_loss_list)\n",
    "    results_rot = results_rot.append(log, ignore_index=True)\n",
    "    \n",
    "fig, ax = plt.subplots(figsize=(8,8))\n",
    "ax.plot(results['latent_size'], results['loss'], label=\"No Rotation\")\n",
    "ax.plot(results_rot['latent_size'], results_rot['loss'], label=\"Rotation Augmented\")\n",
    "\n",
    "ax.set(xlabel='Latent Size', ylabel='Validation Loss (avg. of 5 models)',\n",
    "       title='Loss vs. Latent Size')\n",
    "ax.legend(loc='best')\n",
    "\n",
    "plt.savefig('/media/rene/code/equivariance/imgs/latent_size_perf.png')\n",
    "plt.show()"
   ]
  },
  {
   "cell_type": "markdown",
   "metadata": {},
   "source": [
    "### No data augmentation"
   ]
  },
  {
   "cell_type": "code",
   "execution_count": 18,
   "metadata": {},
   "outputs": [
    {
     "name": "stderr",
     "output_type": "stream",
     "text": [
      "100%|██████████| 79/79 [00:07<00:00, 10.85it/s]\n",
      "100%|██████████| 79/79 [00:06<00:00, 11.42it/s]\n",
      "100%|██████████| 79/79 [00:05<00:00, 14.16it/s]\n",
      "100%|██████████| 79/79 [00:05<00:00, 14.30it/s]\n",
      "100%|██████████| 79/79 [00:07<00:00, 10.37it/s]\n",
      "100%|██████████| 79/79 [00:07<00:00, 10.84it/s]\n",
      "100%|██████████| 79/79 [00:06<00:00, 11.88it/s]\n",
      "100%|██████████| 79/79 [00:06<00:00, 11.42it/s]\n",
      "100%|██████████| 79/79 [00:07<00:00, 11.25it/s]\n",
      "100%|██████████| 79/79 [00:05<00:00, 13.97it/s]\n"
     ]
    },
    {
     "data": {
      "image/png": "[encoded data removed]",
      "text/plain": [
       "<Figure size 432x288 with 1 Axes>"
      ]
     },
     "metadata": {},
     "output_type": "display_data"
    }
   ],
   "source": [
    "# ???！！！ Delete \n",
    "\n",
    "PATH = '/media/rene/data/equivariance/mnist/vae_mnist_L32/0125_234629'\n",
    "\n",
    "# this is the standard dataloader returning unaugmented unnormalized mnist\n",
    "data_loaders = make_generators_MNIST_CTRNFS(files_dict_loc, batch_size=128, num_workers=4, \n",
    "                                            return_size=28, fixed_rotation=None, normalize=False)\n",
    "config_loc_list = [\n",
    "                   '/media/rene/data/equivariance/mnist/vae_mnist_L32/0125_234629',\n",
    "                   '/media/rene/data/equivariance/mnist/vae_mnist_L28/0125_230835',\n",
    "                   '/media/rene/data/equivariance/mnist/vae_mnist_L24/0125_224234',\n",
    "                   '/media/rene/data/equivariance/mnist/vae_mnist_L20/0125_221652',\n",
    "                   '/media/rene/data/equivariance/mnist/vae_mnist_L16/0125_214506',\n",
    "                   '/media/rene/data/equivariance/mnist/vae_mnist_L14/0125_211747',\n",
    "                   '/media/rene/data/equivariance/mnist/vae_mnist_L12/0125_204921',\n",
    "                   '/media/rene/data/equivariance/mnist/vae_mnist_L10/0125_202049',\n",
    "                   '/media/rene/data/equivariance/mnist/vae_mnist_L8/0125_194004',\n",
    "                   '/media/rene/data/equivariance/mnist/vae_mnist_L6/0125_191150'\n",
    "                   ]\n",
    "latent_size = [32, 28, 24, 20, 16, 14, 12, 10, 8, 6]\n",
    "results = pd.DataFrame()\n",
    "\n",
    "for i, config_loc in enumerate(config_loc_list):\n",
    "    model, __data_loader, __valid_data_loader, loss_fn, metric_fns, config = get_model_loaders_config(PATH, old_gpu='cuda:1', new_gpu='cuda:1')\n",
    "    log = get_vae_MNIST_perf(model, data_loaders['val'], loss_fn, metric_fns, device, \n",
    "                             fixed_rotation=None, return_size=40)\n",
    "    log['latent_size'] = latent_size[i]\n",
    "    results = results.append(log, ignore_index=True)\n",
    "\n",
    "    \n",
    "fig, ax = plt.subplots()\n",
    "ax.plot(results['latent_size'], results['loss'])\n",
    "\n",
    "ax.set(xlabel='latent_size', ylabel='Loss (KLD + BCE , is this likelihood)',\n",
    "       title='Autoencoding Performance vs. latent_size (averaged over 5 training runs)')\n",
    "plt.show()"
   ]
  },
  {
   "cell_type": "markdown",
   "metadata": {},
   "source": [
    "# STN VAE\n",
    "* Affine VAE is just a normal VAE added inside the model, no new trained parameters\n",
    "* For STN VAE the STN must be trained"
   ]
  },
  {
   "cell_type": "markdown",
   "metadata": {},
   "source": [
    "## Check a few examples"
   ]
  },
  {
   "cell_type": "code",
   "execution_count": 9,
   "metadata": {},
   "outputs": [
    {
     "data": {
      "image/png": "[encoded data removed]",
      "text/plain": [
       "<Figure size 720x720 with 6 Axes>"
      ]
     },
     "metadata": {
      "needs_background": "light"
     },
     "output_type": "display_data"
    }
   ],
   "source": [
    "config_loc = '/media/rene/data/equivariance/mnist/stn_vae_mnist_L16_rotate/0204_164911'\n",
    "model, data_loader, valid_data_loader, loss_fn, metric_fns, config = get_model_loaders_config(config_loc, old_gpu='cuda:1', new_gpu='cuda:1')\n",
    "display_results_auto(model, config, device, rotate=0, num_samples=3, label_col_name='class', save_loc=None)"
   ]
  },
  {
   "cell_type": "markdown",
   "metadata": {},
   "source": [
    "## Test affine and affine inverse functions"
   ]
  },
  {
   "cell_type": "code",
   "execution_count": 96,
   "metadata": {},
   "outputs": [],
   "source": [
    "# affine_params =  torch.tensor([1.5, 0, 0, 0, 1.5, 0], dtype=torch.float).view(2, 3).to(device)\n",
    "theta = torch.tensor([math.pi/2]).float()\n",
    "affine_params = torch.cat([torch.cos(theta), torch.sin(theta), torch.tensor([0]).float(),\n",
    "                           -1*torch.sin(theta), torch.cos(theta), torch.tensor([0]).float()]).view(2, 3)\n",
    "affine_params = affine_params.expand(x.size()[0], affine_params.size()[0], affine_params.size()[1]).clone()\n",
    "\n",
    "data_loaders = make_generators_MNIST_CTRNFS(files_dict_loc, batch_size=128, num_workers=4, \n",
    "                                            return_size=28)\n",
    "\n",
    "x, y = next(iter(valid_data_loader))\n",
    "x = x.to(device)\n",
    "\n",
    "x_affine = affine_model.affine(x, affine_params)\n",
    "x_affine_recon, mu_logvar = affine_model.VAE(x_affine)\n",
    "x_affine_recon_inv = affine_model.affine_inv(x_recon, affine_params)\n",
    "x_affine_inv = affine_model.affine_inv(x_affine, affine_params)\n",
    "\n",
    "# recon_x, mu_logvar, affine_params = affine_model(x, affine_params=None, deterministic=False)\n",
    "# display_results_auto(affine_model, config, device, rotate=0, num_samples=3, size = 40, label_col_name='class', save_loc=None)"
   ]
  },
  {
   "cell_type": "code",
   "execution_count": 99,
   "metadata": {},
   "outputs": [
    {
     "data": {
      "image/png": "[encoded data removed]",
      "text/plain": [
       "<Figure size 720x720 with 6 Axes>"
      ]
     },
     "metadata": {
      "needs_background": "light"
     },
     "output_type": "display_data"
    }
   ],
   "source": [
    "display_batch(x_affine[:3, :, :], x_affine_inv[:3, :, :])\n",
    "# display_batch(x_affine_recon[5:7, :, :], x_affine_recon_inv[5:7, :, :])"
   ]
  },
  {
   "cell_type": "markdown",
   "metadata": {},
   "source": [
    "# Rotation augmented STN vs. non-Rotation augmented.\n",
    "* Here we compare the exact same model trained using augmented and non-augmented data.\n",
    "* This isn't a good comparision, because here we are confusing the benefit of the STN module, with the rotation augmentation (rotation augmentation alone is useful)\n",
    "\n",
    "#### STN without rotation augmentation is same as normal VAE"
   ]
  },
  {
   "cell_type": "markdown",
   "metadata": {},
   "source": []
  },
  {
   "cell_type": "code",
   "execution_count": null,
   "metadata": {},
   "outputs": [],
   "source": [
    "# config_loc = '/media/rene/data/equivariance/mnist/stn_vae_mnist_L16/0204_164900'\n",
    "# model, data_loader, valid_data_loader, loss_fn, metric_fns, config = get_model_loaders_config(config_loc, old_gpu='cuda:1', new_gpu='cuda:1')\n",
    "\n",
    "# files_dict_loc = '/media/rene/data/MNIST/files_dict.pkl'\n",
    "# with open(files_dict_loc, 'rb') as f:\n",
    "#     files_df = pickle.load(f)['val']\n",
    "# data_loaders = make_generators_MNIST_CTRNFS(files_dict_loc, batch_size=128, num_workers=4, \n",
    "#                                             return_size=28, rotation_range=None, normalize=False)\n",
    "\n",
    "# results = pd.DataFrame()\n",
    "# for rotation in range(0, 180, 15):\n",
    "#     log = get_vae_MNIST_perf(model, data_loaders['val'], loss_fn, metric_fns, device, \n",
    "#                              fixed_rotation=rotation, return_size=40)\n",
    "#     log['rotation'] = rotation\n",
    "#     results = results.append(log, ignore_index=True)\n",
    "    \n",
    "# fig, ax = plt.subplots()\n",
    "# ax.plot(results['rotation'], results['loss'])\n",
    "\n",
    "# ax.set(xlabel='Rotation (degrees)', ylabel='Loss (KLD + BCE , is this likelihood)',\n",
    "#        title='Autoencoding Performance vs. Rotation')\n",
    "# plt.show()"
   ]
  },
  {
   "cell_type": "markdown",
   "metadata": {},
   "source": [
    "# Train the STN module only\n",
    "* Same number of epochs, etc. but this time there is rotation augmentation"
   ]
  },
  {
   "cell_type": "code",
   "execution_count": null,
   "metadata": {},
   "outputs": [
    {
     "name": "stderr",
     "output_type": "stream",
     "text": [
      "Saving checkpoint: /media/rene/data/equivariance/mnist/stn_training/stn_vae_mnist_L16/0207_225028/checkpoint-epoch1.pth ...\n",
      "Saving current best: model_best.pth ...\n",
      "Saving checkpoint: /media/rene/data/equivariance/mnist/stn_training/stn_vae_mnist_L16/0207_225028/checkpoint-epoch2.pth ...\n",
      "Saving current best: model_best.pth ...\n",
      "Saving checkpoint: /media/rene/data/equivariance/mnist/stn_training/stn_vae_mnist_L16/0207_225028/checkpoint-epoch3.pth ...\n",
      "Saving current best: model_best.pth ...\n",
      "Saving checkpoint: /media/rene/data/equivariance/mnist/stn_training/stn_vae_mnist_L16/0207_225028/checkpoint-epoch4.pth ...\n",
      "Saving checkpoint: /media/rene/data/equivariance/mnist/stn_training/stn_vae_mnist_L16/0207_225028/checkpoint-epoch5.pth ...\n",
      "Saving checkpoint: /media/rene/data/equivariance/mnist/stn_training/stn_vae_mnist_L16/0207_225028/checkpoint-epoch6.pth ...\n",
      "Saving current best: model_best.pth ...\n",
      "Saving checkpoint: /media/rene/data/equivariance/mnist/stn_training/stn_vae_mnist_L16/0207_225028/checkpoint-epoch7.pth ...\n",
      "Saving current best: model_best.pth ...\n",
      "Saving checkpoint: /media/rene/data/equivariance/mnist/stn_training/stn_vae_mnist_L16/0207_225028/checkpoint-epoch8.pth ...\n",
      "Saving checkpoint: /media/rene/data/equivariance/mnist/stn_training/stn_vae_mnist_L16/0207_225028/checkpoint-epoch9.pth ...\n",
      "Saving checkpoint: /media/rene/data/equivariance/mnist/stn_training/stn_vae_mnist_L16/0207_225028/checkpoint-epoch10.pth ...\n",
      "Saving checkpoint: /media/rene/data/equivariance/mnist/stn_training/stn_vae_mnist_L16/0207_225028/checkpoint-epoch11.pth ...\n",
      "Saving checkpoint: /media/rene/data/equivariance/mnist/stn_training/stn_vae_mnist_L16/0207_225028/checkpoint-epoch12.pth ...\n",
      "Saving checkpoint: /media/rene/data/equivariance/mnist/stn_training/stn_vae_mnist_L16/0207_225028/checkpoint-epoch13.pth ...\n",
      "Saving checkpoint: /media/rene/data/equivariance/mnist/stn_training/stn_vae_mnist_L16/0207_225028/checkpoint-epoch14.pth ...\n",
      "Saving checkpoint: /media/rene/data/equivariance/mnist/stn_training/stn_vae_mnist_L16/0207_225028/checkpoint-epoch15.pth ...\n",
      "Saving checkpoint: /media/rene/data/equivariance/mnist/stn_training/stn_vae_mnist_L16/0207_225028/checkpoint-epoch16.pth ...\n",
      "Saving checkpoint: /media/rene/data/equivariance/mnist/stn_training/stn_vae_mnist_L16/0207_225028/checkpoint-epoch17.pth ...\n",
      "Saving checkpoint: /media/rene/data/equivariance/mnist/stn_training/stn_vae_mnist_L16/0207_225028/checkpoint-epoch18.pth ...\n",
      "Saving current best: model_best.pth ...\n",
      "Saving checkpoint: /media/rene/data/equivariance/mnist/stn_training/stn_vae_mnist_L16/0207_225028/checkpoint-epoch19.pth ...\n",
      "Saving checkpoint: /media/rene/data/equivariance/mnist/stn_training/stn_vae_mnist_L16/0207_225028/checkpoint-epoch20.pth ...\n",
      "Saving checkpoint: /media/rene/data/equivariance/mnist/stn_training/stn_vae_mnist_L16/0207_225028/checkpoint-epoch21.pth ...\n",
      "Saving checkpoint: /media/rene/data/equivariance/mnist/stn_training/stn_vae_mnist_L16/0207_225028/checkpoint-epoch22.pth ...\n",
      "Saving checkpoint: /media/rene/data/equivariance/mnist/stn_training/stn_vae_mnist_L16/0207_225028/checkpoint-epoch23.pth ...\n",
      "Saving checkpoint: /media/rene/data/equivariance/mnist/stn_training/stn_vae_mnist_L16/0207_225028/checkpoint-epoch24.pth ...\n",
      "Saving checkpoint: /media/rene/data/equivariance/mnist/stn_training/stn_vae_mnist_L16/0207_225028/checkpoint-epoch25.pth ...\n",
      "Saving checkpoint: /media/rene/data/equivariance/mnist/stn_training/stn_vae_mnist_L16/0207_225028/checkpoint-epoch26.pth ...\n",
      "Saving checkpoint: /media/rene/data/equivariance/mnist/stn_training/stn_vae_mnist_L16/0207_225028/checkpoint-epoch27.pth ...\n",
      "Saving checkpoint: /media/rene/data/equivariance/mnist/stn_training/stn_vae_mnist_L16/0207_225028/checkpoint-epoch28.pth ...\n",
      "Saving checkpoint: /media/rene/data/equivariance/mnist/stn_training/stn_vae_mnist_L16/0207_225028/checkpoint-epoch29.pth ...\n",
      "Saving checkpoint: /media/rene/data/equivariance/mnist/stn_training/stn_vae_mnist_L16/0207_225028/checkpoint-epoch30.pth ...\n",
      "Saving checkpoint: /media/rene/data/equivariance/mnist/stn_training/stn_vae_mnist_L16/0207_225028/checkpoint-epoch31.pth ...\n"
     ]
    }
   ],
   "source": [
    "from trainer import Trainer\n",
    "from utils import Logger\n",
    "train_logger = Logger()\n",
    "def get_instance(module, name, config, *args):\n",
    "    return getattr(module, config[name]['type'])(*args, **config[name]['args'])\n",
    "\n",
    "config_loc = '/media/rene/data/equivariance/mnist/stn_vae_mnist_L16/0204_164900'\n",
    "model, data_loader, valid_data_loader, loss_fn, metric_fns, config = get_model_loaders_config(config_loc, old_gpu='cuda:1', new_gpu='cuda:1')\n",
    "\n",
    "for p in model.parameters():\n",
    "    model.VAE.requires_grad = False\n",
    "\n",
    "config_loc = '/media/rene/data/equivariance/mnist/stn_vae_mnist_L16/0204_164900'\n",
    "model, data_loader, valid_data_loader, loss, metrics, config = get_model_loaders_config(config_loc, old_gpu='cuda:1', new_gpu='cuda:1')\n",
    "config['trainer']['verbosity'] = 0\n",
    "config['trainer']['save_dir'] = '/media/rene/data/equivariance/mnist/stn_training'\n",
    "config['trainer']['log_dir'] = config['trainer']['save_dir']\n",
    "config['trainer']['rotation_range'] = [0, 360]\n",
    "config['trainer']['epochs'] = 300\n",
    "\n",
    "# build optimizer, learning rate scheduler. delete every lines containing lr_scheduler for disabling scheduler\n",
    "trainable_params = filter(lambda p: p.requires_grad, model.parameters())\n",
    "optimizer = get_instance(torch.optim, 'optimizer', config, trainable_params)\n",
    "lr_scheduler = get_instance(torch.optim.lr_scheduler, 'lr_scheduler', config, optimizer)\n",
    "\n",
    "trainer = Trainer(model, loss, metrics, optimizer,\n",
    "                  resume=False,\n",
    "                  config=config,\n",
    "                  data_loader=data_loader,\n",
    "                  valid_data_loader=valid_data_loader,\n",
    "                  lr_scheduler=lr_scheduler,\n",
    "                  train_logger=train_logger)\n",
    "# trainer.train()"
   ]
  },
  {
   "cell_type": "code",
   "execution_count": 10,
   "metadata": {},
   "outputs": [
    {
     "name": "stderr",
     "output_type": "stream",
     "text": [
      "100%|██████████| 79/79 [00:03<00:00, 23.52it/s]\n",
      "100%|██████████| 79/79 [00:03<00:00, 22.87it/s]\n",
      "100%|██████████| 79/79 [00:03<00:00, 22.08it/s]\n",
      "100%|██████████| 79/79 [00:03<00:00, 23.38it/s]\n",
      "100%|██████████| 79/79 [00:03<00:00, 22.86it/s]\n",
      "100%|██████████| 79/79 [00:03<00:00, 20.40it/s]\n",
      "100%|██████████| 79/79 [00:03<00:00, 22.03it/s]\n",
      "100%|██████████| 79/79 [00:03<00:00, 21.54it/s]\n",
      "100%|██████████| 79/79 [00:03<00:00, 21.27it/s]\n",
      "100%|██████████| 79/79 [00:03<00:00, 21.44it/s]\n",
      "100%|██████████| 79/79 [00:03<00:00, 21.57it/s]\n",
      "100%|██████████| 79/79 [00:03<00:00, 22.08it/s]\n"
     ]
    },
    {
     "data": {
      "image/png": "[encoded data removed]",
      "text/plain": [
       "<Figure size 432x288 with 1 Axes>"
      ]
     },
     "metadata": {
      "needs_background": "light"
     },
     "output_type": "display_data"
    }
   ],
   "source": [
    "# config_loc = '/media/rene/data/equivariance/mnist/stn_vae_mnist_L16_rotate/0204_164911'\n",
    "# model, data_loader, valid_data_loader, loss_fn, metric_fns, config = get_model_loaders_config(config_loc, old_gpu='cuda:1', new_gpu='cuda:1')\n",
    "\n",
    "# files_dict_loc = '/media/rene/data/MNIST/files_dict.pkl'\n",
    "# with open(files_dict_loc, 'rb') as f:\n",
    "#     files_df = pickle.load(f)['val']\n",
    "# data_loaders = make_generators_MNIST_CTRNFS(files_dict_loc, batch_size=128, num_workers=4, \n",
    "#                                             return_size=28, rotation_range=None, normalize=False)\n",
    "\n",
    "# results = pd.DataFrame()\n",
    "# for rotation in range(0, 180, 15):\n",
    "#     log = get_vae_MNIST_perf(model, data_loaders['val'], loss_fn, metric_fns, device, \n",
    "#                              fixed_rotation=rotation, return_size=40)\n",
    "#     log['rotation'] = rotation\n",
    "#     results = results.append(log, ignore_index=True)\n",
    "    \n",
    "# fig, ax = plt.subplots()\n",
    "# ax.plot(results['rotation'], results['loss'])\n",
    "\n",
    "# ax.set(xlabel='Rotation (degrees)', ylabel='Loss (KLD + BCE , is this likelihood)',\n",
    "#        title='Autoencoding Performance vs. Rotation')\n",
    "# plt.show()"
   ]
  },
  {
   "cell_type": "markdown",
   "metadata": {},
   "source": [
    "## With and without using STN on identical VAE\n",
    "* Difference is the one t"
   ]
  },
  {
   "cell_type": "code",
   "execution_count": 4,
   "metadata": {},
   "outputs": [
    {
     "name": "stderr",
     "output_type": "stream",
     "text": [
      "100%|██████████| 79/79 [00:30<00:00,  3.25it/s]\n",
      "100%|██████████| 79/79 [00:04<00:00, 17.45it/s]\n",
      "100%|██████████| 79/79 [00:04<00:00, 16.32it/s]\n",
      "100%|██████████| 79/79 [00:04<00:00, 16.97it/s]\n",
      "100%|██████████| 79/79 [00:04<00:00, 16.94it/s]\n",
      "100%|██████████| 79/79 [00:04<00:00, 16.68it/s]\n",
      "100%|██████████| 79/79 [00:04<00:00, 16.91it/s]\n",
      "100%|██████████| 79/79 [00:04<00:00, 16.61it/s]\n",
      "100%|██████████| 79/79 [00:04<00:00, 16.29it/s]\n",
      "100%|██████████| 79/79 [00:04<00:00, 17.35it/s]\n",
      "100%|██████████| 79/79 [00:04<00:00, 16.83it/s]\n",
      "100%|██████████| 79/79 [00:04<00:00, 16.95it/s]\n",
      "100%|██████████| 79/79 [00:04<00:00, 30.53it/s]\n",
      "100%|██████████| 79/79 [00:04<00:00, 16.08it/s]\n",
      "100%|██████████| 79/79 [00:04<00:00, 16.78it/s]\n",
      "100%|██████████| 79/79 [00:04<00:00, 21.09it/s]\n",
      "100%|██████████| 79/79 [00:04<00:00, 16.35it/s]\n",
      "100%|██████████| 79/79 [00:04<00:00, 16.98it/s]\n",
      "100%|██████████| 79/79 [00:04<00:00, 16.73it/s]\n",
      "100%|██████████| 79/79 [00:04<00:00, 16.90it/s]\n",
      "100%|██████████| 79/79 [00:04<00:00, 15.93it/s]\n",
      "100%|██████████| 79/79 [00:04<00:00, 17.03it/s]\n",
      "100%|██████████| 79/79 [00:04<00:00, 17.14it/s]\n",
      "100%|██████████| 79/79 [00:04<00:00, 16.38it/s]\n"
     ]
    },
    {
     "data": {
      "image/png": "[encoded data removed]",
      "text/plain": [
       "<Figure size 432x288 with 1 Axes>"
      ]
     },
     "metadata": {
      "needs_background": "light"
     },
     "output_type": "display_data"
    }
   ],
   "source": [
    "config_loc = '/media/rene/data/equivariance/mnist/stn_vae_mnist_L16/0204_164900'\n",
    "model, data_loader, valid_data_loader, loss_fn, metric_fns, config = get_model_loaders_config(config_loc, old_gpu='cuda:1', new_gpu='cuda:1')\n",
    "\n",
    "files_dict_loc = '/media/rene/data/MNIST/files_dict.pkl'\n",
    "# with open(files_dict_loc, 'rb') as f:\n",
    "#     files_df = pickle.load(f)['val']\n",
    "data_loaders = make_generators_MNIST_CTRNFS(files_dict_loc, batch_size=128, num_workers=4, \n",
    "                                            return_size=28, rotation_range=None, normalize=False)\n",
    "\n",
    "results = pd.DataFrame()\n",
    "for rotation in range(0, 180, 15):\n",
    "    log = get_vae_MNIST_perf(model, data_loaders['val'], loss_fn, metric_fns, device, \n",
    "                             fixed_rotation=rotation, return_size=40)\n",
    "    log['rotation'] = rotation\n",
    "    results = results.append(log, ignore_index=True)\n",
    "    \n",
    "# trained stn\n",
    "config_loc = '/media/rene/data/equivariance/mnist/stn_training/stn_vae_mnist_L16/0207_225028'\n",
    "model, data_loader, valid_data_loader, loss_fn, metric_fns, config = get_model_loaders_config(config_loc, old_gpu='cuda:1', new_gpu='cuda:1')\n",
    "\n",
    "results_stn = pd.DataFrame()\n",
    "for rotation in range(0, 180, 15):\n",
    "    log = get_vae_MNIST_perf(model, data_loaders['val'], loss_fn, metric_fns, device, \n",
    "                             fixed_rotation=rotation, return_size=40)\n",
    "    log['rotation'] = rotation\n",
    "    results_stn = results_stn.append(log, ignore_index=True)\n",
    "\n",
    "fig, ax = plt.subplots()\n",
    "ax.plot(results['rotation'], results['loss'], label=\"No Trained STN\")\n",
    "ax.plot(results_stn['rotation'], results_stn['loss'], label=\"Using STN\")\n",
    "\n",
    "ax.set(xlabel='Rotation', ylabel='Loss = KLD + BCE',\n",
    "       title='Loss vs. Rotation')\n",
    "ax.legend(loc='best')\n",
    "\n",
    "plt.savefig('/media/rene/code/equivariance/imgs/rotation_stn_perf.png')\n",
    "plt.show()"
   ]
  },
  {
   "cell_type": "markdown",
   "metadata": {},
   "source": [
    "### STN VAE Result\n",
    "It seems that the STN doesn't help much, and the majority of the help comes from using the augmentation."
   ]
  },
  {
   "cell_type": "markdown",
   "metadata": {},
   "source": [
    "## Average loss for affine Rotation and an image rotation:"
   ]
  },
  {
   "cell_type": "code",
   "execution_count": 4,
   "metadata": {},
   "outputs": [],
   "source": [
    "config_loc = '/media/rene/data/equivariance/mnist/vae_mnist_L16/0129_230250'\n",
    "VAE, data_loader, valid_data_loader, loss_fn, metric_fns, config = get_model_loaders_config(config_loc, old_gpu='cuda:1', new_gpu='cuda:0')\n",
    "VAE = VAE.to(device)\n",
    "\n",
    "AffineVAE = getattr(module_arch, 'AffineVAE')\n",
    "affine_model = AffineVAE(pre_trained_VAE=VAE, img_size=28, input_dim=1, output_dim=1, latent_size=16, use_STN=False)\n",
    "affine_model = affine_model.to(device)"
   ]
  },
  {
   "cell_type": "code",
   "execution_count": 10,
   "metadata": {},
   "outputs": [
    {
     "name": "stderr",
     "output_type": "stream",
     "text": [
      "/home/rene/miniconda3/envs/HVAE/lib/python3.6/site-packages/matplotlib/figure.py:445: UserWarning: Matplotlib is currently using module://ipykernel.pylab.backend_inline, which is a non-GUI backend, so cannot show the figure.\n",
      "  % get_backend())\n"
     ]
    },
    {
     "data": {
      "image/png": "[encoded data removed]",
      "text/plain": [
       "<Figure size 576x576 with 2 Axes>"
      ]
     },
     "metadata": {
      "needs_background": "light"
     },
     "output_type": "display_data"
    }
   ],
   "source": [
    "files_dict_loc = '/media/rene/data/MNIST/files_dict.pkl'\n",
    "batch_size = 20\n",
    "num_evals = 12\n",
    "data_loaders = make_generators_MNIST_CTRNFS(files_dict_loc, batch_size=batch_size, num_workers=4,\n",
    "                                            return_size=28, rotation_range=None, normalize=False)\n",
    "\n",
    "x, y = next(iter(data_loaders['val']))\n",
    "thetas = np.linspace(0, 2*math.pi, num_evals)\n",
    "degrees = [180*x/math.pi for x in thetas]\n",
    "results = np.zeros((num_evals, num_evals))\n",
    "for i, affine_rotation in enumerate(thetas):\n",
    "    for j, img_rotation in enumerate(degrees):\n",
    "        rot_x = rotate_mnist_batch(x, return_size=40, fixed_rotation=img_rotation)\n",
    "        curr_loss = 0\n",
    "        for idx in range(batch_size):\n",
    "            img = rot_x[idx, :, :, :].unsqueeze(0)\n",
    "            img = img.to(device)\n",
    "\n",
    "            output = affine_model(img, deterministic=True, theta=affine_rotation)\n",
    "            loss = loss_fn(output, img)\n",
    "            curr_loss += loss.item()\n",
    "        results[i, j] = curr_loss/batch_size\n",
    "    \n",
    "degrees = [int(x) for x in degrees]\n",
    "fig, ax = plt.subplots(figsize=(8,8))\n",
    "im = ax.imshow(results, interpolation='none', cmap=plt.cm.Reds)\n",
    "ax.set_xticks(np.arange(len(degrees)))\n",
    "ax.set_yticks(np.arange(len(degrees)))\n",
    "ax.set_xticklabels(degrees)\n",
    "ax.set_yticklabels(degrees)\n",
    "ax.set_title(\"VAE loss on rotated images, while varying the affine transform\")\n",
    "fig.colorbar(im, fraction=0.046, pad=0.04)\n",
    "fig.savefig('/media/rene/code/equivariance/imgs/affine_img_rot_perf_heatmap.png', bbox_inches='tight')\n",
    "fig.show()"
   ]
  },
  {
   "cell_type": "markdown",
   "metadata": {},
   "source": [
    "A minimum loss along the diagonal, where the image roatation is equal to the transformation, bringing the image back to the cannocal orientation. In the ideal case the loss should be equal and minimum along the diagonal. Since there is some change diring the affine transform do to interpolation, this is not exact."
   ]
  },
  {
   "cell_type": "code",
   "execution_count": 4,
   "metadata": {},
   "outputs": [],
   "source": [
    "def display_affine_vae(affine_model, loss, files_dict_loc, img_rotation, affine_rotation, \n",
    "                       num_samples=3, save_loc=None):\n",
    "    \n",
    "    data_loaders = make_generators_MNIST_CTRNFS(files_dict_loc, batch_size=128, num_workers=4, \n",
    "                                            return_size=28, rotation_range=None, normalize=False)\n",
    "    \n",
    "    x, y = next(iter(data_loaders['val']))\n",
    "    rot_x = rotate_mnist_batch(x, return_size=40, fixed_rotation=img_rotation)\n",
    "    x = rotate_mnist_batch(x, return_size=40, fixed_rotation=0)\n",
    "\n",
    "    fig, ax = plt.subplots(num_samples, 6, sharex='col', sharey='row',figsize=(15,15))\n",
    "    \n",
    "    for i in range(num_samples):\n",
    "        idx = random.randint(0, x.size()[0])\n",
    "        img = x[idx, :, :, :].unsqueeze(0)\n",
    "        img = img.to(device)\n",
    "        rot_img = rot_x[idx, :, :, :].unsqueeze(0)\n",
    "        rot_img = rot_img.to(device)\n",
    "         \n",
    "        output = affine_model.VAE(img,  deterministic=True)\n",
    "        loss = loss_fn(output, img)\n",
    "            \n",
    "        rot_output = affine_model.VAE(rot_img,  deterministic=True)\n",
    "        rot_loss = loss_fn(output, rot_img)\n",
    "        \n",
    "        affine_output = affine_model(rot_img, deterministic=True, theta=affine_rotation, return_affine=True)\n",
    "        affine_loss = loss_fn(affine_output[:2], rot_img)\n",
    "        \n",
    "        affine_params = affine_output[2]\n",
    "        affine_rot_img = affine_output[3]\n",
    "#         affine_rot_img = affine_model.affine(rot_img, affine_params)\n",
    "\n",
    "        ax[i, 0].imshow(torch_to_np(img), cmap='Greys',  interpolation='nearest')\n",
    "        ax[i, 1].imshow(torch_to_np(output[0]), cmap='Greys',  interpolation='nearest')\n",
    "        ax[i, 2].imshow(torch_to_np(rot_img), cmap='Greys',  interpolation='nearest')\n",
    "        ax[i, 3].imshow(torch_to_np(rot_output[0]), cmap='Greys',  interpolation='nearest')\n",
    "        ax[i, 4].imshow(torch_to_np(affine_rot_img), cmap='Greys',  interpolation='nearest')\n",
    "        ax[i, 5].imshow(torch_to_np(affine_output[0]), cmap='Greys',  interpolation='nearest')\n",
    "        \n",
    "        ax[i, 0].title.set_text('img')\n",
    "        ax[i, 1].title.set_text(f'Recon {loss.item():9.1f}')\n",
    "        ax[i, 2].title.set_text('Rot img')\n",
    "        ax[i, 3].title.set_text(f'Recon Rot{rot_loss.item():9.1f}')      \n",
    "        ax[i, 4].title.set_text('Affine Transfrom')\n",
    "        ax[i, 5].title.set_text(f'Recon affine {affine_loss.item():9.1f}')\n",
    "        ax[i, 0].axis('off')\n",
    "        ax[i, 1].axis('off')\n",
    "        ax[i, 2].axis('off')\n",
    "        ax[i, 3].axis('off')\n",
    "        ax[i, 4].axis('off')\n",
    "        ax[i, 5].axis('off')\n",
    "\n",
    "        if save_loc:\n",
    "            plt.savefig(save_loc, bbox_inches='tight')"
   ]
  },
  {
   "cell_type": "code",
   "execution_count": 142,
   "metadata": {},
   "outputs": [
    {
     "data": {
      "image/png": "[encoded data removed]",
      "text/plain": [
       "<Figure size 1080x1080 with 18 Axes>"
      ]
     },
     "metadata": {
      "needs_background": "light"
     },
     "output_type": "display_data"
    }
   ],
   "source": [
    "files_dict_loc = '/media/rene/data/MNIST/files_dict.pkl'\n",
    "config_loc = '/media/rene/data/equivariance/mnist/vae_mnist_L16/0129_230250'\n",
    "VAE, data_loader, valid_data_loader, loss_fn, metric_fns, config = get_model_loaders_config(config_loc, old_gpu='cuda:1', new_gpu='cuda:0')\n",
    "VAE = VAE.to(device)\n",
    "\n",
    "AffineVAE = getattr(module_arch, 'AffineVAE')\n",
    "affine_model = AffineVAE(pre_trained_VAE=VAE, img_size=28, input_dim=1, output_dim=1, latent_size=8, use_STN=False)\n",
    "affine_model = affine_model.to(device)\n",
    "\n",
    "display_affine_vae(affine_model, loss_fn, files_dict_loc, img_rotation=90, affine_rotation=(math.pi/2), \n",
    "                   num_samples=3, save_loc=None)"
   ]
  },
  {
   "cell_type": "markdown",
   "metadata": {},
   "source": [
    "#### Looks resonable, the correctly rotated img has much lower error\n",
    "Image generator rotates by degrees counterclockwise\n",
    "Affine transform rotates by radians counterclockwise"
   ]
  },
  {
   "cell_type": "markdown",
   "metadata": {},
   "source": [
    "## Optimizing rotation to reduce loss\n",
    "* Non-rotation augmented VAE\n",
    "* Even random search works here"
   ]
  },
  {
   "cell_type": "code",
   "execution_count": 6,
   "metadata": {},
   "outputs": [],
   "source": [
    "def get_AFFINE_MNIST_perf(model, data_loader, loss_fn, metric_fns, device, fixed_rotation, return_size=40, optimize=False, iterations=0, num_trials=200):\n",
    "    \"\"\"Evaluate performance on MNIST Dataset using a given rotation\n",
    "    \n",
    "    Dataloader should be MNISTCustomTRNFS with size=28x28, unnormalized, not rotated\"\"\"\n",
    "\n",
    "    with torch.cuda.device(device.index):\n",
    "        model = model.to(device)\n",
    "        model.eval()\n",
    "\n",
    "        total_loss = 0.0\n",
    "        total_metrics = torch.zeros(len(metric_fns))\n",
    "\n",
    "        with torch.no_grad():\n",
    "            for i, (data, target) in enumerate(tqdm(data_loader)):\n",
    "                batch_size = data.shape[0]\n",
    "                rot_x = rotate_mnist_batch(data, return_size=40, fixed_rotation=fixed_rotation)\n",
    "                rot_x, target = rot_x.to(device), target.to(device)\n",
    "                if optimize:\n",
    "                    best_affine_params, loss = affine_model.optimize_affine_params(rot_x, only_rotation=True, \n",
    "                                                                               num_times=num_trials, iterations=iterations)\n",
    "                else:\n",
    "                    output = model(rot_x, deterministic=True, theta=0.0)\n",
    "                    loss = loss_fn(output, rot_x).item()\n",
    "\n",
    "                total_loss += loss * batch_size\n",
    "#                 for i, metric in enumerate(metric_fns):\n",
    "#                     total_metrics[i] += metric(output, rot_x) * batch_size\n",
    "\n",
    "        n_samples = len(data_loader.sampler)\n",
    "        log = {'loss': total_loss / n_samples}\n",
    "#         log.update({met.__name__ : total_metrics[i].item() / n_samples for i, met in enumerate(metric_fns)})\n",
    "        return log"
   ]
  },
  {
   "cell_type": "code",
   "execution_count": 8,
   "metadata": {},
   "outputs": [
    {
     "name": "stderr",
     "output_type": "stream",
     "text": [
      "100%|██████████| 10000/10000 [01:46<00:00, 95.96it/s]\n",
      " 10%|▉         | 972/10000 [06:27<59:43,  2.52it/s]"
     ]
    },
    {
     "ename": "KeyboardInterrupt",
     "evalue": "",
     "output_type": "error",
     "traceback": [
      "\u001b[0;31m---------------------------------------------------------------------------\u001b[0m",
      "\u001b[0;31mKeyboardInterrupt\u001b[0m                         Traceback (most recent call last)",
      "\u001b[0;32m<ipython-input-8-434f9bacb55c>\u001b[0m in \u001b[0;36m<module>\u001b[0;34m()\u001b[0m\n\u001b[1;32m     20\u001b[0m \u001b[0;34m\u001b[0m\u001b[0m\n\u001b[1;32m     21\u001b[0m     log_opt = get_AFFINE_MNIST_perf(affine_model, data_loaders['val'], loss_fn, metric_fns, device, fixed_rotation=rotation, \n\u001b[0;32m---> 22\u001b[0;31m                                 optimize=True, return_size=40, iterations=0, num_trials=50)\n\u001b[0m\u001b[1;32m     23\u001b[0m     \u001b[0mlog_opt\u001b[0m\u001b[0;34m[\u001b[0m\u001b[0;34m'rotation'\u001b[0m\u001b[0;34m]\u001b[0m \u001b[0;34m=\u001b[0m \u001b[0mrotation\u001b[0m\u001b[0;34m\u001b[0m\u001b[0;34m\u001b[0m\u001b[0m\n\u001b[1;32m     24\u001b[0m     \u001b[0mresults_opt\u001b[0m \u001b[0;34m=\u001b[0m \u001b[0mresults_opt\u001b[0m\u001b[0;34m.\u001b[0m\u001b[0mappend\u001b[0m\u001b[0;34m(\u001b[0m\u001b[0mlog_opt\u001b[0m\u001b[0;34m,\u001b[0m \u001b[0mignore_index\u001b[0m\u001b[0;34m=\u001b[0m\u001b[0;32mTrue\u001b[0m\u001b[0;34m)\u001b[0m\u001b[0;34m\u001b[0m\u001b[0;34m\u001b[0m\u001b[0m\n",
      "\u001b[0;32m<ipython-input-6-862c764b730c>\u001b[0m in \u001b[0;36mget_AFFINE_MNIST_perf\u001b[0;34m(model, data_loader, loss_fn, metric_fns, device, fixed_rotation, return_size, optimize, iterations, num_trials)\u001b[0m\n\u001b[1;32m     18\u001b[0m                 \u001b[0;32mif\u001b[0m \u001b[0moptimize\u001b[0m\u001b[0;34m:\u001b[0m\u001b[0;34m\u001b[0m\u001b[0;34m\u001b[0m\u001b[0m\n\u001b[1;32m     19\u001b[0m                     best_affine_params, loss = affine_model.optimize_affine_params(rot_x, only_rotation=True, \n\u001b[0;32m---> 20\u001b[0;31m                                                                                num_times=num_trials, iterations=iterations)\n\u001b[0m\u001b[1;32m     21\u001b[0m                 \u001b[0;32melse\u001b[0m\u001b[0;34m:\u001b[0m\u001b[0;34m\u001b[0m\u001b[0;34m\u001b[0m\u001b[0m\n\u001b[1;32m     22\u001b[0m                     \u001b[0moutput\u001b[0m \u001b[0;34m=\u001b[0m \u001b[0mmodel\u001b[0m\u001b[0;34m(\u001b[0m\u001b[0mrot_x\u001b[0m\u001b[0;34m,\u001b[0m \u001b[0mdeterministic\u001b[0m\u001b[0;34m=\u001b[0m\u001b[0;32mTrue\u001b[0m\u001b[0;34m,\u001b[0m \u001b[0mtheta\u001b[0m\u001b[0;34m=\u001b[0m\u001b[0;36m0.0\u001b[0m\u001b[0;34m)\u001b[0m\u001b[0;34m\u001b[0m\u001b[0;34m\u001b[0m\u001b[0m\n",
      "\u001b[0;32m/media/rene/code/equivariance/model/model.py\u001b[0m in \u001b[0;36moptimize_affine_params\u001b[0;34m(self, x, only_rotation, num_times, iterations, KLD_weight)\u001b[0m\n\u001b[1;32m    141\u001b[0m                     \u001b[0mx_affine\u001b[0m \u001b[0;34m=\u001b[0m \u001b[0mself\u001b[0m\u001b[0;34m.\u001b[0m\u001b[0maffine\u001b[0m\u001b[0;34m(\u001b[0m\u001b[0mx\u001b[0m\u001b[0;34m,\u001b[0m \u001b[0maffine_params\u001b[0m\u001b[0;34m)\u001b[0m\u001b[0;34m\u001b[0m\u001b[0;34m\u001b[0m\u001b[0m\n\u001b[1;32m    142\u001b[0m                     \u001b[0mrecon_x\u001b[0m\u001b[0;34m,\u001b[0m \u001b[0mmu_logvar\u001b[0m \u001b[0;34m=\u001b[0m \u001b[0mself\u001b[0m\u001b[0;34m.\u001b[0m\u001b[0mVAE\u001b[0m\u001b[0;34m(\u001b[0m\u001b[0mx_affine\u001b[0m\u001b[0;34m,\u001b[0m \u001b[0mdeterministic\u001b[0m\u001b[0;34m=\u001b[0m\u001b[0;32mTrue\u001b[0m\u001b[0;34m)\u001b[0m\u001b[0;34m\u001b[0m\u001b[0;34m\u001b[0m\u001b[0m\n\u001b[0;32m--> 143\u001b[0;31m                     \u001b[0mrecon_x\u001b[0m \u001b[0;34m=\u001b[0m \u001b[0mself\u001b[0m\u001b[0;34m.\u001b[0m\u001b[0maffine_inv\u001b[0m\u001b[0;34m(\u001b[0m\u001b[0mrecon_x\u001b[0m\u001b[0;34m,\u001b[0m \u001b[0maffine_params\u001b[0m\u001b[0;34m)\u001b[0m\u001b[0;34m\u001b[0m\u001b[0;34m\u001b[0m\u001b[0m\n\u001b[0m\u001b[1;32m    144\u001b[0m                     \u001b[0mloss\u001b[0m \u001b[0;34m=\u001b[0m \u001b[0mvae_loss\u001b[0m\u001b[0;34m(\u001b[0m\u001b[0;34m(\u001b[0m\u001b[0mrecon_x\u001b[0m\u001b[0;34m,\u001b[0m \u001b[0mmu_logvar\u001b[0m\u001b[0;34m)\u001b[0m\u001b[0;34m,\u001b[0m \u001b[0mx\u001b[0m\u001b[0;34m)\u001b[0m\u001b[0;34m\u001b[0m\u001b[0;34m\u001b[0m\u001b[0m\n\u001b[1;32m    145\u001b[0m                     \u001b[0;32mif\u001b[0m \u001b[0mloss\u001b[0m\u001b[0;34m.\u001b[0m\u001b[0mitem\u001b[0m\u001b[0;34m(\u001b[0m\u001b[0;34m)\u001b[0m \u001b[0;34m<\u001b[0m \u001b[0mbest_loss\u001b[0m\u001b[0;34m:\u001b[0m\u001b[0;34m\u001b[0m\u001b[0;34m\u001b[0m\u001b[0m\n",
      "\u001b[0;32m/media/rene/code/equivariance/model/model.py\u001b[0m in \u001b[0;36maffine_inv\u001b[0;34m(self, x, affine_params, padding_mode)\u001b[0m\n\u001b[1;32m     76\u001b[0m     \u001b[0;32mdef\u001b[0m \u001b[0maffine_inv\u001b[0m\u001b[0;34m(\u001b[0m\u001b[0mself\u001b[0m\u001b[0;34m,\u001b[0m \u001b[0mx\u001b[0m\u001b[0;34m,\u001b[0m \u001b[0maffine_params\u001b[0m\u001b[0;34m,\u001b[0m \u001b[0mpadding_mode\u001b[0m\u001b[0;34m=\u001b[0m\u001b[0;34m'zeros'\u001b[0m\u001b[0;34m)\u001b[0m\u001b[0;34m:\u001b[0m\u001b[0;34m\u001b[0m\u001b[0;34m\u001b[0m\u001b[0m\n\u001b[1;32m     77\u001b[0m         \u001b[0minv_affine_params\u001b[0m \u001b[0;34m=\u001b[0m \u001b[0mtorch\u001b[0m\u001b[0;34m.\u001b[0m\u001b[0mcuda\u001b[0m\u001b[0;34m.\u001b[0m\u001b[0mFloatTensor\u001b[0m\u001b[0;34m(\u001b[0m\u001b[0maffine_params\u001b[0m\u001b[0;34m.\u001b[0m\u001b[0msize\u001b[0m\u001b[0;34m(\u001b[0m\u001b[0;34m)\u001b[0m\u001b[0;34m)\u001b[0m\u001b[0;34m.\u001b[0m\u001b[0mfill_\u001b[0m\u001b[0;34m(\u001b[0m\u001b[0;36m0\u001b[0m\u001b[0;34m)\u001b[0m\u001b[0;34m\u001b[0m\u001b[0;34m\u001b[0m\u001b[0m\n\u001b[0;32m---> 78\u001b[0;31m         \u001b[0mA_inv\u001b[0m \u001b[0;34m=\u001b[0m  \u001b[0mtorch\u001b[0m\u001b[0;34m.\u001b[0m\u001b[0minverse\u001b[0m\u001b[0;34m(\u001b[0m\u001b[0maffine_params\u001b[0m\u001b[0;34m[\u001b[0m\u001b[0;34m:\u001b[0m\u001b[0;34m,\u001b[0m \u001b[0;34m:\u001b[0m\u001b[0;34m,\u001b[0m \u001b[0;34m:\u001b[0m\u001b[0;36m2\u001b[0m\u001b[0;34m]\u001b[0m\u001b[0;34m.\u001b[0m\u001b[0msqueeze\u001b[0m\u001b[0;34m(\u001b[0m\u001b[0;34m)\u001b[0m\u001b[0;34m)\u001b[0m\u001b[0;34m\u001b[0m\u001b[0;34m\u001b[0m\u001b[0m\n\u001b[0m\u001b[1;32m     79\u001b[0m         \u001b[0mb\u001b[0m \u001b[0;34m=\u001b[0m \u001b[0maffine_params\u001b[0m\u001b[0;34m[\u001b[0m\u001b[0;34m:\u001b[0m\u001b[0;34m,\u001b[0m \u001b[0;34m:\u001b[0m \u001b[0;34m,\u001b[0m \u001b[0;36m2\u001b[0m\u001b[0;34m:\u001b[0m\u001b[0;34m]\u001b[0m\u001b[0;34m\u001b[0m\u001b[0;34m\u001b[0m\u001b[0m\n\u001b[1;32m     80\u001b[0m         \u001b[0mb_inv\u001b[0m \u001b[0;34m=\u001b[0m \u001b[0mtorch\u001b[0m\u001b[0;34m.\u001b[0m\u001b[0mmatmul\u001b[0m\u001b[0;34m(\u001b[0m\u001b[0mA_inv\u001b[0m\u001b[0;34m,\u001b[0m \u001b[0mb\u001b[0m\u001b[0;34m)\u001b[0m\u001b[0;34m\u001b[0m\u001b[0;34m\u001b[0m\u001b[0m\n",
      "\u001b[0;31mKeyboardInterrupt\u001b[0m: "
     ]
    }
   ],
   "source": [
    "config_loc = '/media/rene/data/equivariance/mnist/vae_mnist_L16/0129_230250'\n",
    "VAE, data_loader, valid_data_loader, loss_fn, metric_fns, config = get_model_loaders_config(config_loc, old_gpu='cuda:1', new_gpu='cuda:0')\n",
    "VAE = VAE.to(device)\n",
    "\n",
    "AffineVAE = getattr(module_arch, 'AffineVAE')\n",
    "affine_model = AffineVAE(pre_trained_VAE=VAE, img_size=28, input_dim=1, output_dim=1, latent_size=8, use_STN=False)\n",
    "affine_model = affine_model.to(device)\n",
    "\n",
    "files_dict_loc = '/media/rene/data/MNIST/files_dict.pkl'\n",
    "data_loaders = make_generators_MNIST_CTRNFS(files_dict_loc, batch_size=1, num_workers=4, \n",
    "                                            return_size=28, rotation_range=None, normalize=False)\n",
    "\n",
    "results = pd.DataFrame()\n",
    "results_opt = pd.DataFrame()\n",
    "for rotation in range(0, 180, 15):\n",
    "    log = get_AFFINE_MNIST_perf(affine_model, data_loaders['val'], loss_fn, metric_fns, device, fixed_rotation=rotation, \n",
    "                                optimize=False, return_size=40, iterations=0, num_trials=0)\n",
    "    log['rotation'] = rotation\n",
    "    results = results.append(log, ignore_index=True)\n",
    "    \n",
    "    log_opt = get_AFFINE_MNIST_perf(affine_model, data_loaders['val'], loss_fn, metric_fns, device, fixed_rotation=rotation, \n",
    "                                optimize=True, return_size=40, iterations=0, num_trials=50)\n",
    "    log_opt['rotation'] = rotation\n",
    "    results_opt = results_opt.append(log_opt, ignore_index=True)\n",
    "\n",
    "results.to_csv('/media/rene/code/equivariance/results/affine_rot_nonopt_perf_50.csv')\n",
    "results_opt.to_csv('/media/rene/code/equivariance/results/affine_rot_opt_perf_50.csv')\n",
    "\n",
    "# results.to_csv('/media/rene/code/equivariance/results/affine_rot_nonopt_perf_500.csv')\n",
    "# results_opt.to_csv('/media/rene/code/equivariance/results/affine_rot_opt_perf_500.csv')\n",
    "\n",
    "fig, ax = plt.subplots()\n",
    "ax.plot(results['rotation'], results['loss'], label=\"No Optimized Affine\")\n",
    "ax.plot(results_opt['rotation'], results_opt['loss'], label=\"Optimized Affine\")\n",
    "\n",
    "ax.set(xlabel='Rotation', ylabel='Loss = KLD + BCE',\n",
    "       title='Effect of optimizing rotation on VAE loss')\n",
    "ax.legend(loc='best')\n",
    "\n",
    "plt.savefig('/media/rene/code/equivariance/imgs/rotation_opt_perf_50.png', bbox='tight')\n",
    "plt.show()"
   ]
  },
  {
   "cell_type": "code",
   "execution_count": 4,
   "metadata": {},
   "outputs": [
    {
     "data": {
      "text/html": [
       "<div>\n",
       "<style scoped>\n",
       "    .dataframe tbody tr th:only-of-type {\n",
       "        vertical-align: middle;\n",
       "    }\n",
       "\n",
       "    .dataframe tbody tr th {\n",
       "        vertical-align: top;\n",
       "    }\n",
       "\n",
       "    .dataframe thead th {\n",
       "        text-align: right;\n",
       "    }\n",
       "</style>\n",
       "<table border=\"1\" class=\"dataframe\">\n",
       "  <thead>\n",
       "    <tr style=\"text-align: right;\">\n",
       "      <th></th>\n",
       "      <th>Unnamed: 0</th>\n",
       "      <th>loss</th>\n",
       "      <th>rotation</th>\n",
       "    </tr>\n",
       "  </thead>\n",
       "  <tbody>\n",
       "    <tr>\n",
       "      <th>0</th>\n",
       "      <td>0</td>\n",
       "      <td>572.013350</td>\n",
       "      <td>0.0</td>\n",
       "    </tr>\n",
       "    <tr>\n",
       "      <th>1</th>\n",
       "      <td>1</td>\n",
       "      <td>598.926242</td>\n",
       "      <td>15.0</td>\n",
       "    </tr>\n",
       "    <tr>\n",
       "      <th>2</th>\n",
       "      <td>2</td>\n",
       "      <td>622.836902</td>\n",
       "      <td>30.0</td>\n",
       "    </tr>\n",
       "    <tr>\n",
       "      <th>3</th>\n",
       "      <td>3</td>\n",
       "      <td>643.954165</td>\n",
       "      <td>45.0</td>\n",
       "    </tr>\n",
       "    <tr>\n",
       "      <th>4</th>\n",
       "      <td>4</td>\n",
       "      <td>661.184369</td>\n",
       "      <td>60.0</td>\n",
       "    </tr>\n",
       "    <tr>\n",
       "      <th>5</th>\n",
       "      <td>5</td>\n",
       "      <td>673.945577</td>\n",
       "      <td>75.0</td>\n",
       "    </tr>\n",
       "    <tr>\n",
       "      <th>6</th>\n",
       "      <td>6</td>\n",
       "      <td>677.303653</td>\n",
       "      <td>90.0</td>\n",
       "    </tr>\n",
       "    <tr>\n",
       "      <th>7</th>\n",
       "      <td>7</td>\n",
       "      <td>688.974613</td>\n",
       "      <td>105.0</td>\n",
       "    </tr>\n",
       "    <tr>\n",
       "      <th>8</th>\n",
       "      <td>8</td>\n",
       "      <td>684.189229</td>\n",
       "      <td>120.0</td>\n",
       "    </tr>\n",
       "    <tr>\n",
       "      <th>9</th>\n",
       "      <td>9</td>\n",
       "      <td>670.818094</td>\n",
       "      <td>135.0</td>\n",
       "    </tr>\n",
       "    <tr>\n",
       "      <th>10</th>\n",
       "      <td>10</td>\n",
       "      <td>655.309684</td>\n",
       "      <td>150.0</td>\n",
       "    </tr>\n",
       "    <tr>\n",
       "      <th>11</th>\n",
       "      <td>11</td>\n",
       "      <td>638.543276</td>\n",
       "      <td>165.0</td>\n",
       "    </tr>\n",
       "  </tbody>\n",
       "</table>\n",
       "</div>"
      ],
      "text/plain": [
       "    Unnamed: 0        loss  rotation\n",
       "0            0  572.013350       0.0\n",
       "1            1  598.926242      15.0\n",
       "2            2  622.836902      30.0\n",
       "3            3  643.954165      45.0\n",
       "4            4  661.184369      60.0\n",
       "5            5  673.945577      75.0\n",
       "6            6  677.303653      90.0\n",
       "7            7  688.974613     105.0\n",
       "8            8  684.189229     120.0\n",
       "9            9  670.818094     135.0\n",
       "10          10  655.309684     150.0\n",
       "11          11  638.543276     165.0"
      ]
     },
     "metadata": {},
     "output_type": "display_data"
    },
    {
     "data": {
      "text/html": [
       "<div>\n",
       "<style scoped>\n",
       "    .dataframe tbody tr th:only-of-type {\n",
       "        vertical-align: middle;\n",
       "    }\n",
       "\n",
       "    .dataframe tbody tr th {\n",
       "        vertical-align: top;\n",
       "    }\n",
       "\n",
       "    .dataframe thead th {\n",
       "        text-align: right;\n",
       "    }\n",
       "</style>\n",
       "<table border=\"1\" class=\"dataframe\">\n",
       "  <thead>\n",
       "    <tr style=\"text-align: right;\">\n",
       "      <th></th>\n",
       "      <th>Unnamed: 0</th>\n",
       "      <th>loss</th>\n",
       "      <th>rotation</th>\n",
       "    </tr>\n",
       "  </thead>\n",
       "  <tbody>\n",
       "    <tr>\n",
       "      <th>0</th>\n",
       "      <td>0</td>\n",
       "      <td>588.115650</td>\n",
       "      <td>0.0</td>\n",
       "    </tr>\n",
       "    <tr>\n",
       "      <th>1</th>\n",
       "      <td>1</td>\n",
       "      <td>602.432772</td>\n",
       "      <td>15.0</td>\n",
       "    </tr>\n",
       "    <tr>\n",
       "      <th>2</th>\n",
       "      <td>2</td>\n",
       "      <td>609.464741</td>\n",
       "      <td>30.0</td>\n",
       "    </tr>\n",
       "    <tr>\n",
       "      <th>3</th>\n",
       "      <td>3</td>\n",
       "      <td>612.744466</td>\n",
       "      <td>45.0</td>\n",
       "    </tr>\n",
       "    <tr>\n",
       "      <th>4</th>\n",
       "      <td>4</td>\n",
       "      <td>607.680198</td>\n",
       "      <td>60.0</td>\n",
       "    </tr>\n",
       "    <tr>\n",
       "      <th>5</th>\n",
       "      <td>5</td>\n",
       "      <td>600.789512</td>\n",
       "      <td>75.0</td>\n",
       "    </tr>\n",
       "    <tr>\n",
       "      <th>6</th>\n",
       "      <td>6</td>\n",
       "      <td>587.694900</td>\n",
       "      <td>90.0</td>\n",
       "    </tr>\n",
       "    <tr>\n",
       "      <th>7</th>\n",
       "      <td>7</td>\n",
       "      <td>602.187802</td>\n",
       "      <td>105.0</td>\n",
       "    </tr>\n",
       "    <tr>\n",
       "      <th>8</th>\n",
       "      <td>8</td>\n",
       "      <td>609.431241</td>\n",
       "      <td>120.0</td>\n",
       "    </tr>\n",
       "    <tr>\n",
       "      <th>9</th>\n",
       "      <td>9</td>\n",
       "      <td>611.496055</td>\n",
       "      <td>135.0</td>\n",
       "    </tr>\n",
       "    <tr>\n",
       "      <th>10</th>\n",
       "      <td>10</td>\n",
       "      <td>607.763061</td>\n",
       "      <td>150.0</td>\n",
       "    </tr>\n",
       "    <tr>\n",
       "      <th>11</th>\n",
       "      <td>11</td>\n",
       "      <td>600.576650</td>\n",
       "      <td>165.0</td>\n",
       "    </tr>\n",
       "  </tbody>\n",
       "</table>\n",
       "</div>"
      ],
      "text/plain": [
       "    Unnamed: 0        loss  rotation\n",
       "0            0  588.115650       0.0\n",
       "1            1  602.432772      15.0\n",
       "2            2  609.464741      30.0\n",
       "3            3  612.744466      45.0\n",
       "4            4  607.680198      60.0\n",
       "5            5  600.789512      75.0\n",
       "6            6  587.694900      90.0\n",
       "7            7  602.187802     105.0\n",
       "8            8  609.431241     120.0\n",
       "9            9  611.496055     135.0\n",
       "10          10  607.763061     150.0\n",
       "11          11  600.576650     165.0"
      ]
     },
     "metadata": {},
     "output_type": "display_data"
    }
   ],
   "source": [
    "results = pd.read_csv('/media/rene/code/equivariance/results/affine_rot_nonopt_perf_25.csv')\n",
    "display(results)\n",
    "\n",
    "results_5 = pd.read_csv('/media/rene/code/equivariance/results/affine_rot_opt_perf_25.csv')\n",
    "display(results_5)\n"
   ]
  },
  {
   "cell_type": "code",
   "execution_count": 5,
   "metadata": {},
   "outputs": [],
   "source": [
    "# import matplotlib.image as mpimg\n",
    "# img=mpimg.imread('/media/rene/code/equivariance/imgs/rotation_opt_perf.png')\n",
    "# plt.imshow(img)\n",
    "\n",
    "\n",
    "im = Image.open('/media/rene/code/equivariance/imgs/rotation_opt_perf_25.png')\n",
    "im.show()"
   ]
  },
  {
   "cell_type": "code",
   "execution_count": 12,
   "metadata": {},
   "outputs": [
    {
     "name": "stdout",
     "output_type": "stream",
     "text": [
      "affine_img_rot_perf_heatmap.png  rotation_opt_perf_500.png\n",
      "latent_size_perf.png\t\t rotation_opt_perf.png\n",
      "rotation_opt_perf_10.png\t rotation_stn_perf.png\n",
      "rotation_opt_perf_3.png\n"
     ]
    }
   ],
   "source": [
    "! ls /media/rene/code/equivariance/imgs/\n"
   ]
  },
  {
   "cell_type": "code",
   "execution_count": 6,
   "metadata": {},
   "outputs": [],
   "source": [
    "x, y = next(iter(data_loaders['val']))\n",
    "rot_x = rotate_mnist_batch(x, return_size=40, fixed_rotation=90)\n",
    "rot_x = rot_x[84, :, :, :].unsqueeze(0)\n",
    "print(y[84])\n",
    "\n",
    "# No affine transform\n",
    "rot_x = rot_x.to(device)\n",
    "output = affine_model(rot_x, deterministic=True)\n",
    "recon_x, mu_logvar = output\n",
    "loss = loss_fn(output, rot_x)\n",
    "print(loss)\n",
    "\n",
    "for num_trials in [1, 10, 50, 100, 500]:\n",
    "    best_affine_params, best_loss = affine_model.optimize_affine_params(rot_x, only_rotation=True, num_times=num_trials, iterations=0)\n",
    "    print(f'trials: {num_trials}, best_loss: {best_loss}')\n",
    "    print(f'rad: {math.acos(best_affine_params[0, 0, 0])}')"
   ]
  },
  {
   "cell_type": "code",
   "execution_count": 7,
   "metadata": {},
   "outputs": [
    {
     "name": "stdout",
     "output_type": "stream",
     "text": [
      "VAE.enc_conv1.weight \t torch.Size([32, 1, 5, 5])\n",
      "VAE.enc_conv2.weight \t torch.Size([32, 32, 4, 4])\n",
      "VAE.enc_conv3.weight \t torch.Size([64, 32, 3, 3])\n",
      "VAE.enc_conv4.weight \t torch.Size([16, 64, 5, 5])\n",
      "VAE.enc_conv4.bias \t torch.Size([16])\n",
      "VAE.enc_bn1.weight \t torch.Size([32])\n",
      "VAE.enc_bn1.bias \t torch.Size([32])\n",
      "VAE.enc_bn1.running_mean \t torch.Size([32])\n",
      "VAE.enc_bn1.running_var \t torch.Size([32])\n",
      "VAE.enc_bn1.num_batches_tracked \t torch.Size([])\n",
      "VAE.enc_bn2.weight \t torch.Size([32])\n",
      "VAE.enc_bn2.bias \t torch.Size([32])\n",
      "VAE.enc_bn2.running_mean \t torch.Size([32])\n",
      "VAE.enc_bn2.running_var \t torch.Size([32])\n",
      "VAE.enc_bn2.num_batches_tracked \t torch.Size([])\n",
      "VAE.enc_bn3.weight \t torch.Size([64])\n",
      "VAE.enc_bn3.bias \t torch.Size([64])\n",
      "VAE.enc_bn3.running_mean \t torch.Size([64])\n",
      "VAE.enc_bn3.running_var \t torch.Size([64])\n",
      "VAE.enc_bn3.num_batches_tracked \t torch.Size([])\n",
      "VAE.dec_conv1.weight \t torch.Size([16, 32, 4, 4])\n",
      "VAE.dec_conv2.weight \t torch.Size([32, 16, 5, 5])\n",
      "VAE.dec_conv3.weight \t torch.Size([16, 16, 5, 5])\n",
      "VAE.dec_conv4.weight \t torch.Size([16, 1, 3, 3])\n",
      "VAE.dec_conv4.bias \t torch.Size([1])\n",
      "VAE.dec_bn1.weight \t torch.Size([32])\n",
      "VAE.dec_bn1.bias \t torch.Size([32])\n",
      "VAE.dec_bn1.running_mean \t torch.Size([32])\n",
      "VAE.dec_bn1.running_var \t torch.Size([32])\n",
      "VAE.dec_bn1.num_batches_tracked \t torch.Size([])\n",
      "VAE.dec_bn2.weight \t torch.Size([16])\n",
      "VAE.dec_bn2.bias \t torch.Size([16])\n",
      "VAE.dec_bn2.running_mean \t torch.Size([16])\n",
      "VAE.dec_bn2.running_var \t torch.Size([16])\n",
      "VAE.dec_bn2.num_batches_tracked \t torch.Size([])\n",
      "VAE.dec_bn3.weight \t torch.Size([16])\n",
      "VAE.dec_bn3.bias \t torch.Size([16])\n",
      "VAE.dec_bn3.running_mean \t torch.Size([16])\n",
      "VAE.dec_bn3.running_var \t torch.Size([16])\n",
      "VAE.dec_bn3.num_batches_tracked \t torch.Size([])\n",
      "VAE.fc_mu.weight \t torch.Size([16, 1600])\n",
      "VAE.fc_mu.bias \t torch.Size([16])\n",
      "VAE.fc_logvar.weight \t torch.Size([16, 1600])\n",
      "VAE.fc_logvar.bias \t torch.Size([16])\n",
      "VAE.fc_dec.weight \t torch.Size([1600, 16])\n",
      "VAE.fc_dec.bias \t torch.Size([1600])\n"
     ]
    }
   ],
   "source": [
    "for param_tensor in affine_model.state_dict():\n",
    "    print(param_tensor, \"\\t\", affine_model.state_dict()[param_tensor].size())\n"
   ]
  },
  {
   "cell_type": "code",
   "execution_count": null,
   "metadata": {},
   "outputs": [],
   "source": []
  },
  {
   "cell_type": "code",
   "execution_count": null,
   "metadata": {},
   "outputs": [],
   "source": []
  },
  {
   "cell_type": "code",
   "execution_count": 14,
   "metadata": {},
   "outputs": [
    {
     "name": "stderr",
     "output_type": "stream",
     "text": [
      "  0%|          | 0/79 [00:00<?, ?it/s]\n"
     ]
    },
    {
     "ename": "TypeError",
     "evalue": "cos(): argument 'input' (position 1) must be Tensor, not int",
     "output_type": "error",
     "traceback": [
      "\u001b[0;31m---------------------------------------------------------------------------\u001b[0m",
      "\u001b[0;31mTypeError\u001b[0m                                 Traceback (most recent call last)",
      "\u001b[0;32m<ipython-input-14-ecb9de756fa7>\u001b[0m in \u001b[0;36m<module>\u001b[0;34m()\u001b[0m\n\u001b[1;32m     17\u001b[0m \u001b[0;32mfor\u001b[0m \u001b[0mrotation\u001b[0m \u001b[0;32min\u001b[0m \u001b[0mrange\u001b[0m\u001b[0;34m(\u001b[0m\u001b[0;36m0\u001b[0m\u001b[0;34m,\u001b[0m \u001b[0;36m180\u001b[0m\u001b[0;34m,\u001b[0m \u001b[0;36m15\u001b[0m\u001b[0;34m)\u001b[0m\u001b[0;34m:\u001b[0m\u001b[0;34m\u001b[0m\u001b[0;34m\u001b[0m\u001b[0m\n\u001b[1;32m     18\u001b[0m     log = get_AFFINE_MNIST_perf(affine_model, data_loaders['val'], loss_fn, metric_fns, device, \n\u001b[0;32m---> 19\u001b[0;31m                                 affine_rotation=rotation, fixed_rotation=0, return_size=40)\n\u001b[0m\u001b[1;32m     20\u001b[0m     \u001b[0mlog\u001b[0m\u001b[0;34m[\u001b[0m\u001b[0;34m'rotation'\u001b[0m\u001b[0;34m]\u001b[0m \u001b[0;34m=\u001b[0m \u001b[0mrotation\u001b[0m\u001b[0;34m\u001b[0m\u001b[0;34m\u001b[0m\u001b[0m\n\u001b[1;32m     21\u001b[0m     \u001b[0mresults\u001b[0m \u001b[0;34m=\u001b[0m \u001b[0mresults\u001b[0m\u001b[0;34m.\u001b[0m\u001b[0mappend\u001b[0m\u001b[0;34m(\u001b[0m\u001b[0mlog\u001b[0m\u001b[0;34m,\u001b[0m \u001b[0mignore_index\u001b[0m\u001b[0;34m=\u001b[0m\u001b[0;32mTrue\u001b[0m\u001b[0;34m)\u001b[0m\u001b[0;34m\u001b[0m\u001b[0;34m\u001b[0m\u001b[0m\n",
      "\u001b[0;32m<ipython-input-13-6c75422207a8>\u001b[0m in \u001b[0;36mget_AFFINE_MNIST_perf\u001b[0;34m(model, data_loader, loss_fn, metric_fns, device, affine_rotation, fixed_rotation, return_size)\u001b[0m\n\u001b[1;32m     16\u001b[0m                 \u001b[0mnew_data\u001b[0m \u001b[0;34m=\u001b[0m \u001b[0mrotate_mnist_batch\u001b[0m\u001b[0;34m(\u001b[0m\u001b[0mdata\u001b[0m\u001b[0;34m,\u001b[0m \u001b[0mreturn_size\u001b[0m\u001b[0;34m=\u001b[0m\u001b[0;36m40\u001b[0m\u001b[0;34m,\u001b[0m \u001b[0mfixed_rotation\u001b[0m\u001b[0;34m=\u001b[0m\u001b[0;32mNone\u001b[0m\u001b[0;34m)\u001b[0m\u001b[0;34m\u001b[0m\u001b[0;34m\u001b[0m\u001b[0m\n\u001b[1;32m     17\u001b[0m                 \u001b[0mnew_data\u001b[0m\u001b[0;34m,\u001b[0m \u001b[0mtarget\u001b[0m \u001b[0;34m=\u001b[0m \u001b[0mnew_data\u001b[0m\u001b[0;34m.\u001b[0m\u001b[0mto\u001b[0m\u001b[0;34m(\u001b[0m\u001b[0mdevice\u001b[0m\u001b[0;34m)\u001b[0m\u001b[0;34m,\u001b[0m \u001b[0mtarget\u001b[0m\u001b[0;34m.\u001b[0m\u001b[0mto\u001b[0m\u001b[0;34m(\u001b[0m\u001b[0mdevice\u001b[0m\u001b[0;34m)\u001b[0m\u001b[0;34m\u001b[0m\u001b[0;34m\u001b[0m\u001b[0m\n\u001b[0;32m---> 18\u001b[0;31m                 \u001b[0moutput\u001b[0m \u001b[0;34m=\u001b[0m \u001b[0mmodel\u001b[0m\u001b[0;34m(\u001b[0m\u001b[0mnew_data\u001b[0m\u001b[0;34m,\u001b[0m \u001b[0mdeterministic\u001b[0m\u001b[0;34m=\u001b[0m\u001b[0;32mTrue\u001b[0m\u001b[0;34m,\u001b[0m \u001b[0mtheta\u001b[0m\u001b[0;34m=\u001b[0m\u001b[0maffine_rotation\u001b[0m\u001b[0;34m)\u001b[0m\u001b[0;34m\u001b[0m\u001b[0;34m\u001b[0m\u001b[0m\n\u001b[0m\u001b[1;32m     19\u001b[0m \u001b[0;34m\u001b[0m\u001b[0m\n\u001b[1;32m     20\u001b[0m                 \u001b[0;31m# computing loss, metrics on test set\u001b[0m\u001b[0;34m\u001b[0m\u001b[0;34m\u001b[0m\u001b[0;34m\u001b[0m\u001b[0m\n",
      "\u001b[0;32m~/miniconda3/envs/HVAE/lib/python3.6/site-packages/torch/nn/modules/module.py\u001b[0m in \u001b[0;36m__call__\u001b[0;34m(self, *input, **kwargs)\u001b[0m\n\u001b[1;32m    487\u001b[0m             \u001b[0mresult\u001b[0m \u001b[0;34m=\u001b[0m \u001b[0mself\u001b[0m\u001b[0;34m.\u001b[0m\u001b[0m_slow_forward\u001b[0m\u001b[0;34m(\u001b[0m\u001b[0;34m*\u001b[0m\u001b[0minput\u001b[0m\u001b[0;34m,\u001b[0m \u001b[0;34m**\u001b[0m\u001b[0mkwargs\u001b[0m\u001b[0;34m)\u001b[0m\u001b[0;34m\u001b[0m\u001b[0;34m\u001b[0m\u001b[0m\n\u001b[1;32m    488\u001b[0m         \u001b[0;32melse\u001b[0m\u001b[0;34m:\u001b[0m\u001b[0;34m\u001b[0m\u001b[0;34m\u001b[0m\u001b[0m\n\u001b[0;32m--> 489\u001b[0;31m             \u001b[0mresult\u001b[0m \u001b[0;34m=\u001b[0m \u001b[0mself\u001b[0m\u001b[0;34m.\u001b[0m\u001b[0mforward\u001b[0m\u001b[0;34m(\u001b[0m\u001b[0;34m*\u001b[0m\u001b[0minput\u001b[0m\u001b[0;34m,\u001b[0m \u001b[0;34m**\u001b[0m\u001b[0mkwargs\u001b[0m\u001b[0;34m)\u001b[0m\u001b[0;34m\u001b[0m\u001b[0;34m\u001b[0m\u001b[0m\n\u001b[0m\u001b[1;32m    490\u001b[0m         \u001b[0;32mfor\u001b[0m \u001b[0mhook\u001b[0m \u001b[0;32min\u001b[0m \u001b[0mself\u001b[0m\u001b[0;34m.\u001b[0m\u001b[0m_forward_hooks\u001b[0m\u001b[0;34m.\u001b[0m\u001b[0mvalues\u001b[0m\u001b[0;34m(\u001b[0m\u001b[0;34m)\u001b[0m\u001b[0;34m:\u001b[0m\u001b[0;34m\u001b[0m\u001b[0;34m\u001b[0m\u001b[0m\n\u001b[1;32m    491\u001b[0m             \u001b[0mhook_result\u001b[0m \u001b[0;34m=\u001b[0m \u001b[0mhook\u001b[0m\u001b[0;34m(\u001b[0m\u001b[0mself\u001b[0m\u001b[0;34m,\u001b[0m \u001b[0minput\u001b[0m\u001b[0;34m,\u001b[0m \u001b[0mresult\u001b[0m\u001b[0;34m)\u001b[0m\u001b[0;34m\u001b[0m\u001b[0;34m\u001b[0m\u001b[0m\n",
      "\u001b[0;32m/media/rene/code/equivariance/model/model.py\u001b[0m in \u001b[0;36mforward\u001b[0;34m(self, x, theta, affine_params, deterministic, return_affine)\u001b[0m\n\u001b[1;32m    198\u001b[0m \u001b[0;34m\u001b[0m\u001b[0m\n\u001b[1;32m    199\u001b[0m         \u001b[0;32mif\u001b[0m \u001b[0mtheta\u001b[0m \u001b[0;32mis\u001b[0m \u001b[0;32mnot\u001b[0m \u001b[0;32mNone\u001b[0m\u001b[0;34m:\u001b[0m\u001b[0;34m\u001b[0m\u001b[0;34m\u001b[0m\u001b[0m\n\u001b[0;32m--> 200\u001b[0;31m             \u001b[0maffine_params\u001b[0m \u001b[0;34m=\u001b[0m \u001b[0mself\u001b[0m\u001b[0;34m.\u001b[0m\u001b[0mtheta_to_affine\u001b[0m\u001b[0;34m(\u001b[0m\u001b[0mtheta\u001b[0m\u001b[0;34m,\u001b[0m \u001b[0maffine_params\u001b[0m\u001b[0;34m)\u001b[0m\u001b[0;34m\u001b[0m\u001b[0;34m\u001b[0m\u001b[0m\n\u001b[0m\u001b[1;32m    201\u001b[0m \u001b[0;34m\u001b[0m\u001b[0m\n\u001b[1;32m    202\u001b[0m \u001b[0;31m#         elif affine_type == 'explicit':\u001b[0m\u001b[0;34m\u001b[0m\u001b[0;34m\u001b[0m\u001b[0;34m\u001b[0m\u001b[0m\n",
      "\u001b[0;32m/media/rene/code/equivariance/model/model.py\u001b[0m in \u001b[0;36mtheta_to_affine\u001b[0;34m(self, theta, affine_params)\u001b[0m\n\u001b[1;32m     61\u001b[0m \u001b[0;34m\u001b[0m\u001b[0m\n\u001b[1;32m     62\u001b[0m     \u001b[0;32mdef\u001b[0m \u001b[0mtheta_to_affine\u001b[0m\u001b[0;34m(\u001b[0m\u001b[0mself\u001b[0m\u001b[0;34m,\u001b[0m \u001b[0mtheta\u001b[0m\u001b[0;34m,\u001b[0m \u001b[0maffine_params\u001b[0m\u001b[0;34m)\u001b[0m\u001b[0;34m:\u001b[0m\u001b[0;34m\u001b[0m\u001b[0;34m\u001b[0m\u001b[0m\n\u001b[0;32m---> 63\u001b[0;31m         \u001b[0maffine_params\u001b[0m\u001b[0;34m[\u001b[0m\u001b[0;34m:\u001b[0m\u001b[0;34m,\u001b[0m \u001b[0;36m0\u001b[0m\u001b[0;34m,\u001b[0m \u001b[0;36m0\u001b[0m\u001b[0;34m]\u001b[0m \u001b[0;34m=\u001b[0m \u001b[0mtorch\u001b[0m\u001b[0;34m.\u001b[0m\u001b[0mcos\u001b[0m\u001b[0;34m(\u001b[0m\u001b[0mtheta\u001b[0m\u001b[0;34m)\u001b[0m\u001b[0;34m\u001b[0m\u001b[0;34m\u001b[0m\u001b[0m\n\u001b[0m\u001b[1;32m     64\u001b[0m         \u001b[0maffine_params\u001b[0m\u001b[0;34m[\u001b[0m\u001b[0;34m:\u001b[0m\u001b[0;34m,\u001b[0m \u001b[0;36m0\u001b[0m\u001b[0;34m,\u001b[0m \u001b[0;36m1\u001b[0m\u001b[0;34m]\u001b[0m \u001b[0;34m=\u001b[0m \u001b[0mtorch\u001b[0m\u001b[0;34m.\u001b[0m\u001b[0msin\u001b[0m\u001b[0;34m(\u001b[0m\u001b[0mtheta\u001b[0m\u001b[0;34m)\u001b[0m\u001b[0;34m\u001b[0m\u001b[0;34m\u001b[0m\u001b[0m\n\u001b[1;32m     65\u001b[0m         \u001b[0maffine_params\u001b[0m\u001b[0;34m[\u001b[0m\u001b[0;34m:\u001b[0m\u001b[0;34m,\u001b[0m \u001b[0;36m1\u001b[0m\u001b[0;34m,\u001b[0m \u001b[0;36m0\u001b[0m\u001b[0;34m]\u001b[0m \u001b[0;34m=\u001b[0m \u001b[0;34m-\u001b[0m\u001b[0;36m1\u001b[0m\u001b[0;34m*\u001b[0m\u001b[0mtorch\u001b[0m\u001b[0;34m.\u001b[0m\u001b[0msin\u001b[0m\u001b[0;34m(\u001b[0m\u001b[0mtheta\u001b[0m\u001b[0;34m)\u001b[0m\u001b[0;34m\u001b[0m\u001b[0;34m\u001b[0m\u001b[0m\n",
      "\u001b[0;31mTypeError\u001b[0m: cos(): argument 'input' (position 1) must be Tensor, not int"
     ]
    }
   ],
   "source": [
    "from model.model import AffineVAE\n",
    "\n",
    "config_loc = '/media/rene/data/equivariance/mnist/vae_mnist_L16/0129_230250'\n",
    "VAE, data_loader, valid_data_loader, loss_fn, metric_fns, config = get_model_loaders_config(config_loc, old_gpu='cuda:1', new_gpu='cuda:0')\n",
    "VAE = VAE.to(device)\n",
    "\n",
    "AffineVAE = getattr(module_arch, 'AffineVAE')\n",
    "affine_model = AffineVAE(pre_trained_VAE=VAE, img_size=28, input_dim=1, output_dim=1, latent_size=8, use_STN=False)\n",
    "affine_model = affine_model.to(device)\n",
    "\n",
    "\n",
    "files_dict_loc = '/media/rene/data/MNIST/files_dict.pkl'\n",
    "data_loaders = make_generators_MNIST_CTRNFS(files_dict_loc, batch_size=128, num_workers=4, \n",
    "                                            return_size=28, rotation_range=None, normalize=False)\n",
    "\n",
    "results = pd.DataFrame()\n",
    "for rotation in range(0, 180, 15):\n",
    "    log = get_AFFINE_MNIST_perf(affine_model, data_loaders['val'], loss_fn, metric_fns, device, \n",
    "                                affine_rotation=rotation, fixed_rotation=0, return_size=40)\n",
    "    log['rotation'] = rotation\n",
    "    results = results.append(log, ignore_index=True)\n",
    "    \n",
    "fig, ax = plt.subplots()\n",
    "ax.plot(results['rotation'], results['loss'])\n",
    "\n",
    "ax.set(xlabel='Rotation (degrees)', ylabel='Loss = KLD + BCE',\n",
    "       title='Autoencoding Performance vs. Rotation')\n",
    "plt.show()"
   ]
  },
  {
   "cell_type": "code",
   "execution_count": null,
   "metadata": {},
   "outputs": [],
   "source": []
  },
  {
   "cell_type": "code",
   "execution_count": null,
   "metadata": {},
   "outputs": [],
   "source": []
  },
  {
   "cell_type": "code",
   "execution_count": 60,
   "metadata": {},
   "outputs": [
    {
     "name": "stdout",
     "output_type": "stream",
     "text": [
      "tensor([[[1., 0., 3.],\n",
      "         [0., 2., 3.]]])\n",
      "torch.Size([2, 2])\n",
      "torch.Size([2])\n",
      "tensor([[[ 1.0000, -0.0000, -3.0000],\n",
      "         [ 0.0000,  0.5000, -1.5000]]])\n"
     ]
    },
    {
     "data": {
      "text/plain": [
       "tensor([0.9589])"
      ]
     },
     "execution_count": 60,
     "metadata": {},
     "output_type": "execute_result"
    }
   ],
   "source": [
    "x = torch.zeros(1, 6)\n",
    "x = x.view(-1, 2, 3)\n",
    "x[:, 0, 0] = 1\n",
    "x[:, 1, 1] = 2\n",
    "\n",
    "x[:, 0, 2] = 3\n",
    "x[:, 1, 2] = 3\n",
    "\n",
    "print(x)\n",
    "A_inv =  torch.inverse(x[:, :, :2].squeeze())\n",
    "b = x[:, :, 2].squeeze()\n",
    "print(A_inv.size())\n",
    "print(b.size())\n",
    "x[:, :2, :2] = A_inv\n",
    "x[:, :, 2] = -1*torch.mv(A_inv,b)\n",
    "print(x)\n",
    "\n",
    "x = torch.zeros(1)\n",
    "x[0] = 360\n",
    "torch.sin(x)"
   ]
  },
  {
   "cell_type": "code",
   "execution_count": 14,
   "metadata": {},
   "outputs": [
    {
     "data": {
      "text/plain": [
       "torch.Size([16, 3, 1])"
      ]
     },
     "execution_count": 14,
     "metadata": {},
     "output_type": "execute_result"
    }
   ],
   "source": [
    "tensor1 = torch.randn(16, 3, 4)\n",
    "tensor2 = torch.randn(16, 4).unsqueeze(2)\n",
    "torch.matmul(tensor1, tensor2).size()"
   ]
  },
  {
   "cell_type": "code",
   "execution_count": null,
   "metadata": {},
   "outputs": [],
   "source": []
  }
 ],
 "metadata": {
  "kernelspec": {
   "display_name": "HVAE",
   "language": "python",
   "name": "hvae"
  },
  "language_info": {
   "codemirror_mode": {
    "name": "ipython",
    "version": 3
   },
   "file_extension": ".py",
   "mimetype": "text/x-python",
   "name": "python",
   "nbconvert_exporter": "python",
   "pygments_lexer": "ipython3",
   "version": "3.6.7"
  }
 },
 "nbformat": 4,
 "nbformat_minor": 2
}
