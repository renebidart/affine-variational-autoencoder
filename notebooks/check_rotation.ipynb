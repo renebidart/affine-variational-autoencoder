{
 "cells": [
  {
   "cell_type": "code",
   "execution_count": 52,
   "metadata": {},
   "outputs": [],
   "source": [
    "import math\n",
    "import pickle\n",
    "import numpy as np\n",
    "import pandas as pd\n",
    "import matplotlib.pyplot as plt"
   ]
  },
  {
   "cell_type": "code",
   "execution_count": 2,
   "metadata": {},
   "outputs": [],
   "source": [
    "rot_hist_loc = '/media/rene/data/equivariance/mnist/batch_avae_mnist_L8_rotate_save_hist/the_only_rot_history.pkl'\n",
    "with open(rot_hist_loc, 'rb') as f:\n",
    "    rot_hist = pickle.load(f)"
   ]
  },
  {
   "cell_type": "code",
   "execution_count": 42,
   "metadata": {},
   "outputs": [
    {
     "name": "stdout",
     "output_type": "stream",
     "text": [
      "3\n",
      "128\n",
      "[[ 0.840348   -0.54204726  0.        ]\n",
      " [ 0.54204726  0.840348    0.        ]]\n",
      "[[ 0.6853964  -0.72817016  0.        ]\n",
      " [ 0.72817016  0.6853964   0.        ]]\n",
      "[[ 0.7286577   0.68487805  0.        ]\n",
      " [-0.68487805  0.7286577   0.        ]]\n",
      "32.823113616522456\n",
      "4.0\n",
      "178\n"
     ]
    }
   ],
   "source": [
    "# for k, v in rot_hist.items():\n",
    "#     print(k)\n",
    "\n",
    "# (affine_params, target, rot) = rot_dict[epoch][batch_idx]\n",
    "\n",
    "print(len(rot_hist[1][0]))\n",
    "print(len(rot_hist[1][0][0]))\n",
    "print(rot_hist[1][0][0][0])\n",
    "print(rot_hist[1][0][0][1])\n",
    "print(rot_hist[1][0][0][2])\n",
    "\n",
    "print(math.acos(rot_hist[1][0][0][0][0, 0])*180/math.pi)\n",
    "print(rot_hist[1][0][1][0])\n",
    "print(rot_hist[1][0][2][0])\n"
   ]
  },
  {
   "cell_type": "code",
   "execution_count": 51,
   "metadata": {},
   "outputs": [
    {
     "data": {
      "text/html": [
       "<div>\n",
       "<style scoped>\n",
       "    .dataframe tbody tr th:only-of-type {\n",
       "        vertical-align: middle;\n",
       "    }\n",
       "\n",
       "    .dataframe tbody tr th {\n",
       "        vertical-align: top;\n",
       "    }\n",
       "\n",
       "    .dataframe thead th {\n",
       "        text-align: right;\n",
       "    }\n",
       "</style>\n",
       "<table border=\"1\" class=\"dataframe\">\n",
       "  <thead>\n",
       "    <tr style=\"text-align: right;\">\n",
       "      <th></th>\n",
       "      <th>actual_rot</th>\n",
       "      <th>affine_rot</th>\n",
       "      <th>target</th>\n",
       "    </tr>\n",
       "  </thead>\n",
       "  <tbody>\n",
       "    <tr>\n",
       "      <th>0</th>\n",
       "      <td>178.0</td>\n",
       "      <td>32.823114</td>\n",
       "      <td>4.0</td>\n",
       "    </tr>\n",
       "    <tr>\n",
       "      <th>1</th>\n",
       "      <td>244.0</td>\n",
       "      <td>46.733212</td>\n",
       "      <td>7.0</td>\n",
       "    </tr>\n",
       "    <tr>\n",
       "      <th>2</th>\n",
       "      <td>41.0</td>\n",
       "      <td>43.226016</td>\n",
       "      <td>4.0</td>\n",
       "    </tr>\n",
       "    <tr>\n",
       "      <th>3</th>\n",
       "      <td>195.0</td>\n",
       "      <td>140.232937</td>\n",
       "      <td>1.0</td>\n",
       "    </tr>\n",
       "    <tr>\n",
       "      <th>4</th>\n",
       "      <td>252.0</td>\n",
       "      <td>126.620015</td>\n",
       "      <td>1.0</td>\n",
       "    </tr>\n",
       "  </tbody>\n",
       "</table>\n",
       "</div>"
      ],
      "text/plain": [
       "   actual_rot  affine_rot  target\n",
       "0       178.0   32.823114     4.0\n",
       "1       244.0   46.733212     7.0\n",
       "2        41.0   43.226016     4.0\n",
       "3       195.0  140.232937     1.0\n",
       "4       252.0  126.620015     1.0"
      ]
     },
     "execution_count": 51,
     "metadata": {},
     "output_type": "execute_result"
    }
   ],
   "source": [
    "def reformat_rot_hist(rot_hist, epoch):\n",
    "    data = pd.DataFrame()\n",
    "    # 100 batches is enough\n",
    "    for batch_idx in range(100):\n",
    "        affine_params = rot_hist[epoch][batch_idx]\n",
    "        target = rot_hist[epoch][batch_idx]\n",
    "        rot = rot_hist[epoch][batch_idx]\n",
    "        # grab all the stuff from inside each batch\n",
    "        for img_idx in range(len(rot_hist[epoch][batch_idx][0])):\n",
    "            affine_params = rot_hist[epoch][batch_idx][0][img_idx]\n",
    "            target = rot_hist[epoch][batch_idx][1][img_idx]\n",
    "            rot = rot_hist[epoch][batch_idx][2][img_idx]\n",
    "            data = data.append({\n",
    "                                'actual_rot': rot,\n",
    "                                'affine_rot': math.acos(affine_params[0, 0])*180/math.pi,\n",
    "                                'target': target,\n",
    "                            }, ignore_index=True)    \n",
    "    return data\n",
    "\n",
    "ep1_data = reformat_rot_hist(rot_hist, epoch=1)\n",
    "ep1_data.head()"
   ]
  },
  {
   "cell_type": "code",
   "execution_count": 60,
   "metadata": {},
   "outputs": [
    {
     "name": "stdout",
     "output_type": "stream",
     "text": [
      "12800 1214\n"
     ]
    },
    {
     "data": {
      "text/html": [
       "<div>\n",
       "<style scoped>\n",
       "    .dataframe tbody tr th:only-of-type {\n",
       "        vertical-align: middle;\n",
       "    }\n",
       "\n",
       "    .dataframe tbody tr th {\n",
       "        vertical-align: top;\n",
       "    }\n",
       "\n",
       "    .dataframe thead th {\n",
       "        text-align: right;\n",
       "    }\n",
       "</style>\n",
       "<table border=\"1\" class=\"dataframe\">\n",
       "  <thead>\n",
       "    <tr style=\"text-align: right;\">\n",
       "      <th></th>\n",
       "      <th>actual_rot</th>\n",
       "      <th>affine_rot</th>\n",
       "      <th>target</th>\n",
       "      <th>rot_off_center</th>\n",
       "    </tr>\n",
       "  </thead>\n",
       "  <tbody>\n",
       "    <tr>\n",
       "      <th>14</th>\n",
       "      <td>183.0</td>\n",
       "      <td>142.123327</td>\n",
       "      <td>0.0</td>\n",
       "      <td>319.123327</td>\n",
       "    </tr>\n",
       "    <tr>\n",
       "      <th>20</th>\n",
       "      <td>35.0</td>\n",
       "      <td>139.250730</td>\n",
       "      <td>0.0</td>\n",
       "      <td>104.250730</td>\n",
       "    </tr>\n",
       "    <tr>\n",
       "      <th>29</th>\n",
       "      <td>277.0</td>\n",
       "      <td>39.658936</td>\n",
       "      <td>0.0</td>\n",
       "      <td>122.658936</td>\n",
       "    </tr>\n",
       "    <tr>\n",
       "      <th>32</th>\n",
       "      <td>154.0</td>\n",
       "      <td>40.552951</td>\n",
       "      <td>0.0</td>\n",
       "      <td>246.552951</td>\n",
       "    </tr>\n",
       "    <tr>\n",
       "      <th>36</th>\n",
       "      <td>161.0</td>\n",
       "      <td>134.714339</td>\n",
       "      <td>0.0</td>\n",
       "      <td>333.714339</td>\n",
       "    </tr>\n",
       "  </tbody>\n",
       "</table>\n",
       "</div>"
      ],
      "text/plain": [
       "    actual_rot  affine_rot  target  rot_off_center\n",
       "14       183.0  142.123327     0.0      319.123327\n",
       "20        35.0  139.250730     0.0      104.250730\n",
       "29       277.0   39.658936     0.0      122.658936\n",
       "32       154.0   40.552951     0.0      246.552951\n",
       "36       161.0  134.714339     0.0      333.714339"
      ]
     },
     "execution_count": 60,
     "metadata": {},
     "output_type": "execute_result"
    }
   ],
   "source": [
    "ep1_data['rot_off_center'] = ep1_data['affine_rot'] - ep1_data['actual_rot']\n",
    "ep1_data['rot_off_center'] = ep1_data['rot_off_center'] % 360\n",
    "data = ep1_data[ep1_data['target'] == 0]\n",
    "print(len(ep1_data), len(data))\n",
    "\n",
    "data.head()"
   ]
  },
  {
   "cell_type": "code",
   "execution_count": 80,
   "metadata": {},
   "outputs": [
    {
     "data": {
      "image/png": "[encoded data removed]",
      "text/plain": [
       "<Figure size 432x288 with 1 Axes>"
      ]
     },
     "metadata": {
      "needs_background": "light"
     },
     "output_type": "display_data"
    }
   ],
   "source": [
    "ep1_data['rot_off_center'] = ep1_data['affine_rot'] - ep1_data['actual_rot']\n",
    "ep1_data['rot_off_center'] = ep1_data['rot_off_center'] % 360\n",
    "data = ep1_data[ep1_data['target'] == 0]\n",
    "\n",
    "n, bins, patches = plt.hist(data['rot_off_center'], 20, density=True, facecolor='g', alpha=0.75)\n",
    "plt.xlabel('Rotation Angle')\n",
    "plt.ylabel('Frequency')\n",
    "plt.show()\n",
    "\n",
    "# plt.savefig('/media/rene/code/equivariance/imgs/tmp_hist.png', bbox='tight')"
   ]
  },
  {
   "cell_type": "code",
   "execution_count": 81,
   "metadata": {},
   "outputs": [
    {
     "data": {
      "image/png": "[encoded data removed]",
      "text/plain": [
       "<Figure size 432x288 with 1 Axes>"
      ]
     },
     "metadata": {
      "needs_background": "light"
     },
     "output_type": "display_data"
    }
   ],
   "source": [
    "ep1_data = reformat_rot_hist(rot_hist, epoch=50)\n",
    "ep1_data['rot_off_center'] = ep1_data['affine_rot'] - ep1_data['actual_rot']\n",
    "ep1_data['rot_off_center'] = ep1_data['rot_off_center'] % 360\n",
    "data = ep1_data[ep1_data['target'] == 0]\n",
    "\n",
    "n, bins, patches = plt.hist(data['rot_off_center'], 20, density=True, facecolor='g', alpha=0.75)\n",
    "plt.xlabel('Rotation Angle')\n",
    "plt.ylabel('Frequency')\n",
    "plt.show()"
   ]
  },
  {
   "cell_type": "code",
   "execution_count": 68,
   "metadata": {},
   "outputs": [
    {
     "data": {
      "image/png": "[encoded data removed]",
      "text/plain": [
       "<Figure size 432x288 with 1 Axes>"
      ]
     },
     "metadata": {
      "needs_background": "light"
     },
     "output_type": "display_data"
    }
   ],
   "source": [
    "data = ep1_data[ep1_data['target'] == 1]\n",
    "\n",
    "n, bins, patches = plt.hist(data['rot_off_center'], 50, density=True, facecolor='g', alpha=0.75)\n",
    "plt.xlabel('Rotation Angle')\n",
    "plt.ylabel('Frequency')\n",
    "plt.show()"
   ]
  },
  {
   "cell_type": "code",
   "execution_count": 69,
   "metadata": {},
   "outputs": [
    {
     "data": {
      "image/png": "[encoded data removed]",
      "text/plain": [
       "<Figure size 432x288 with 1 Axes>"
      ]
     },
     "metadata": {
      "needs_background": "light"
     },
     "output_type": "display_data"
    }
   ],
   "source": [
    "data = ep1_data[ep1_data['target'] == 2]\n",
    "\n",
    "n, bins, patches = plt.hist(data['rot_off_center'], 50, density=True, facecolor='g', alpha=0.75)\n",
    "plt.xlabel('Rotation Angle')\n",
    "plt.ylabel('Frequency')\n",
    "plt.show()"
   ]
  },
  {
   "cell_type": "code",
   "execution_count": 70,
   "metadata": {},
   "outputs": [
    {
     "data": {
      "image/png": "[encoded data removed]",
      "text/plain": [
       "<Figure size 432x288 with 1 Axes>"
      ]
     },
     "metadata": {
      "needs_background": "light"
     },
     "output_type": "display_data"
    }
   ],
   "source": [
    "data = ep1_data[ep1_data['target'] == 3]\n",
    "\n",
    "n, bins, patches = plt.hist(data['rot_off_center'], 50, density=True, facecolor='g', alpha=0.75)\n",
    "plt.xlabel('Rotation Angle')\n",
    "plt.ylabel('Frequency')\n",
    "plt.show()"
   ]
  },
  {
   "cell_type": "code",
   "execution_count": 71,
   "metadata": {},
   "outputs": [
    {
     "data": {
      "image/png": "[encoded data removed]",
      "text/plain": [
       "<Figure size 432x288 with 1 Axes>"
      ]
     },
     "metadata": {
      "needs_background": "light"
     },
     "output_type": "display_data"
    }
   ],
   "source": [
    "data = ep1_data[ep1_data['target'] == 5]\n",
    "\n",
    "n, bins, patches = plt.hist(data['rot_off_center'], 50, density=True, facecolor='g', alpha=0.75)\n",
    "plt.xlabel('Rotation Angle')\n",
    "plt.ylabel('Frequency')\n",
    "plt.show()"
   ]
  },
  {
   "cell_type": "code",
   "execution_count": 79,
   "metadata": {},
   "outputs": [
    {
     "data": {
      "image/png": "[encoded data removed]",
      "text/plain": [
       "<Figure size 432x288 with 1 Axes>"
      ]
     },
     "metadata": {
      "needs_background": "light"
     },
     "output_type": "display_data"
    }
   ],
   "source": [
    "data = ep1_data[ep1_data['target'] == 9]\n",
    "\n",
    "n, bins, patches = plt.hist(data['rot_off_center'], 20, density=True, facecolor='g', alpha=0.75)\n",
    "plt.xlabel('Rotation Angle')\n",
    "plt.ylabel('Frequency')\n",
    "plt.show()"
   ]
  },
  {
   "cell_type": "code",
   "execution_count": 89,
   "metadata": {},
   "outputs": [],
   "source": [
    "def compare_rotations(rot_hist, epochs=[1, 15, 30, 59], target=1):\n",
    "    \n",
    "    fig, ax = plt.subplots(len(epochs), 1, figsize=(8,12))#, sharex='col', sharey='row',figsize=(10,10))\n",
    "    \n",
    "    for i,  epoch in enumerate(epochs):\n",
    "        data = reformat_rot_hist(rot_hist, epoch)\n",
    "        data = data[data['target'] == target]\n",
    "        data['rot_off_center'] = data['affine_rot'] - data['actual_rot']\n",
    "        data['rot_off_center'] = data['rot_off_center'] % 360\n",
    "        \n",
    "        ax[i].hist(data['rot_off_center'], 20, density=True, facecolor='g', alpha=0.75)\n",
    "#         ax[epoch].xlabel('Rotation Angle')\n",
    "#         ax[epoch].ylabel('Frequency')\n",
    "    plt.show()"
   ]
  },
  {
   "cell_type": "code",
   "execution_count": 90,
   "metadata": {},
   "outputs": [
    {
     "data": {
      "image/png": "[encoded data removed]",
      "text/plain": [
       "<Figure size 576x864 with 4 Axes>"
      ]
     },
     "metadata": {
      "needs_background": "light"
     },
     "output_type": "display_data"
    }
   ],
   "source": [
    "compare_rotations(rot_hist, epochs=[1, 15, 30, 59], target=1)"
   ]
  },
  {
   "cell_type": "code",
   "execution_count": null,
   "metadata": {},
   "outputs": [],
   "source": []
  }
 ],
 "metadata": {
  "kernelspec": {
   "display_name": "",
   "name": ""
  },
  "language_info": {
   "codemirror_mode": {
    "name": "ipython",
    "version": 3
   },
   "file_extension": ".py",
   "mimetype": "text/x-python",
   "name": "python",
   "nbconvert_exporter": "python",
   "pygments_lexer": "ipython3",
   "version": "3.6.7"
  }
 },
 "nbformat": 4,
 "nbformat_minor": 2
}
