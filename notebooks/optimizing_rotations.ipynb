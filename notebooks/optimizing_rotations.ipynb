{
 "cells": [
  {
   "cell_type": "markdown",
   "metadata": {},
   "source": [
    "# Optimizing Affine Transforms\n",
    "* Optimizing Affine transform paramaters using SGD and random restarts\n",
    "* This notebook contains examples for rotations and random affine transforms."
   ]
  },
  {
   "cell_type": "code",
   "execution_count": 14,
   "metadata": {},
   "outputs": [],
   "source": [
    "import os\n",
    "import sys\n",
    "import json\n",
    "import math\n",
    "import random\n",
    "import pickle\n",
    "import numpy as np\n",
    "import pandas as pd\n",
    "from tqdm import tqdm\n",
    "from pathlib import Path\n",
    "import matplotlib.pyplot as plt\n",
    "from matplotlib.pyplot import imshow\n",
    "from IPython.display import display\n",
    "\n",
    "%reload_ext autoreload\n",
    "%autoreload 2\n",
    "%matplotlib inline\n",
    "\n",
    "import torch\n",
    "import torch.nn.functional as F\n",
    "from torchvision import transforms\n",
    "import torchvision.transforms.functional as TF\n",
    "from PIL import Image, ImageOps\n",
    "\n",
    "# Nicer way to import the module?\n",
    "sys.path.append(str(Path.cwd().parent))\n",
    "\n",
    "from utils.display import read_img_to_np, torch_to_np\n",
    "from utils.norms import MNIST_norm\n",
    "import model.model as module_arch\n",
    "import data_loader.data_loaders as module_data\n",
    "import model.loss as module_loss\n",
    "import model.metric as module_metric\n",
    "from model.model import AffineVAE\n",
    "\n",
    "device = torch.device(\"cuda:0\")\n",
    "\n",
    "from data_loader.data_loaders import make_generators_MNIST, make_generators_MNIST_CTRNFS"
   ]
  },
  {
   "cell_type": "code",
   "execution_count": 15,
   "metadata": {},
   "outputs": [],
   "source": [
    "def get_model_loaders_config(PATH, old_gpu='cuda:0', new_gpu='cuda:1'):\n",
    "    \"\"\"PATH: path to dir where training results of a run are saved\"\"\"\n",
    "    PATH = Path(PATH)\n",
    "    config_loc = PATH / 'config.json'\n",
    "    weight_path = PATH / 'model_best.pth'\n",
    "    config = json.load(open(config_loc))\n",
    "    \n",
    "    \n",
    "    def get_instance(module, name, config, *args):\n",
    "        return getattr(module, config[name]['type'])(*args, **config[name]['args'])\n",
    "\n",
    "    data_loader = get_instance(module_data, 'data_loader', config)['train']\n",
    "    valid_data_loader = get_instance(module_data, 'data_loader', config)['val']\n",
    "    model = get_instance(module_arch, 'arch', config)\n",
    "    model = model.to(torch.device(new_gpu))\n",
    "    checkpoint = torch.load(weight_path, map_location={'cuda:0': 'cuda:1'})\n",
    "    state_dict = checkpoint['state_dict']\n",
    "    \n",
    "    if config['n_gpu'] > 1:\n",
    "        model = torch.nn.DataParallel(model)\n",
    "\n",
    "    model.load_state_dict(state_dict)\n",
    "    model = model.to(device).eval()\n",
    "    \n",
    "    loss_fn = get_instance(module_loss, 'loss', config)\n",
    "    metric_fns = [getattr(module_metric, met) for met in config['metrics']]\n",
    "    \n",
    "    return model, data_loader, valid_data_loader, loss_fn, metric_fns, config\n"
   ]
  },
  {
   "cell_type": "code",
   "execution_count": 16,
   "metadata": {},
   "outputs": [],
   "source": [
    "def pad_to_size(img, new_size):\n",
    "    delta_width = new_size - img.size()[1]\n",
    "    delta_height = new_size - img.size()[2]\n",
    "    pad_width = delta_width //2\n",
    "    pad_height = delta_height //2\n",
    "    img = F.pad(img, (pad_height, pad_height, pad_width, pad_width), 'constant', 0)\n",
    "    return img\n",
    "\n",
    "def rotate_mnist_batch(x, return_size=40, fixed_rotation=None):\n",
    "    \"\"\"Rotate batch without squishing the img. Pad all imgs to same size\"\"\"\n",
    "    batch_size = x.shape[0]\n",
    "    rot_x = torch.zeros((batch_size, 1, return_size, return_size))\n",
    "    for i in range(batch_size):\n",
    "        img = TF.to_pil_image(x[i, :, :])\n",
    "        if fixed_rotation:\n",
    "            img = TF.rotate(img, fixed_rotation)\n",
    "\n",
    "        img = transforms.ToTensor()(img)\n",
    "        if return_size:\n",
    "            img = pad_to_size(img, return_size)\n",
    "        # MNIST norm, wrong because imgs are padded\n",
    "        img = transforms.Normalize((0.1307,), (0.3081,))(img)\n",
    "        rot_x[i, :, :, :] = img\n",
    "    return rot_x\n",
    "    \n",
    "\n",
    "def get_vae_MNIST_perf(model, data_loader, loss_fn, metric_fns, device, fixed_rotation, return_size):\n",
    "    \"\"\"Evaluate performance on MNIST Dataset using a given rotation\n",
    "    \n",
    "    Dataloader should be MNISTCustomTRNFS with size=28x28, unnormalized, not rotated\"\"\"\n",
    "\n",
    "    with torch.cuda.device(device.index):\n",
    "        model = model.to(device)\n",
    "        model.eval()\n",
    "\n",
    "        total_loss = 0.0\n",
    "        total_metrics = torch.zeros(len(metric_fns))\n",
    "\n",
    "        with torch.no_grad():\n",
    "            for i, (data, target) in enumerate(tqdm(data_loader)):\n",
    "                batch_size = data.shape[0]\n",
    "                new_data = rotate_mnist_batch(data, return_size=40, fixed_rotation=fixed_rotation)\n",
    "                new_data, target = new_data.to(device), target.to(device)\n",
    "                output = model(new_data, deterministic=True)\n",
    "\n",
    "                # computing loss, metrics on test set\n",
    "                loss = loss_fn(output, new_data)\n",
    "                total_loss += loss.item() * batch_size\n",
    "                for i, metric in enumerate(metric_fns):\n",
    "                    total_metrics[i] += metric(output, new_data) * batch_size\n",
    "\n",
    "        n_samples = len(data_loader.sampler)\n",
    "        log = {'loss': total_loss / n_samples}\n",
    "        log.update({met.__name__ : total_metrics[i].item() / n_samples for i, met in enumerate(metric_fns)})\n",
    "        return log"
   ]
  },
  {
   "cell_type": "markdown",
   "metadata": {},
   "source": [
    "## Optimizing rotation using SGD and random restarts\n",
    "* Can compute gradient of $\\theta$ to optimize the rotation to minimize VAE loss\n",
    "* Random restarts are needed because this tends to get caught in local optimum"
   ]
  },
  {
   "cell_type": "code",
   "execution_count": 28,
   "metadata": {},
   "outputs": [],
   "source": [
    "def AFFINE_MNIST_rot_perf(model, data_loader, loss_fn, device, fixed_rotation, \n",
    "                          optimize=False, iterations=0, num_rand_restarts=200, num_imgs=1000):\n",
    "    \"\"\"Evaluate performance on MNIST Dataset using a given rotation\n",
    "    Dataloader should be MNISTCustomTRNFS with size=28x28, unnormalized, not rotated\"\"\"\n",
    "\n",
    "    with torch.cuda.device(device.index):\n",
    "        model = model.to(device)\n",
    "        model.eval()\n",
    "        total_loss = 0.0\n",
    "\n",
    "        with torch.no_grad():\n",
    "            for i, (data, target) in enumerate(data_loader):\n",
    "                batch_size = data.shape[0]\n",
    "                rot_x = rotate_mnist_batch(data, return_size=40, fixed_rotation=fixed_rotation)\n",
    "                rot_x, target = rot_x.to(device), target.to(device)\n",
    "                if optimize:\n",
    "                    best_affine, loss = affine_model.optimize_rotation(rot_x, num_times=num_rand_restarts, \n",
    "                                                                       iterations=iterations)\n",
    "                else:\n",
    "                    output = model(rot_x, deterministic=True, theta=0.0)\n",
    "                    loss = loss_fn(output, rot_x).item()\n",
    "\n",
    "                total_loss += loss * batch_size\n",
    "                if i>num_imgs:\n",
    "                    break\n",
    "\n",
    "        n_samples = len(data_loader.sampler)\n",
    "        log = {'loss': total_loss / num_imgs}\n",
    "        return log"
   ]
  },
  {
   "cell_type": "markdown",
   "metadata": {},
   "source": [
    "### Grab decent AVAE and dataloaders"
   ]
  },
  {
   "cell_type": "code",
   "execution_count": 29,
   "metadata": {},
   "outputs": [],
   "source": [
    "config_loc = '/media/rene/data/equivariance/mnist/vae_mnist_L16/0129_230250'\n",
    "VAE, data_loader, valid_data_loader, loss_fn, metric_fns, config = get_model_loaders_config(config_loc, old_gpu='cuda:1', new_gpu='cuda:0')\n",
    "VAE = VAE.to(device)\n",
    "\n",
    "AffineVAE = getattr(module_arch, 'AffineVAE')\n",
    "affine_model = AffineVAE(pre_trained_VAE=VAE, img_size=28, input_dim=1, output_dim=1, latent_size=8, use_STN=False)\n",
    "affine_model = affine_model.to(device)\n",
    "\n",
    "files_dict_loc = '/media/rene/data/MNIST/files_dict.pkl'\n",
    "data_loaders = make_generators_MNIST_CTRNFS(files_dict_loc, batch_size=1, num_workers=4, \n",
    "                                            return_size=28, rotation_range=None, normalize=False)"
   ]
  },
  {
   "cell_type": "code",
   "execution_count": 34,
   "metadata": {},
   "outputs": [
    {
     "name": "stdout",
     "output_type": "stream",
     "text": [
      "Iterations: 2 Loss: 669.2090291748046\n",
      "Iterations: 5 Loss: 664.2208488464355\n",
      "Iterations: 10 Loss: 658.0452225341797\n",
      "Iterations: 20 Loss: 660.5350748901367\n",
      "Iterations: 40 Loss: 653.7899044799805\n"
     ]
    }
   ],
   "source": [
    "for iterations in [2, 5, 10, 20, 40]:\n",
    "    log = AFFINE_MNIST_rot_perf(affine_model, data_loaders['val'], loss_fn, device, fixed_rotation=45, \n",
    "                                optimize=True, iterations=iterations, num_rand_restarts=1, num_imgs=1000)\n",
    "    print(f\"Iterations: {iterations} Loss: {log['loss']}\")"
   ]
  },
  {
   "cell_type": "code",
   "execution_count": 26,
   "metadata": {},
   "outputs": [
    {
     "name": "stdout",
     "output_type": "stream",
     "text": [
      "Rand Restarts: 5 Loss: 6.292737271118164\n",
      "Rand Restarts: 10 Loss: 6.367885220336914\n",
      "Rand Restarts: 20 Loss: 6.184860906982422\n",
      "Rand Restarts: 40 Loss: 6.0255543212890625\n"
     ]
    }
   ],
   "source": [
    "for rand_restarts in [5, 10, 20, 40]:\n",
    "    log = AFFINE_MNIST_rot_perf(affine_model, data_loaders['val'], loss_fn, device, fixed_rotation=45, \n",
    "                                optimize=True, iterations=20, num_rand_restarts=rand_restarts, num_imgs=1000)\n",
    "    print(f\"Rand Restarts: {rand_restarts} Loss: {log['loss']}\")"
   ]
  },
  {
   "cell_type": "markdown",
   "metadata": {},
   "source": [
    "## Performance of optimization over different rotations"
   ]
  },
  {
   "cell_type": "code",
   "execution_count": null,
   "metadata": {},
   "outputs": [
    {
     "name": "stdout",
     "output_type": "stream",
     "text": [
      "rotation: 0\n"
     ]
    }
   ],
   "source": [
    "config_loc = '/media/rene/data/equivariance/mnist/vae_mnist_L16/0129_230250'\n",
    "VAE, data_loader, valid_data_loader, loss_fn, metric_fns, config = get_model_loaders_config(config_loc, old_gpu='cuda:1', new_gpu='cuda:0')\n",
    "VAE = VAE.to(device)\n",
    "\n",
    "AffineVAE = getattr(module_arch, 'AffineVAE')\n",
    "affine_model = AffineVAE(pre_trained_VAE=VAE, img_size=28, input_dim=1, output_dim=1, latent_size=8, use_STN=False)\n",
    "affine_model = affine_model.to(device)\n",
    "\n",
    "files_dict_loc = '/media/rene/data/MNIST/files_dict.pkl'\n",
    "data_loaders = make_generators_MNIST_CTRNFS(files_dict_loc, batch_size=1, num_workers=4, \n",
    "                                            return_size=28, rotation_range=None, normalize=False)\n",
    "\n",
    "results = pd.DataFrame()\n",
    "results_opt = pd.DataFrame()\n",
    "for rotation in range(0, 180, 15):\n",
    "    print(f'rotation: {rotation}')\n",
    "    log = AFFINE_MNIST_rot_perf(affine_model, data_loaders['val'], loss_fn, device, fixed_rotation=rotation, \n",
    "                                optimize=False, iterations=0, num_rand_restarts=0, num_imgs=1000)\n",
    "    log['rotation'] = rotation\n",
    "    results = results.append(log, ignore_index=True)\n",
    "    \n",
    "    log_opt = AFFINE_MNIST_rot_perf(affine_model, data_loaders['val'], loss_fn, device, fixed_rotation=rotation, \n",
    "                                optimize=True, iterations=10, num_rand_restarts=40, num_imgs=1000)\n",
    "    log_opt['rotation'] = rotation\n",
    "    results_opt = results_opt.append(log_opt, ignore_index=True)\n",
    "\n",
    "results.to_csv('/media/rene/code/equivariance/results/affine_rot_nonopt_sgd20_r40.csv')\n",
    "results_opt.to_csv('/media/rene/code/equivariance/results/affine_rot_opt_sgd20_r40.csv')\n",
    "\n",
    "fig, ax = plt.subplots()\n",
    "ax.plot(results['rotation'], results['loss'], label=\"VAE\")\n",
    "ax.plot(results_opt['rotation'], results_opt['loss'], label=\"AVAE\")\n",
    "\n",
    "ax.set(xlabel='Rotation', ylabel='VAE Loss',\n",
    "       title='Effect of optimizing rotation on VAE loss')\n",
    "ax.legend(loc='best')\n",
    "\n",
    "plt.savefig('/media/rene/code/equivariance/imgs/rotation_opt_sgd20_r40.png', bbox='tight')\n",
    "plt.show()"
   ]
  },
  {
   "cell_type": "code",
   "execution_count": 3,
   "metadata": {},
   "outputs": [
    {
     "data": {
      "image/png": "[encoded data removed]",
      "text/plain": [
       "<PIL.PngImagePlugin.PngImageFile image mode=RGBA size=432x288 at 0x7F8BAAAAADD8>"
      ]
     },
     "metadata": {},
     "output_type": "display_data"
    }
   ],
   "source": [
    "result = Image.open('/media/rene/code/equivariance/imgs/rotation_opt_sgd20_r40.png')\n",
    "display(result)"
   ]
  },
  {
   "cell_type": "markdown",
   "metadata": {},
   "source": []
  },
  {
   "cell_type": "markdown",
   "metadata": {},
   "source": [
    "## Optimize for Affine Transforms"
   ]
  },
  {
   "cell_type": "code",
   "execution_count": 99,
   "metadata": {},
   "outputs": [],
   "source": [
    "def affine_mnist_batch(x, rand_affine=True, rand_translate=False,\n",
    "                      degrees=(-180, 180), scale=(.75, 1.5), shear=(-55, 55)):\n",
    "    return_size=40\n",
    "    batch_size = x.shape[0]\n",
    "    x_affine = torch.zeros((batch_size, 1, return_size, return_size))\n",
    "    for i in range(batch_size):\n",
    "        img = TF.to_pil_image(x[i, :, :])\n",
    "        if rand_affine:\n",
    "            if rand_translate:\n",
    "                translate = (.5, .5)\n",
    "            else:\n",
    "                translate = (0, 0)\n",
    "            trans = transforms.RandomAffine(degrees=degrees, translate=(0, 0), \n",
    "                                            scale=scale, shear=shear, fillcolor=0)\n",
    "        img = trans(img)\n",
    "        img = transforms.ToTensor()(img)\n",
    "        img = pad_to_size(img, return_size)\n",
    "        img = transforms.Normalize((0.1307,), (0.3081,))(img)\n",
    "        x_affine[i, :, :, :] = img\n",
    "    return x_affine\n",
    "\n",
    "\n",
    "def AFFINE_MNIST_perf(model, data_loader, loss_fn, device, rand_translate=False, \n",
    "                      optimize=False, iterations=0, num_rand_restarts=200, num_batches=1000):\n",
    "    with torch.cuda.device(device.index):\n",
    "        model = model.to(device)\n",
    "        model.eval()\n",
    "        total_loss = 0.0\n",
    "\n",
    "        with torch.no_grad():\n",
    "            for i, (data, target) in enumerate(data_loader):\n",
    "                batch_size = data.shape[0]\n",
    "                affine_x = affine_mnist_batch(data, rand_affine=True, rand_translate=rand_translate)\n",
    "                affine_x, target = affine_x.to(device), target.to(device)\n",
    "                \n",
    "                if optimize:\n",
    "                    for img_idx in range(batch_size):\n",
    "                        best_affine, loss = affine_model.optimize_affine(affine_x[img_idx, :, :, :].unsqueeze(0), \n",
    "                                                                         num_times=num_rand_restarts, \n",
    "                                                                         iterations=iterations, \n",
    "                                                                         translate=rand_translate)\n",
    "                        total_loss += loss\n",
    "                    \n",
    "                else:\n",
    "                    output = model(affine_x, deterministic=True, theta=0.0)\n",
    "                    loss = loss_fn(output, affine_x).item()\n",
    "                    total_loss += loss*batch_size\n",
    "                    \n",
    "                if i>num_batches:\n",
    "                    break\n",
    "\n",
    "        n_samples = len(data_loader.sampler)\n",
    "        log = {'loss': total_loss / num_imgs}\n",
    "        return log"
   ]
  },
  {
   "cell_type": "markdown",
   "metadata": {},
   "source": [
    "### Look at Affine Batch and how the optimization works"
   ]
  },
  {
   "cell_type": "code",
   "execution_count": 61,
   "metadata": {},
   "outputs": [
    {
     "data": {
      "image/png": "[encoded data removed]",
      "text/plain": [
       "<Figure size 720x720 with 6 Axes>"
      ]
     },
     "metadata": {
      "needs_background": "light"
     },
     "output_type": "display_data"
    }
   ],
   "source": [
    "def display_batch(x, recon_x):\n",
    "    \"\"\"Display tensor images\"\"\"\n",
    "    fig, ax = plt.subplots(3, 2, sharex='col', sharey='row',figsize=(10,10))\n",
    "    for i in range(3):\n",
    "        ax[i, 0].imshow(torch_to_np(x[i, :, :]), cmap='Greys',  interpolation='nearest')\n",
    "        ax[i, 1].imshow(torch_to_np(recon_x[i, :, :]), cmap='Greys',  interpolation='nearest')\n",
    "        ax[i, 0].axis('off')\n",
    "        ax[i, 1].axis('off')\n",
    "    plt.show()\n",
    "    \n",
    "data_loaders = make_generators_MNIST_CTRNFS(files_dict_loc, batch_size=128, num_workers=4, \n",
    "                                            return_size=28, rotation_range=None, normalize=False)\n",
    "    \n",
    "x, y = next(iter(data_loaders['val']))\n",
    "x_affine = affine_mnist_batch(x, rand_affine=True, rand_translate=False)\n",
    "\n",
    "display_batch(x, x_affine)"
   ]
  },
  {
   "cell_type": "code",
   "execution_count": 79,
   "metadata": {},
   "outputs": [
    {
     "data": {
      "image/png": "[encoded data removed]",
      "text/plain": [
       "<Figure size 864x576 with 6 Axes>"
      ]
     },
     "metadata": {},
     "output_type": "display_data"
    }
   ],
   "source": [
    "def display_vae_avae_affine(avae_model, files_dict_loc, num_samples=6, num_times=10, save_loc=None):\n",
    "    \n",
    "    data_loaders = make_generators_MNIST_CTRNFS(files_dict_loc, batch_size=128, num_workers=4, \n",
    "                                            return_size=28, rotation_range=None, normalize=False)\n",
    "    \n",
    "    x, y = next(iter(data_loaders['val']))\n",
    "    x_affine = affine_mnist_batch(x, rand_affine=True, rand_translate=False,\n",
    "                                  degrees=(90, 90), scale=(1.5, 1.5), shear=(-30, -30))\n",
    "\n",
    "    fig, ax = plt.subplots(2, num_samples, sharex=True, sharey=True, figsize=(12,8))\n",
    "    row_names = ['VAE', 'AVAE']\n",
    "    \n",
    "    for i in range(num_samples):\n",
    "        idx = random.randint(0, x.size()[0])\n",
    "        img = x[idx, :, :, :].unsqueeze(0)\n",
    "        img = img.to(device)\n",
    "        affine_img = x_affine[idx, :, :, :].unsqueeze(0)\n",
    "        affine_img = affine_img.to(device)\n",
    "\n",
    "        affine_vae_output = avae_model.VAE(affine_img, deterministic=True)\n",
    "        \n",
    "        best_affine_params, loss = affine_model.optimize_affine(affine_img, \n",
    "                                                                num_times=num_times, \n",
    "                                                                iterations=30, \n",
    "                                                                translate=False)\n",
    "        \n",
    "        affine_avae_output = avae_model(affine_img,  deterministic=True, affine_params=best_affine_params)\n",
    "            \n",
    "        ax[0, i].imshow(torch_to_np(affine_vae_output[0][:, :, 4:36, 4:36]), cmap='Greys',  interpolation='nearest')\n",
    "        ax[1, i].imshow(torch_to_np(affine_avae_output[0][:, :, 4:36, 4:36]), cmap='Greys',  interpolation='nearest')\n",
    "\n",
    "        ax[0, 0].set_ylabel(row_names[0])\n",
    "        ax[1, 0].set_ylabel(row_names[1])\n",
    "\n",
    "    plt.xticks([])\n",
    "    plt.yticks([])\n",
    "    \n",
    "    if save_loc:\n",
    "        plt.savefig(save_loc, bbox_inches='tight')\n",
    "    \n",
    "    plt.show()\n",
    "\n",
    "\n",
    "config_loc = '/media/rene/data/equivariance/mnist/vae_mnist_L16/0129_230250'\n",
    "VAE, data_loader, valid_data_loader, loss_fn, metric_fns, config = get_model_loaders_config(config_loc, old_gpu='cuda:1', new_gpu='cuda:0')\n",
    "VAE = VAE.to(device)\n",
    "\n",
    "AffineVAE = getattr(module_arch, 'AffineVAE')\n",
    "affine_model = AffineVAE(pre_trained_VAE=VAE, img_size=28, input_dim=1, output_dim=1, latent_size=8, use_STN=False)\n",
    "affine_model = affine_model.to(device)\n",
    "\n",
    "files_dict_loc = '/media/rene/data/MNIST/files_dict.pkl'\n",
    "\n",
    "# display_vae_avae_affine(affine_model, files_dict_loc, num_samples=3, num_times=120,\n",
    "#                        save_loc='/media/rene/code/equivariance/imgs/vae_avae_affine_ex.png')"
   ]
  },
  {
   "cell_type": "code",
   "execution_count": null,
   "metadata": {},
   "outputs": [],
   "source": [
    "config_loc = '/media/rene/data/equivariance/mnist/vae_mnist_L16/0129_230250'\n",
    "VAE, data_loader, valid_data_loader, loss_fn, metric_fns, config = get_model_loaders_config(config_loc, old_gpu='cuda:1', new_gpu='cuda:0')\n",
    "VAE = VAE.to(device)\n",
    "\n",
    "AffineVAE = getattr(module_arch, 'AffineVAE')\n",
    "affine_model = AffineVAE(pre_trained_VAE=VAE, img_size=28, input_dim=1, output_dim=1, latent_size=8, use_STN=False)\n",
    "affine_model = affine_model.to(device)\n",
    "\n",
    "files_dict_loc = '/media/rene/data/MNIST/files_dict.pkl'\n",
    "data_loaders = make_generators_MNIST_CTRNFS(files_dict_loc, batch_size=1, num_workers=2, \n",
    "                                            return_size=28, rotation_range=None, normalize=False)\n",
    "\n",
    "results = pd.DataFrame()\n",
    "num_batches = 1000\n",
    "\n",
    "\n",
    "log = {}\n",
    "log['loss_vae'] = AFFINE_MNIST_perf(affine_model, data_loaders['val'], loss_fn, device, \n",
    "                                    rand_translate=False, optimize=False, \n",
    "                                    iterations=0, num_rand_restarts=0, num_batches=num_batches)\n",
    "\n",
    "\n",
    "log['loss_avae'] = AFFINE_MNIST_perf(affine_model, data_loaders['val'], loss_fn, device, \n",
    "                                     rand_translate=False, optimize=True, \n",
    "                                     iterations=30, num_rand_restarts=120, num_batches=num_batches)\n",
    "\n",
    "results = results.append(log, ignore_index=True)\n",
    "\n",
    "results.to_csv('/media/rene/code/equivariance/results/affine_L8_rand_affine_sgd30_r120_1000t.csv')"
   ]
  },
  {
   "cell_type": "code",
   "execution_count": null,
   "metadata": {},
   "outputs": [],
   "source": [
    "results"
   ]
  },
  {
   "cell_type": "code",
   "execution_count": 3,
   "metadata": {},
   "outputs": [],
   "source": [
    "rot_hist_loc = '/media/rene/data/equivariance/mnist/batch_avae_mnist_L8_rotate_save_hist/the_only_rot_history.pkl'\n",
    "\n",
    "with open(rot_hist_loc, 'rb') as f:\n",
    "    rot_hist = pickle.load(f)"
   ]
  },
  {
   "cell_type": "code",
   "execution_count": 5,
   "metadata": {},
   "outputs": [
    {
     "data": {
      "text/plain": [
       "1"
      ]
     },
     "execution_count": 5,
     "metadata": {},
     "output_type": "execute_result"
    }
   ],
   "source": [
    "len(rot_hist)"
   ]
  },
  {
   "cell_type": "code",
   "execution_count": null,
   "metadata": {},
   "outputs": [],
   "source": []
  },
  {
   "cell_type": "code",
   "execution_count": null,
   "metadata": {},
   "outputs": [],
   "source": []
  }
 ],
 "metadata": {
  "kernelspec": {
   "display_name": "HVAE",
   "language": "python",
   "name": "hvae"
  },
  "language_info": {
   "codemirror_mode": {
    "name": "ipython",
    "version": 3
   },
   "file_extension": ".py",
   "mimetype": "text/x-python",
   "name": "python",
   "nbconvert_exporter": "python",
   "pygments_lexer": "ipython3",
   "version": "3.6.7"
  }
 },
 "nbformat": 4,
 "nbformat_minor": 2
}
